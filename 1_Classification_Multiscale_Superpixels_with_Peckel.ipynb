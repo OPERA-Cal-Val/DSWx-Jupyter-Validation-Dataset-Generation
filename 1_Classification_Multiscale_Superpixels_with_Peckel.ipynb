{
 "cells": [
  {
   "cell_type": "markdown",
   "id": "better-dressing",
   "metadata": {},
   "source": [
    "This is a slightly involved classification notebook - using superpixels to generate features. The results look good in that we reduce commission errors. The segmentation might be "
   ]
  },
  {
   "cell_type": "code",
   "execution_count": null,
   "id": "induced-trauma",
   "metadata": {
    "ExecuteTime": {
     "end_time": "2022-07-14T01:00:40.389747Z",
     "start_time": "2022-07-14T01:00:40.367123Z"
    }
   },
   "outputs": [],
   "source": [
    "%load_ext autoreload\n",
    "%autoreload 2"
   ]
  },
  {
   "cell_type": "code",
   "execution_count": null,
   "id": "included-studio",
   "metadata": {
    "ExecuteTime": {
     "end_time": "2022-07-14T01:00:45.160450Z",
     "start_time": "2022-07-14T01:00:40.393748Z"
    }
   },
   "outputs": [],
   "source": [
    "from tqdm import tqdm\n",
    "import rasterio\n",
    "import matplotlib.pyplot as plt\n",
    "import numpy as np\n",
    "from skimage.segmentation import felzenszwalb\n",
    "from skimage.color import label2rgb\n",
    "from rscube.nd_tools import (get_array_from_features, \n",
    "                             get_features_from_array, \n",
    "                             get_superpixel_area_as_features, \n",
    "                             get_superpixel_means_as_features,\n",
    "                             get_superpixel_stds_as_features, \n",
    "                             scale_img)\n",
    "from rscube.rio_tools import (get_geopandas_features_from_array, \n",
    "                              rasterize_shapes_to_array, \n",
    "                              get_indices_from_extent, get_cropped_profile)\n",
    "\n",
    "from sklearn.cluster import KMeans\n",
    "from skimage.segmentation import felzenszwalb\n",
    "from skimage.color import label2rgb\n",
    "from pprint import pprint\n",
    "import geopandas as gpd\n",
    "from rasterio import plot\n",
    "import pandas as pd\n",
    "from sklearn.model_selection import train_test_split\n",
    "from sklearn.ensemble import RandomForestClassifier\n",
    "from sklearn.metrics import precision_recall_fscore_support as score\n",
    "import geopandas as gpd\n",
    "from shapely.geometry import box\n",
    "from rasterio.windows import Window\n",
    "from pathlib import Path\n",
    "from rasterio.crs import CRS\n",
    "from dem_stitcher.rio_tools import reproject_arr_to_match_profile\n",
    "import joblib"
   ]
  },
  {
   "cell_type": "markdown",
   "id": "transparent-appliance",
   "metadata": {},
   "source": [
    "Currently, we don't have a way to link chips and planet IDs we are using so this is manual."
   ]
  },
  {
   "cell_type": "code",
   "execution_count": null,
   "id": "bearing-illness",
   "metadata": {
    "ExecuteTime": {
     "end_time": "2022-07-14T01:00:45.209179Z",
     "start_time": "2022-07-14T01:00:45.163394Z"
    },
    "tags": [
     "parameters"
    ]
   },
   "outputs": [],
   "source": [
    "PLANET_ID = '20211003_161639_91_241d'"
   ]
  },
  {
   "cell_type": "code",
   "execution_count": null,
   "id": "based-medication",
   "metadata": {
    "ExecuteTime": {
     "end_time": "2022-07-14T01:00:45.260434Z",
     "start_time": "2022-07-14T01:00:45.211056Z"
    }
   },
   "outputs": [],
   "source": [
    "planet_image_path = Path(f'local_chips/{PLANET_ID}_3B_AnalyticMS_SR_8b.tif')\n",
    "planet_image_path.exists()"
   ]
  },
  {
   "cell_type": "markdown",
   "id": "sophisticated-exemption",
   "metadata": {},
   "source": [
    "# Path"
   ]
  },
  {
   "cell_type": "code",
   "execution_count": null,
   "id": "endless-arbor",
   "metadata": {
    "ExecuteTime": {
     "end_time": "2022-07-14T01:00:45.301686Z",
     "start_time": "2022-07-14T01:00:45.262121Z"
    }
   },
   "outputs": [],
   "source": [
    "out_class_dir = Path(f'classification_outputs/{PLANET_ID}_classification')\n",
    "out_class_dir.mkdir(exist_ok=True, parents=True)"
   ]
  },
  {
   "cell_type": "markdown",
   "id": "uniform-buyer",
   "metadata": {},
   "source": [
    "# Load Chips\n",
    "\n",
    "Want to crop image based on chip"
   ]
  },
  {
   "cell_type": "code",
   "execution_count": null,
   "id": "welsh-recipient",
   "metadata": {
    "ExecuteTime": {
     "end_time": "2022-07-14T01:00:45.375663Z",
     "start_time": "2022-07-14T01:00:45.303561Z"
    }
   },
   "outputs": [],
   "source": [
    "df = gpd.read_file('chips.geojson')\n",
    "df.head()"
   ]
  },
  {
   "cell_type": "code",
   "execution_count": null,
   "id": "fancy-german",
   "metadata": {
    "ExecuteTime": {
     "end_time": "2022-07-14T01:00:45.434806Z",
     "start_time": "2022-07-14T01:00:45.377375Z"
    }
   },
   "outputs": [],
   "source": [
    "with rasterio.open(planet_image_path) as ds:\n",
    "    image_crs = ds.crs\n",
    "    image_box = box(*ds.bounds)\n",
    "    image_bounds = list(ds.bounds)\n",
    "    image_profile = ds.profile\n",
    "    image_shape = image_profile['height'], image_profile['width']\n",
    "\n",
    "image_shape"
   ]
  },
  {
   "cell_type": "code",
   "execution_count": null,
   "id": "sapphire-creativity",
   "metadata": {
    "ExecuteTime": {
     "end_time": "2022-07-14T01:00:45.499456Z",
     "start_time": "2022-07-14T01:00:45.436582Z"
    }
   },
   "outputs": [],
   "source": [
    "df_utm = df.to_crs(image_crs)\n",
    "intersects = df_utm.geometry.intersects(image_box)\n",
    "df_chip = df_utm[intersects].reset_index(drop=True)\n",
    "df_chip.head()"
   ]
  },
  {
   "cell_type": "markdown",
   "id": "elder-departure",
   "metadata": {},
   "source": [
    "It's a little weird because all Planet Imagery is in UTM and Chips are in Lon/Lat."
   ]
  },
  {
   "cell_type": "code",
   "execution_count": null,
   "id": "sunrise-avatar",
   "metadata": {
    "ExecuteTime": {
     "end_time": "2022-07-14T01:00:45.545426Z",
     "start_time": "2022-07-14T01:00:45.503880Z"
    }
   },
   "outputs": [],
   "source": [
    "(start_y, start_x), (stop_y, stop_x) = get_indices_from_extent(image_profile['transform'],\n",
    "                                                               list(df_chip.total_bounds),\n",
    "                                                               shape=image_shape)\n",
    "window = Window.from_slices((start_y, stop_y), (start_x, stop_x))\n",
    "sx, sy = np.s_[start_x: stop_x], np.s_[start_y: stop_y]\n",
    "profile_cropped = get_cropped_profile(image_profile, sx, sy)"
   ]
  },
  {
   "cell_type": "markdown",
   "id": "careful-constant",
   "metadata": {},
   "source": [
    "We are going to label things based on the chip index."
   ]
  },
  {
   "cell_type": "code",
   "execution_count": null,
   "id": "respiratory-spanking",
   "metadata": {
    "ExecuteTime": {
     "end_time": "2022-07-14T01:00:45.587479Z",
     "start_time": "2022-07-14T01:00:45.547184Z"
    }
   },
   "outputs": [],
   "source": [
    "index = df_chip.random_id[0]\n",
    "index"
   ]
  },
  {
   "cell_type": "code",
   "execution_count": null,
   "id": "continental-fundamentals",
   "metadata": {
    "ExecuteTime": {
     "end_time": "2022-07-14T01:00:50.534500Z",
     "start_time": "2022-07-14T01:00:45.589136Z"
    }
   },
   "outputs": [],
   "source": [
    "with rasterio.open(planet_image_path) as ds:\n",
    "    image_c = ds.read(window=window)\n",
    "    image_c = image_c.transpose([1, 2, 0]).astype(np.float32)\n",
    "image_c.shape"
   ]
  },
  {
   "cell_type": "code",
   "execution_count": null,
   "id": "incomplete-festival",
   "metadata": {
    "ExecuteTime": {
     "end_time": "2022-07-14T01:00:50.580960Z",
     "start_time": "2022-07-14T01:00:50.535746Z"
    }
   },
   "outputs": [],
   "source": [
    "with rasterio.open(planet_image_path) as ds:\n",
    "\n",
    "    t = ds.tags()\n",
    "    d = ds.descriptions\n",
    "    \n",
    "list(enumerate(d))"
   ]
  },
  {
   "cell_type": "code",
   "execution_count": null,
   "id": "animated-yeast",
   "metadata": {
    "ExecuteTime": {
     "end_time": "2022-07-14T01:00:50.738367Z",
     "start_time": "2022-07-14T01:00:50.582775Z"
    }
   },
   "outputs": [],
   "source": [
    "mask = (image_c[..., 0] == image_profile['nodata'])\n",
    "image_c[mask, :] = np.nan"
   ]
  },
  {
   "cell_type": "code",
   "execution_count": null,
   "id": "nuclear-afternoon",
   "metadata": {
    "ExecuteTime": {
     "end_time": "2022-07-14T01:00:56.863324Z",
     "start_time": "2022-07-14T01:00:50.740031Z"
    }
   },
   "outputs": [],
   "source": [
    "rgb = scale_img(image_c[..., [7, 5, 3]])\n",
    "# plt.imshow(rgb)"
   ]
  },
  {
   "cell_type": "code",
   "execution_count": null,
   "id": "efficient-garden",
   "metadata": {
    "ExecuteTime": {
     "end_time": "2022-07-14T01:01:05.566139Z",
     "start_time": "2022-07-14T01:00:56.865167Z"
    }
   },
   "outputs": [],
   "source": [
    "image = image_c[..., [7, 5, 3]]\n",
    "\n",
    "image_view = image.copy()\n",
    "for k in tqdm(range(3)):\n",
    "    m0 = np.nanpercentile(image[~mask, k], 2)\n",
    "    m1 = np.nanpercentile(image[~mask, k], 98)\n",
    "    image_view[~mask, k] = np.clip(image[~mask, k], m0, m1)"
   ]
  },
  {
   "cell_type": "code",
   "execution_count": null,
   "id": "mineral-franklin",
   "metadata": {
    "ExecuteTime": {
     "end_time": "2022-07-14T01:01:11.426898Z",
     "start_time": "2022-07-14T01:01:05.568099Z"
    }
   },
   "outputs": [],
   "source": [
    "rgb = scale_img(image_view)\n",
    "plt.imshow(rgb)"
   ]
  },
  {
   "cell_type": "code",
   "execution_count": null,
   "id": "entitled-feeding",
   "metadata": {
    "ExecuteTime": {
     "end_time": "2022-07-14T01:01:21.037131Z",
     "start_time": "2022-07-14T01:01:11.428939Z"
    }
   },
   "outputs": [],
   "source": [
    "p_cropped = profile_cropped.copy()\n",
    "p_cropped['count'] = 3\n",
    "p_cropped['dtype'] = 'float32'\n",
    "p_cropped['nodata'] = np.nan\n",
    "with rasterio.open(out_class_dir / f'cropped_to_chip_{index}.tif', 'w', **p_cropped) as ds:\n",
    "    ds.write(rgb.transpose([2, 0, 1]))"
   ]
  },
  {
   "cell_type": "markdown",
   "id": "through-shore",
   "metadata": {},
   "source": [
    "You could use the above to figure out some training data. We label it `training_data_{index}`, according to the chip ID.\n",
    "\n",
    "# Segmentation\n",
    "\n",
    "Going to use multiscale superpixels - see [this paper](https://www.mdpi.com/2072-4292/12/12/2048) and the references. I learned about them [here](https://link.springer.com/chapter/10.1007/978-94-017-7239-6_8).\n",
    "\n",
    "Best discussion of felzenswalb algorithm (and parameters below) is by a fellow JPL team: https://ieeexplore.ieee.org/document/5593215"
   ]
  },
  {
   "cell_type": "code",
   "execution_count": null,
   "id": "norman-payday",
   "metadata": {
    "ExecuteTime": {
     "end_time": "2022-07-14T01:01:21.077259Z",
     "start_time": "2022-07-14T01:01:21.038779Z"
    }
   },
   "outputs": [],
   "source": [
    "def get_segmentation(image, min_size):\n",
    "    mask = np.isnan(image[..., 0])\n",
    "    image_seg = image.copy()\n",
    "    # So that np.nans don't give us problems\n",
    "    image_seg[mask, :] = -10_000\n",
    "    segments_fz = felzenszwalb(image_seg,\n",
    "                               # may want to play with this\n",
    "                               scale=.1, \n",
    "                               # normally gaussian filter is applied - can experiment\n",
    "                               sigma=0.2,\n",
    "                               # minimum size of segments\n",
    "                               min_size=min_size\n",
    "                              )\n",
    "    return segments_fz"
   ]
  },
  {
   "cell_type": "markdown",
   "id": "shared-priority",
   "metadata": {},
   "source": [
    "We are going to use the RGB image from above."
   ]
  },
  {
   "cell_type": "code",
   "execution_count": null,
   "id": "considerable-jesus",
   "metadata": {
    "ExecuteTime": {
     "end_time": "2022-07-14T01:08:12.379031Z",
     "start_time": "2022-07-14T01:01:21.078866Z"
    }
   },
   "outputs": [],
   "source": [
    "get_segmentation_partial = lambda min_size: get_segmentation(rgb, min_size)\n",
    "segmentations = list(map(get_segmentation_partial, tqdm([5, 20, 50])))"
   ]
  },
  {
   "cell_type": "code",
   "execution_count": null,
   "id": "architectural-directory",
   "metadata": {
    "ExecuteTime": {
     "end_time": "2022-07-14T01:08:27.545967Z",
     "start_time": "2022-07-14T01:08:12.380646Z"
    }
   },
   "outputs": [],
   "source": [
    "X = segmentations[0].copy()\n",
    "X[mask] = 0\n",
    "#superpixel_labels_viz = label2rgb(X, bg_label=0)\n",
    "#plt.imshow(superpixel_labels_viz)"
   ]
  },
  {
   "cell_type": "markdown",
   "id": "documentary-wheel",
   "metadata": {},
   "source": [
    "Below would be used to save the segments to a vector file. It takes some time and the segments can be approximately ~1 GB."
   ]
  },
  {
   "cell_type": "code",
   "execution_count": null,
   "id": "racial-equity",
   "metadata": {
    "ExecuteTime": {
     "end_time": "2022-07-14T01:08:27.590151Z",
     "start_time": "2022-07-14T01:08:27.547543Z"
    }
   },
   "outputs": [],
   "source": [
    "segments_fz = segmentations[1]"
   ]
  },
  {
   "cell_type": "code",
   "execution_count": null,
   "id": "sublime-shell",
   "metadata": {
    "ExecuteTime": {
     "end_time": "2022-07-14T01:08:27.629846Z",
     "start_time": "2022-07-14T01:08:27.591780Z"
    }
   },
   "outputs": [],
   "source": [
    "%%time\n",
    "\n",
    "# features = get_geopandas_features_from_array(segments_fz.astype(np.int32), \n",
    "#                                              profile['transform'], \n",
    "#                                              label_name='label')"
   ]
  },
  {
   "cell_type": "code",
   "execution_count": null,
   "id": "congressional-twelve",
   "metadata": {
    "ExecuteTime": {
     "end_time": "2022-07-14T01:08:27.668256Z",
     "start_time": "2022-07-14T01:08:27.631516Z"
    }
   },
   "outputs": [],
   "source": [
    "%%time\n",
    "\n",
    "# df_segments = gpd.GeoDataFrame.from_features(features)\n",
    "# df_segments.head()"
   ]
  },
  {
   "cell_type": "code",
   "execution_count": null,
   "id": "lightweight-concept",
   "metadata": {
    "ExecuteTime": {
     "end_time": "2022-07-14T01:08:27.707630Z",
     "start_time": "2022-07-14T01:08:27.670289Z"
    }
   },
   "outputs": [],
   "source": [
    "%%time\n",
    "\n",
    "# df_segments.crs = profile['crs']\n",
    "# df_segments.to_file('segments.geojson', driver='GeoJSON')"
   ]
  },
  {
   "cell_type": "markdown",
   "id": "twenty-reservation",
   "metadata": {},
   "source": [
    "# Generate Features"
   ]
  },
  {
   "cell_type": "code",
   "execution_count": null,
   "id": "formal-wrapping",
   "metadata": {
    "ExecuteTime": {
     "end_time": "2022-07-14T01:08:27.746722Z",
     "start_time": "2022-07-14T01:08:27.709333Z"
    }
   },
   "outputs": [],
   "source": [
    "rgb.shape"
   ]
  },
  {
   "cell_type": "code",
   "execution_count": null,
   "id": "vanilla-invite",
   "metadata": {
    "ExecuteTime": {
     "end_time": "2022-07-14T01:08:27.788279Z",
     "start_time": "2022-07-14T01:08:27.748313Z"
    }
   },
   "outputs": [],
   "source": [
    "pixel_features = rgb.reshape((-1, rgb.shape[-1]))"
   ]
  },
  {
   "cell_type": "code",
   "execution_count": null,
   "id": "ceramic-pollution",
   "metadata": {
    "ExecuteTime": {
     "end_time": "2022-07-14T01:08:47.336755Z",
     "start_time": "2022-07-14T01:08:27.795454Z"
    }
   },
   "outputs": [],
   "source": [
    "multi_superpixel_features_mean = [get_superpixel_means_as_features(seg, rgb) for seg in tqdm(segmentations)]"
   ]
  },
  {
   "cell_type": "code",
   "execution_count": null,
   "id": "adaptive-developer",
   "metadata": {
    "ExecuteTime": {
     "end_time": "2022-07-14T01:08:47.379345Z",
     "start_time": "2022-07-14T01:08:47.338375Z"
    }
   },
   "outputs": [],
   "source": [
    "multi_superpixel_features_mean[0].shape"
   ]
  },
  {
   "cell_type": "code",
   "execution_count": null,
   "id": "worse-comparison",
   "metadata": {
    "ExecuteTime": {
     "end_time": "2022-07-14T01:09:10.952627Z",
     "start_time": "2022-07-14T01:08:47.381225Z"
    }
   },
   "outputs": [],
   "source": [
    "multi_superpixel_features_std = [get_superpixel_stds_as_features(seg, rgb) for seg in tqdm(segmentations)]"
   ]
  },
  {
   "cell_type": "code",
   "execution_count": null,
   "id": "floppy-screw",
   "metadata": {
    "ExecuteTime": {
     "end_time": "2022-07-14T01:10:36.128262Z",
     "start_time": "2022-07-14T01:09:10.954385Z"
    }
   },
   "outputs": [],
   "source": [
    "multi_superpixel_means = [get_array_from_features(seg, feature) \n",
    "                          for (seg, feature) in zip(tqdm(segmentations),                                                                                                     multi_superpixel_features_mean)]\n",
    "multi_superpixel_stds = [get_array_from_features(seg, feature) \n",
    "                          for (seg, feature) in zip(tqdm(segmentations),                                                                                                     multi_superpixel_features_std)]"
   ]
  },
  {
   "cell_type": "code",
   "execution_count": null,
   "id": "romance-learning",
   "metadata": {
    "ExecuteTime": {
     "end_time": "2022-07-14T01:10:44.492189Z",
     "start_time": "2022-07-14T01:10:36.130273Z"
    }
   },
   "outputs": [],
   "source": [
    "scale_ind = 0\n",
    "img_super = multi_superpixel_means[scale_ind]\n",
    "p_superp = p_cropped.copy()\n",
    "p_superp['count'] = 3\n",
    "\n",
    "with rasterio.open(out_class_dir / f'superpixel_means_{scale_ind}_{index}.tif', 'w', **p_superp) as ds:\n",
    "    ds.write(img_super.transpose([2, 0, 1]))"
   ]
  },
  {
   "cell_type": "code",
   "execution_count": null,
   "id": "indonesian-orlando",
   "metadata": {
    "ExecuteTime": {
     "end_time": "2022-07-14T01:10:44.531902Z",
     "start_time": "2022-07-14T01:10:44.493863Z"
    }
   },
   "outputs": [],
   "source": [
    "# scale_ind = 0\n",
    "# img_super = multi_superpixel_stds[scale_ind]\n",
    "\n",
    "# with rasterio.open(out_class_dir / f'superpixel_stds_{scale_ind}_{index}.tif', 'w', **p_superp) as ds:\n",
    "#     ds.write(img_super.transpose([2, 0, 1]))"
   ]
  },
  {
   "cell_type": "code",
   "execution_count": null,
   "id": "raised-substitute",
   "metadata": {
    "ExecuteTime": {
     "end_time": "2022-07-14T01:10:44.574521Z",
     "start_time": "2022-07-14T01:10:44.533469Z"
    }
   },
   "outputs": [],
   "source": [
    "superpixel_means_pixel_f = [superpixel_means.reshape((-1, rgb.shape[-1])) \n",
    "                            for superpixel_means in multi_superpixel_means]\n",
    "superpixel_stds_pixel_f = [superpixel_stds.reshape((-1, rgb.shape[-1])) \n",
    "                            for superpixel_stds in multi_superpixel_stds]"
   ]
  },
  {
   "cell_type": "code",
   "execution_count": null,
   "id": "referenced-diamond",
   "metadata": {
    "ExecuteTime": {
     "end_time": "2022-07-14T01:10:51.941399Z",
     "start_time": "2022-07-14T01:10:44.576143Z"
    }
   },
   "outputs": [],
   "source": [
    "all_features = np.hstack(([pixel_features]  \n",
    "                          + superpixel_means_pixel_f \n",
    "                          + superpixel_stds_pixel_f\n",
    "                         ))\n",
    "all_features.shape"
   ]
  },
  {
   "cell_type": "markdown",
   "id": "statutory-cornell",
   "metadata": {},
   "source": [
    "# Generate Training Data\n",
    "\n",
    "Using Peckel Occurance data to generate training data"
   ]
  },
  {
   "cell_type": "code",
   "execution_count": null,
   "id": "union-solomon",
   "metadata": {
    "ExecuteTime": {
     "end_time": "2022-07-14T01:10:51.999363Z",
     "start_time": "2022-07-14T01:10:51.943151Z"
    }
   },
   "outputs": [],
   "source": [
    "from osgeo import gdal\n",
    "from dem_stitcher.rio_window import read_raster_from_window\n",
    "from rasterio.warp import transform_bounds\n",
    "\n",
    "def build_peckel_vrt(extent: list, \n",
    "                     out_path: Path):\n",
    "    df_peckel_data = gpd.read_file('peckel_tiles.geojson')\n",
    "    bbox = box(*extent)\n",
    "    ind_inter = df_peckel_data.geometry.intersects(bbox)\n",
    "    df_subset = df_peckel_data[ind_inter].reset_index(drop=True)\n",
    "    gdal.BuildVRT(str(out_path), df_subset.source_url.tolist())\n",
    "    return out_path\n",
    "\n",
    "def get_peckel_raster(extent:list) -> tuple:\n",
    "    tmp_vrt = Path('peckel_data_tmp.vrt')\n",
    "    build_peckel_vrt(extent, tmp_vrt)\n",
    "    X, p = read_raster_from_window(tmp_vrt,\n",
    "                                   extent,\n",
    "                                   CRS.from_epsg(4326))\n",
    "    tmp_vrt.unlink()\n",
    "    p['driver'] = 'GTiff'\n",
    "    return X, p"
   ]
  },
  {
   "cell_type": "code",
   "execution_count": null,
   "id": "bound-marriage",
   "metadata": {
    "ExecuteTime": {
     "end_time": "2022-07-14T01:10:52.048567Z",
     "start_time": "2022-07-14T01:10:52.000808Z"
    }
   },
   "outputs": [],
   "source": [
    "df_chip.to_crs(4326).total_bounds"
   ]
  },
  {
   "cell_type": "code",
   "execution_count": null,
   "id": "partial-study",
   "metadata": {
    "ExecuteTime": {
     "end_time": "2022-07-14T01:11:10.873189Z",
     "start_time": "2022-07-14T01:10:52.050236Z"
    }
   },
   "outputs": [],
   "source": [
    "X_occ, p_occ = get_peckel_raster(df_chip.to_crs(4326).total_bounds)"
   ]
  },
  {
   "cell_type": "code",
   "execution_count": null,
   "id": "intimate-blackberry",
   "metadata": {
    "ExecuteTime": {
     "end_time": "2022-07-14T01:11:10.922936Z",
     "start_time": "2022-07-14T01:11:10.874941Z"
    }
   },
   "outputs": [],
   "source": [
    "with rasterio.open(out_class_dir / f'occurence_c{index}.tif', 'w', **p_occ) as ds:\n",
    "    ds.write(X_occ, 1)"
   ]
  },
  {
   "cell_type": "code",
   "execution_count": null,
   "id": "subject-mention",
   "metadata": {
    "ExecuteTime": {
     "end_time": "2022-07-14T01:11:11.087789Z",
     "start_time": "2022-07-14T01:11:10.924662Z"
    }
   },
   "outputs": [],
   "source": [
    "#plt.imshow(X_occ)"
   ]
  },
  {
   "cell_type": "code",
   "execution_count": null,
   "id": "beneficial-unemployment",
   "metadata": {
    "ExecuteTime": {
     "end_time": "2022-07-14T01:11:11.187013Z",
     "start_time": "2022-07-14T01:11:11.089827Z"
    }
   },
   "outputs": [],
   "source": [
    "from scipy import ndimage\n",
    "\n",
    "OCC_MIN = 30\n",
    "DIST_TO_EXTENT = 5\n",
    "\n",
    "water_ind = (X_occ >= OCC_MIN)\n",
    "water_extent = (X_occ > 0)\n",
    "\n",
    "water_extent_arr = (~water_extent).astype(int)\n",
    "water_dist = ndimage.distance_transform_edt(water_extent_arr)\n",
    "\n",
    "land_ind = water_dist > DIST_TO_EXTENT"
   ]
  },
  {
   "cell_type": "code",
   "execution_count": null,
   "id": "trained-poster",
   "metadata": {
    "ExecuteTime": {
     "end_time": "2022-07-14T01:11:11.566975Z",
     "start_time": "2022-07-14T01:11:11.188991Z"
    }
   },
   "outputs": [],
   "source": [
    "# fig, ax = plt.subplots(1, 3, figsize=(15,5))\n",
    "\n",
    "# ax[0].imshow(water_ind)\n",
    "# ax[0].set_title('Water Mask')\n",
    "\n",
    "# ax[1].imshow(water_dist)\n",
    "# ax[1].set_title('Distance to non-zero occurence')\n",
    "\n",
    "# ax[2].imshow(land_ind)\n",
    "# ax[2].set_title('Land Mask')"
   ]
  },
  {
   "cell_type": "code",
   "execution_count": null,
   "id": "laden-lexington",
   "metadata": {
    "ExecuteTime": {
     "end_time": "2022-07-14T17:09:20.659569Z",
     "start_time": "2022-07-14T17:09:20.477940Z"
    }
   },
   "outputs": [],
   "source": [
    "training_data_4326 = np.zeros(X_occ.shape) * np.nan\n",
    "training_data_4326[land_ind] = 2\n",
    "training_data_4326[water_ind] = 1\n",
    "#plt.title('np.nan = no label/nodata, 1=water, 2 = land')\n",
    "#plt.imshow(training_data_4326, interpolation='none')"
   ]
  },
  {
   "cell_type": "code",
   "execution_count": null,
   "id": "tender-cartridge",
   "metadata": {
    "ExecuteTime": {
     "end_time": "2022-07-14T17:09:13.426937Z",
     "start_time": "2022-07-14T17:09:09.359856Z"
    }
   },
   "outputs": [],
   "source": [
    "p_temp = p_occ.copy()\n",
    "p_temp['dtype'] = 'float32'\n",
    "p_temp['nodata'] = np.nan\n",
    "\n",
    "\n",
    "training_data_r, p_r = reproject_arr_to_match_profile(training_data_4326, p_temp, p_cropped)\n",
    "\n",
    "training_data_r = training_data_r[0, ...].round()\n",
    "\n",
    "#plt.imshow(training_data_r, interpolation='none')"
   ]
  },
  {
   "cell_type": "code",
   "execution_count": null,
   "id": "metallic-victor",
   "metadata": {
    "ExecuteTime": {
     "end_time": "2022-07-14T01:11:16.368056Z",
     "start_time": "2022-07-14T01:11:15.635993Z"
    }
   },
   "outputs": [],
   "source": [
    "with rasterio.open(out_class_dir/'training_data_reprojected.tif', 'w', **p_r) as ds:\n",
    "    ds.write(training_data_r, 1)"
   ]
  },
  {
   "cell_type": "code",
   "execution_count": null,
   "id": "scheduled-soldier",
   "metadata": {
    "ExecuteTime": {
     "end_time": "2022-07-14T01:11:16.439127Z",
     "start_time": "2022-07-14T01:11:16.369730Z"
    }
   },
   "outputs": [],
   "source": [
    "labels = training_data_r.copy()"
   ]
  },
  {
   "cell_type": "code",
   "execution_count": null,
   "id": "appreciated-driving",
   "metadata": {
    "ExecuteTime": {
     "end_time": "2022-07-14T01:11:16.544882Z",
     "start_time": "2022-07-14T01:11:16.440726Z"
    }
   },
   "outputs": [],
   "source": [
    "labels_f = labels.reshape((-1, 1)).ravel()\n",
    "\n",
    "f_mask = (~((labels_f == 0) | np.isnan(labels_f) | mask.ravel())).ravel()"
   ]
  },
  {
   "cell_type": "code",
   "execution_count": null,
   "id": "mysterious-director",
   "metadata": {
    "ExecuteTime": {
     "end_time": "2022-07-14T01:11:18.352996Z",
     "start_time": "2022-07-14T01:11:16.546609Z"
    }
   },
   "outputs": [],
   "source": [
    "rf_path = Path('rf.joblib')\n",
    "if rf_path.exists():\n",
    "    rf_prev = joblib.load(rf_path)\n",
    "    \n",
    "    \n",
    "rf = RandomForestClassifier(n_estimators=500,\n",
    "                            oob_score=True,\n",
    "                            random_state=0,\n",
    "                            n_jobs=8,\n",
    "                            warm_start=True)\n",
    "rf.planet_ids = []\n"
   ]
  },
  {
   "cell_type": "markdown",
   "id": "blind-classic",
   "metadata": {},
   "source": [
    "There must be a better way to do this - this makes sure training data has equal water and land, the later which is much more over-represented. Think something like this will do: https://imbalanced-learn.org/stable/auto_examples/applications/plot_multi_class_under_sampling.html#sphx-glr-auto-examples-applications-plot-multi-class-under-sampling-py/"
   ]
  },
  {
   "cell_type": "code",
   "execution_count": null,
   "id": "super-bahamas",
   "metadata": {
    "ExecuteTime": {
     "end_time": "2022-07-14T01:11:24.469380Z",
     "start_time": "2022-07-14T01:11:18.354703Z"
    }
   },
   "outputs": [],
   "source": [
    "X_labeled_all = all_features[f_mask]\n",
    "y_labeled_all = labels_f[f_mask]"
   ]
  },
  {
   "cell_type": "code",
   "execution_count": null,
   "id": "protected-vessel",
   "metadata": {
    "ExecuteTime": {
     "end_time": "2022-07-14T17:52:39.300286Z",
     "start_time": "2022-07-14T17:52:35.810660Z"
    }
   },
   "outputs": [],
   "source": [
    "\n",
    "\n",
    "if (1 in np.unique(y_labeled_all)):\n",
    "    PERCENT_OF_DATA = .05\n",
    "    subset_of_data_pixels = (~f_mask).sum() * PERCENT_OF_DATA\n",
    "\n",
    "    np.random.seed(0)\n",
    "    water_ind_f = np.where(y_labeled_all == 1)[0]\n",
    "\n",
    "    # Make sure training water never exceed more than p% of available data\n",
    "    n_max = int(np.minimum(y_labeled_all.shape[0], subset_of_data_pixels))\n",
    "    water_ind_f_sample = np.random.choice(water_ind_f, size=n_max)\n",
    "\n",
    "    land_ind_f = np.where(y_labeled_all == 2)[0]\n",
    "    n_land = int(np.minimum(water_ind_f_sample.shape[0], subset_of_data_pixels)) \n",
    "    land_ind_f_sample = np.random.choice(land_ind_f, size=n_land)\n",
    "\n",
    "    indices_for_labeling = np.hstack([water_ind_f_sample, land_ind_f_sample])\n",
    "    indices_for_labeling.shape\n",
    "\n",
    "    y_labeled = y_labeled_all[indices_for_labeling].astype(int)\n",
    "    X_labeled = X_labeled_all[indices_for_labeling, ...]\n",
    "\n",
    "else:\n",
    "    print(f'No water in training data: {1 not in np.unique(y_labeled_all)}')\n",
    "    print(f'We previously trained on this Planet chip: {PLANET_ID not in rf.planet_ids}')\n",
    "    \n",
    "    PERCENT_OF_DATA = .1\n",
    "    land_ind_f = np.where(y_labeled_all == 2)[0]\n",
    "    n = int(PERCENT_OF_DATA * (~f_mask).sum())\n",
    "    land_ind_f_sample = np.random.choice(land_ind_f, size=n)\n",
    "    \n",
    "    \n",
    "    y_labeled = y_labeled_all[land_ind_f_sample].astype(int)\n",
    "    X_labeled = X_labeled_all[land_ind_f_sample, ...]\n"
   ]
  },
  {
   "cell_type": "code",
   "execution_count": null,
   "id": "warming-beads",
   "metadata": {
    "ExecuteTime": {
     "end_time": "2022-07-14T01:11:29.672574Z",
     "start_time": "2022-07-14T01:11:29.584295Z"
    }
   },
   "outputs": [],
   "source": [
    "X_train, X_test, y_train, y_test = train_test_split(X_labeled, \n",
    "                                                    y_labeled, \n",
    "                                                    test_size=0.2,\n",
    "                                                    train_size=0.8,\n",
    "                                                    random_state=0,\n",
    "                                                    # stratify=y_labeled\n",
    "                                                    )"
   ]
  },
  {
   "cell_type": "code",
   "execution_count": null,
   "id": "working-thesaurus",
   "metadata": {
    "ExecuteTime": {
     "end_time": "2022-07-14T01:11:51.944074Z",
     "start_time": "2022-07-14T01:11:29.674233Z"
    }
   },
   "outputs": [],
   "source": [
    "%%time\n",
    "\n",
    "print(f'The Peckel data has water: {1 in np.unique(y_labeled_all)}')\n",
    "print(f'We previously trained on this Planet chip: {PLANET_ID not in rf.planet_ids}')\n",
    "\n",
    "if (1 not in np.unique(y_labeled_all)):\n",
    "    rf = rf_prev\n",
    "    # see this discussion: https://stackoverflow.com/questions/42757892/how-to-use-warm-start\n",
    "    # print(f'loading previously trained random forrest with {rf.n_estimators} trees and adding 250 more')\n",
    "\n",
    "    # rf.set_params(n_estimators=(rf.n_estimators + 250))\n",
    "    # print(f'now {rf.n_estimators} trees')\n",
    "else:  \n",
    "    rf.fit(X_train, \n",
    "           y_train)\n"
   ]
  },
  {
   "cell_type": "code",
   "execution_count": null,
   "id": "frank-alaska",
   "metadata": {
    "ExecuteTime": {
     "end_time": "2022-07-14T01:11:52.167797Z",
     "start_time": "2022-07-14T01:11:51.945802Z"
    }
   },
   "outputs": [],
   "source": [
    "%%time\n",
    "\n",
    "y_pred = rf.predict(X_test)"
   ]
  },
  {
   "cell_type": "code",
   "execution_count": null,
   "id": "developmental-champion",
   "metadata": {
    "ExecuteTime": {
     "end_time": "2022-07-14T01:11:52.209867Z",
     "start_time": "2022-07-14T01:11:52.169566Z"
    }
   },
   "outputs": [],
   "source": [
    "class_dict = {1: 'water', \n",
    "              2: 'not_water'}"
   ]
  },
  {
   "cell_type": "code",
   "execution_count": null,
   "id": "familiar-fashion",
   "metadata": {
    "ExecuteTime": {
     "end_time": "2022-07-14T01:11:52.262593Z",
     "start_time": "2022-07-14T01:11:52.211747Z"
    }
   },
   "outputs": [],
   "source": [
    "y_pred_str = pd.Series([class_dict[class_id] for class_id in y_pred], name='Predicted')\n",
    "y_true_str = pd.Series([class_dict[class_id] for class_id in y_test], name='True')"
   ]
  },
  {
   "cell_type": "markdown",
   "id": "entire-sudan",
   "metadata": {},
   "source": [
    "This gives us how well we did on the labeled test data. Random forests will do pretty well on the labeled data since the labeled data is continugous and the superpixels aggregations will likely be shared across pixels."
   ]
  },
  {
   "cell_type": "code",
   "execution_count": null,
   "id": "regular-philip",
   "metadata": {
    "ExecuteTime": {
     "end_time": "2022-07-14T01:11:52.314247Z",
     "start_time": "2022-07-14T01:11:52.264264Z"
    }
   },
   "outputs": [],
   "source": [
    "df_conf = pd.crosstab(y_true_str, y_pred_str)\n",
    "df_conf"
   ]
  },
  {
   "cell_type": "code",
   "execution_count": null,
   "id": "advance-imaging",
   "metadata": {
    "ExecuteTime": {
     "end_time": "2022-07-14T01:11:59.940889Z",
     "start_time": "2022-07-14T01:11:52.315818Z"
    }
   },
   "outputs": [],
   "source": [
    "all_mask_f = (mask.reshape((-1,)))\n",
    "\n",
    "X_all = all_features[~all_mask_f, \n",
    "                     ...]"
   ]
  },
  {
   "cell_type": "code",
   "execution_count": null,
   "id": "third-bullet",
   "metadata": {
    "ExecuteTime": {
     "end_time": "2022-07-14T01:16:11.777066Z",
     "start_time": "2022-07-14T01:11:59.942675Z"
    }
   },
   "outputs": [],
   "source": [
    "%%time\n",
    "\n",
    "y_all = rf.predict(X_all)"
   ]
  },
  {
   "cell_type": "code",
   "execution_count": null,
   "id": "sapphire-effort",
   "metadata": {
    "ExecuteTime": {
     "end_time": "2022-07-14T01:16:11.962738Z",
     "start_time": "2022-07-14T01:16:11.780224Z"
    }
   },
   "outputs": [],
   "source": [
    "y_arr = np.zeros(mask.shape)\n",
    "\n",
    "y_arr[~mask] = y_all\n",
    "y_arr[mask] = 0"
   ]
  },
  {
   "cell_type": "code",
   "execution_count": null,
   "id": "composed-concept",
   "metadata": {
    "ExecuteTime": {
     "end_time": "2022-07-14T01:16:12.219256Z",
     "start_time": "2022-07-14T01:16:11.964466Z"
    }
   },
   "outputs": [],
   "source": [
    "p = profile_cropped.copy()\n",
    "p['count'] = 1 \n",
    "p['dtype'] = np.uint8\n",
    "with rasterio.open(out_class_dir / f'classification_chip-{index}_planet-{PLANET_ID}.tif', 'w', **p) as ds:\n",
    "    ds.write(y_arr.astype(np.uint8), 1)"
   ]
  },
  {
   "cell_type": "code",
   "execution_count": null,
   "id": "incorporate-definition",
   "metadata": {
    "ExecuteTime": {
     "end_time": "2022-07-14T01:16:13.118500Z",
     "start_time": "2022-07-14T01:16:12.221072Z"
    }
   },
   "outputs": [],
   "source": [
    "plt.imshow(y_arr, interpolation='none')"
   ]
  },
  {
   "cell_type": "markdown",
   "id": "supposed-colon",
   "metadata": {},
   "source": [
    "# Feature Importances\n",
    "\n",
    "See: https://scikit-learn.org/stable/modules/generated/sklearn.ensemble.RandomForestClassifier.html#sklearn.ensemble.RandomForestClassifier.feature_importances_"
   ]
  },
  {
   "cell_type": "code",
   "execution_count": null,
   "id": "premier-blair",
   "metadata": {
    "ExecuteTime": {
     "end_time": "2022-07-14T01:16:13.221390Z",
     "start_time": "2022-07-14T01:16:13.120296Z"
    }
   },
   "outputs": [],
   "source": [
    "rf.feature_importances_"
   ]
  },
  {
   "cell_type": "code",
   "execution_count": null,
   "id": "solar-block",
   "metadata": {
    "ExecuteTime": {
     "end_time": "2022-07-14T01:16:13.436380Z",
     "start_time": "2022-07-14T01:16:13.223124Z"
    }
   },
   "outputs": [],
   "source": [
    "joblib.dump(rf, out_class_dir/f'rf_{PLANET_ID}.joblib') "
   ]
  },
  {
   "cell_type": "markdown",
   "id": "referenced-aaron",
   "metadata": {},
   "source": [
    "# Save Data"
   ]
  },
  {
   "cell_type": "code",
   "execution_count": null,
   "id": "dried-masters",
   "metadata": {
    "ExecuteTime": {
     "end_time": "2022-07-14T01:16:13.479027Z",
     "start_time": "2022-07-14T01:16:13.438164Z"
    }
   },
   "outputs": [],
   "source": [
    "chip_data = df_chip.to_dict('record')[0]\n",
    "chip_data"
   ]
  },
  {
   "cell_type": "code",
   "execution_count": null,
   "id": "armed-essence",
   "metadata": {
    "ExecuteTime": {
     "end_time": "2022-07-14T01:16:13.519969Z",
     "start_time": "2022-07-14T01:16:13.480803Z"
    }
   },
   "outputs": [],
   "source": [
    "# not_water_class, water_class = df_conf.to_dict('records')\n",
    "# not_water_class"
   ]
  },
  {
   "cell_type": "code",
   "execution_count": null,
   "id": "emerging-credits",
   "metadata": {
    "ExecuteTime": {
     "end_time": "2022-07-14T01:16:13.606729Z",
     "start_time": "2022-07-14T01:16:13.521536Z"
    }
   },
   "outputs": [],
   "source": [
    "fi = list(map(lambda x: f'{x:06f}', rf.feature_importances_))"
   ]
  },
  {
   "cell_type": "code",
   "execution_count": null,
   "id": "union-intranet",
   "metadata": {
    "ExecuteTime": {
     "end_time": "2022-07-14T01:16:13.651403Z",
     "start_time": "2022-07-14T01:16:13.608402Z"
    }
   },
   "outputs": [],
   "source": [
    "class_data = {'geometry': chip_data['geometry'],\n",
    "              'feature_list': 'pixels (rgb) ,mean_superpixel (rgb for 3 segs),std_superpixels for rgb image (rgb for 3 segs)',\n",
    "              'feature_importances': ','.join(fi),\n",
    "#               'accuracy': {'not_water_class_true': not_water_class,\n",
    "#                            'water_class_true': water_class},\n",
    "              's3_bucket': '',\n",
    "              's3_key': '',\n",
    "              'chip_id': chip_data['random_id'],\n",
    "              'strata': chip_data['STRATA']\n",
    "             }\n",
    "class_data"
   ]
  },
  {
   "cell_type": "code",
   "execution_count": null,
   "id": "compliant-industry",
   "metadata": {
    "ExecuteTime": {
     "end_time": "2022-07-14T01:16:13.724817Z",
     "start_time": "2022-07-14T01:16:13.653328Z"
    }
   },
   "outputs": [],
   "source": [
    "df_out = gpd.GeoDataFrame([class_data],\n",
    "                         crs=df_chip.crs)"
   ]
  },
  {
   "cell_type": "code",
   "execution_count": null,
   "id": "timely-dividend",
   "metadata": {
    "ExecuteTime": {
     "end_time": "2022-07-14T01:16:13.775966Z",
     "start_time": "2022-07-14T01:16:13.726764Z"
    }
   },
   "outputs": [],
   "source": [
    "df_out.to_file(out_class_dir / f'classification_chip-{index}_planet-{PLANET_ID}.geojson', driver='GeoJSON')\n"
   ]
  },
  {
   "cell_type": "markdown",
   "id": "stretch-scheduling",
   "metadata": {},
   "source": [
    "# Save Running Model"
   ]
  },
  {
   "cell_type": "code",
   "execution_count": null,
   "id": "narrow-monthly",
   "metadata": {
    "ExecuteTime": {
     "end_time": "2022-07-14T01:16:13.994158Z",
     "start_time": "2022-07-14T01:16:13.777917Z"
    }
   },
   "outputs": [],
   "source": [
    "rf.planet_ids.append(PLANET_ID)\n",
    "joblib.dump(rf, f'rf.joblib') \n",
    "\n",
    "rf = None"
   ]
  }
 ],
 "metadata": {
  "celltoolbar": "Tags",
  "kernelspec": {
   "display_name": "dswx_val",
   "language": "python",
   "name": "dswx_val"
  },
  "language_info": {
   "codemirror_mode": {
    "name": "ipython",
    "version": 3
   },
   "file_extension": ".py",
   "mimetype": "text/x-python",
   "name": "python",
   "nbconvert_exporter": "python",
   "pygments_lexer": "ipython3",
   "version": "3.10.5"
  }
 },
 "nbformat": 4,
 "nbformat_minor": 5
}
