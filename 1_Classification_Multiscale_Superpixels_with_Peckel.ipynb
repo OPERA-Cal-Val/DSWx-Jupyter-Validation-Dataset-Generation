{
 "cells": [
  {
   "cell_type": "markdown",
   "id": "coastal-henry",
   "metadata": {},
   "source": [
    "This is a slightly involved classification notebook - using superpixels to generate features. The results look good in that we reduce commission errors. The segmentation might be "
   ]
  },
  {
   "cell_type": "code",
   "execution_count": 1,
   "id": "amber-repeat",
   "metadata": {
    "ExecuteTime": {
     "end_time": "2022-07-20T18:25:07.777232Z",
     "start_time": "2022-07-20T18:25:07.755945Z"
    }
   },
   "outputs": [],
   "source": [
    "%load_ext autoreload\n",
    "%autoreload 2"
   ]
  },
  {
   "cell_type": "code",
   "execution_count": 2,
   "id": "hazardous-lawyer",
   "metadata": {
    "ExecuteTime": {
     "end_time": "2022-07-20T18:25:09.749503Z",
     "start_time": "2022-07-20T18:25:07.779223Z"
    }
   },
   "outputs": [],
   "source": [
    "from tqdm import tqdm\n",
    "import rasterio\n",
    "import matplotlib.pyplot as plt\n",
    "import numpy as np\n",
    "from skimage.segmentation import felzenszwalb\n",
    "from skimage.color import label2rgb\n",
    "from rscube.nd_tools import (get_array_from_features, \n",
    "                             get_features_from_array, \n",
    "                             get_superpixel_area_as_features, \n",
    "                             get_superpixel_means_as_features,\n",
    "                             get_superpixel_stds_as_features, \n",
    "                             scale_img)\n",
    "from rscube.rio_tools import (get_geopandas_features_from_array, \n",
    "                              rasterize_shapes_to_array, \n",
    "                              get_indices_from_extent, get_cropped_profile)\n",
    "\n",
    "from sklearn.cluster import KMeans\n",
    "from skimage.segmentation import felzenszwalb\n",
    "from skimage.color import label2rgb\n",
    "from pprint import pprint\n",
    "import geopandas as gpd\n",
    "from rasterio import plot\n",
    "import pandas as pd\n",
    "from sklearn.model_selection import train_test_split\n",
    "from sklearn.ensemble import RandomForestClassifier\n",
    "from sklearn.metrics import precision_recall_fscore_support as score\n",
    "import geopandas as gpd\n",
    "from shapely.geometry import box\n",
    "from rasterio.windows import Window\n",
    "from pathlib import Path\n",
    "from rasterio.crs import CRS\n",
    "from dem_stitcher.rio_tools import reproject_arr_to_match_profile\n",
    "import joblib"
   ]
  },
  {
   "cell_type": "code",
   "execution_count": 3,
   "id": "proof-webcam",
   "metadata": {
    "ExecuteTime": {
     "end_time": "2022-07-20T18:25:09.789150Z",
     "start_time": "2022-07-20T18:25:09.750943Z"
    },
    "tags": [
     "parameters"
    ]
   },
   "outputs": [],
   "source": [
    "PLANET_ID = '20211003_161639_91_241d'"
   ]
  },
  {
   "cell_type": "code",
   "execution_count": 4,
   "id": "complex-study",
   "metadata": {
    "ExecuteTime": {
     "end_time": "2022-07-20T18:25:09.833069Z",
     "start_time": "2022-07-20T18:25:09.791684Z"
    }
   },
   "outputs": [
    {
     "data": {
      "text/plain": [
       "True"
      ]
     },
     "execution_count": 4,
     "metadata": {},
     "output_type": "execute_result"
    }
   ],
   "source": [
    "planet_image_path = Path(f'local_chips/{PLANET_ID}_3B_AnalyticMS_SR_8b.tif')\n",
    "planet_image_path.exists()"
   ]
  },
  {
   "cell_type": "markdown",
   "id": "quiet-semester",
   "metadata": {},
   "source": [
    "# Path"
   ]
  },
  {
   "cell_type": "code",
   "execution_count": 5,
   "id": "affected-religion",
   "metadata": {
    "ExecuteTime": {
     "end_time": "2022-07-20T18:25:09.872839Z",
     "start_time": "2022-07-20T18:25:09.834592Z"
    }
   },
   "outputs": [],
   "source": [
    "out_class_dir = Path(f'classification_outputs_peckel/{PLANET_ID}')\n",
    "out_class_dir.mkdir(exist_ok=True, parents=True)"
   ]
  },
  {
   "cell_type": "markdown",
   "id": "modern-apple",
   "metadata": {},
   "source": [
    "# Load Chips\n",
    "\n",
    "Want to crop image based on chip"
   ]
  },
  {
   "cell_type": "code",
   "execution_count": 6,
   "id": "hundred-burst",
   "metadata": {
    "ExecuteTime": {
     "end_time": "2022-07-20T18:25:09.939517Z",
     "start_time": "2022-07-20T18:25:09.874603Z"
    }
   },
   "outputs": [
    {
     "data": {
      "text/html": [
       "<div>\n",
       "<style scoped>\n",
       "    .dataframe tbody tr th:only-of-type {\n",
       "        vertical-align: middle;\n",
       "    }\n",
       "\n",
       "    .dataframe tbody tr th {\n",
       "        vertical-align: top;\n",
       "    }\n",
       "\n",
       "    .dataframe thead th {\n",
       "        text-align: right;\n",
       "    }\n",
       "</style>\n",
       "<table border=\"1\" class=\"dataframe\">\n",
       "  <thead>\n",
       "    <tr style=\"text-align: right;\">\n",
       "      <th></th>\n",
       "      <th>CENTERX</th>\n",
       "      <th>CENTERY</th>\n",
       "      <th>STRATA</th>\n",
       "      <th>SAMPLE_ID</th>\n",
       "      <th>date</th>\n",
       "      <th>LS_Validat</th>\n",
       "      <th>random_id</th>\n",
       "      <th>geometry</th>\n",
       "    </tr>\n",
       "  </thead>\n",
       "  <tbody>\n",
       "    <tr>\n",
       "      <th>0</th>\n",
       "      <td>-159.648125</td>\n",
       "      <td>69.21</td>\n",
       "      <td>3</td>\n",
       "      <td>3_38</td>\n",
       "      <td>2011-07-17</td>\n",
       "      <td>1</td>\n",
       "      <td>99</td>\n",
       "      <td>POLYGON ((-159.89875 69.30000, -159.65900 69.3...</td>\n",
       "    </tr>\n",
       "    <tr>\n",
       "      <th>1</th>\n",
       "      <td>-112.983750</td>\n",
       "      <td>67.05</td>\n",
       "      <td>4</td>\n",
       "      <td>4_27</td>\n",
       "      <td>2012-07-23</td>\n",
       "      <td>1</td>\n",
       "      <td>114</td>\n",
       "      <td>POLYGON ((-113.21200 67.14000, -113.09850 67.1...</td>\n",
       "    </tr>\n",
       "    <tr>\n",
       "      <th>2</th>\n",
       "      <td>17.698500</td>\n",
       "      <td>65.97</td>\n",
       "      <td>4</td>\n",
       "      <td>4_43</td>\n",
       "      <td>2010-07-24</td>\n",
       "      <td>1</td>\n",
       "      <td>20</td>\n",
       "      <td>POLYGON ((17.61000 66.06000, 17.91700 66.06000...</td>\n",
       "    </tr>\n",
       "    <tr>\n",
       "      <th>3</th>\n",
       "      <td>59.675000</td>\n",
       "      <td>65.79</td>\n",
       "      <td>3</td>\n",
       "      <td>3_1</td>\n",
       "      <td>2011-07-13</td>\n",
       "      <td>1</td>\n",
       "      <td>112</td>\n",
       "      <td>POLYGON ((59.86900 65.88000, 59.89200 65.88000...</td>\n",
       "    </tr>\n",
       "    <tr>\n",
       "      <th>4</th>\n",
       "      <td>-96.604375</td>\n",
       "      <td>62.73</td>\n",
       "      <td>4</td>\n",
       "      <td>4_34</td>\n",
       "      <td>2012-08-27</td>\n",
       "      <td>1</td>\n",
       "      <td>115</td>\n",
       "      <td>POLYGON ((-96.79875 62.82000, -96.57700 62.820...</td>\n",
       "    </tr>\n",
       "  </tbody>\n",
       "</table>\n",
       "</div>"
      ],
      "text/plain": [
       "      CENTERX  CENTERY  STRATA SAMPLE_ID        date  LS_Validat  random_id  \\\n",
       "0 -159.648125    69.21       3      3_38  2011-07-17           1         99   \n",
       "1 -112.983750    67.05       4      4_27  2012-07-23           1        114   \n",
       "2   17.698500    65.97       4      4_43  2010-07-24           1         20   \n",
       "3   59.675000    65.79       3       3_1  2011-07-13           1        112   \n",
       "4  -96.604375    62.73       4      4_34  2012-08-27           1        115   \n",
       "\n",
       "                                            geometry  \n",
       "0  POLYGON ((-159.89875 69.30000, -159.65900 69.3...  \n",
       "1  POLYGON ((-113.21200 67.14000, -113.09850 67.1...  \n",
       "2  POLYGON ((17.61000 66.06000, 17.91700 66.06000...  \n",
       "3  POLYGON ((59.86900 65.88000, 59.89200 65.88000...  \n",
       "4  POLYGON ((-96.79875 62.82000, -96.57700 62.820...  "
      ]
     },
     "execution_count": 6,
     "metadata": {},
     "output_type": "execute_result"
    }
   ],
   "source": [
    "df = gpd.read_file('chips.geojson')\n",
    "df.head()"
   ]
  },
  {
   "cell_type": "code",
   "execution_count": 7,
   "id": "floppy-manhattan",
   "metadata": {
    "ExecuteTime": {
     "end_time": "2022-07-20T18:25:10.003894Z",
     "start_time": "2022-07-20T18:25:09.941167Z"
    }
   },
   "outputs": [
    {
     "data": {
      "text/plain": [
       "(10003, 13622)"
      ]
     },
     "execution_count": 7,
     "metadata": {},
     "output_type": "execute_result"
    }
   ],
   "source": [
    "with rasterio.open(planet_image_path) as ds:\n",
    "    image_crs = ds.crs\n",
    "    image_box = box(*ds.bounds)\n",
    "    image_bounds = list(ds.bounds)\n",
    "    image_profile = ds.profile\n",
    "    image_shape = image_profile['height'], image_profile['width']\n",
    "\n",
    "image_shape"
   ]
  },
  {
   "cell_type": "code",
   "execution_count": 8,
   "id": "particular-blond",
   "metadata": {
    "ExecuteTime": {
     "end_time": "2022-07-20T18:25:10.063753Z",
     "start_time": "2022-07-20T18:25:10.005457Z"
    }
   },
   "outputs": [
    {
     "data": {
      "text/html": [
       "<div>\n",
       "<style scoped>\n",
       "    .dataframe tbody tr th:only-of-type {\n",
       "        vertical-align: middle;\n",
       "    }\n",
       "\n",
       "    .dataframe tbody tr th {\n",
       "        vertical-align: top;\n",
       "    }\n",
       "\n",
       "    .dataframe thead th {\n",
       "        text-align: right;\n",
       "    }\n",
       "</style>\n",
       "<table border=\"1\" class=\"dataframe\">\n",
       "  <thead>\n",
       "    <tr style=\"text-align: right;\">\n",
       "      <th></th>\n",
       "      <th>CENTERX</th>\n",
       "      <th>CENTERY</th>\n",
       "      <th>STRATA</th>\n",
       "      <th>SAMPLE_ID</th>\n",
       "      <th>date</th>\n",
       "      <th>LS_Validat</th>\n",
       "      <th>random_id</th>\n",
       "      <th>geometry</th>\n",
       "    </tr>\n",
       "  </thead>\n",
       "  <tbody>\n",
       "    <tr>\n",
       "      <th>0</th>\n",
       "      <td>-95.866875</td>\n",
       "      <td>33.03</td>\n",
       "      <td>3</td>\n",
       "      <td>3_40</td>\n",
       "      <td>2011-07-10</td>\n",
       "      <td>1</td>\n",
       "      <td>42</td>\n",
       "      <td>POLYGON ((222530.752 3668526.777, 241571.451 3...</td>\n",
       "    </tr>\n",
       "  </tbody>\n",
       "</table>\n",
       "</div>"
      ],
      "text/plain": [
       "     CENTERX  CENTERY  STRATA SAMPLE_ID        date  LS_Validat  random_id  \\\n",
       "0 -95.866875    33.03       3      3_40  2011-07-10           1         42   \n",
       "\n",
       "                                            geometry  \n",
       "0  POLYGON ((222530.752 3668526.777, 241571.451 3...  "
      ]
     },
     "execution_count": 8,
     "metadata": {},
     "output_type": "execute_result"
    }
   ],
   "source": [
    "df_utm = df.to_crs(image_crs)\n",
    "intersects = df_utm.geometry.intersects(image_box)\n",
    "df_chip = df_utm[intersects].reset_index(drop=True)\n",
    "df_chip.head()"
   ]
  },
  {
   "cell_type": "markdown",
   "id": "medical-friendly",
   "metadata": {},
   "source": [
    "It's a little weird because all Planet Imagery is in UTM and Chips are in Lon/Lat."
   ]
  },
  {
   "cell_type": "code",
   "execution_count": 9,
   "id": "accredited-malpractice",
   "metadata": {
    "ExecuteTime": {
     "end_time": "2022-07-20T18:25:10.105498Z",
     "start_time": "2022-07-20T18:25:10.065514Z"
    }
   },
   "outputs": [],
   "source": [
    "(start_y, start_x), (stop_y, stop_x) = get_indices_from_extent(image_profile['transform'],\n",
    "                                                               list(df_chip.total_bounds),\n",
    "                                                               shape=image_shape)\n",
    "window = Window.from_slices((start_y, stop_y), (start_x, stop_x))\n",
    "sx, sy = np.s_[start_x: stop_x], np.s_[start_y: stop_y]\n",
    "profile_cropped = get_cropped_profile(image_profile, sx, sy)"
   ]
  },
  {
   "cell_type": "markdown",
   "id": "invalid-fighter",
   "metadata": {},
   "source": [
    "We are going to label things based on the chip index."
   ]
  },
  {
   "cell_type": "code",
   "execution_count": 10,
   "id": "received-european",
   "metadata": {
    "ExecuteTime": {
     "end_time": "2022-07-20T18:25:10.148585Z",
     "start_time": "2022-07-20T18:25:10.109614Z"
    }
   },
   "outputs": [
    {
     "data": {
      "text/plain": [
       "42"
      ]
     },
     "execution_count": 10,
     "metadata": {},
     "output_type": "execute_result"
    }
   ],
   "source": [
    "index = df_chip.random_id[0]\n",
    "index"
   ]
  },
  {
   "cell_type": "code",
   "execution_count": 11,
   "id": "architectural-version",
   "metadata": {
    "ExecuteTime": {
     "end_time": "2022-07-20T18:25:14.964835Z",
     "start_time": "2022-07-20T18:25:10.150232Z"
    }
   },
   "outputs": [
    {
     "data": {
      "text/plain": [
       "(6838, 6840, 8)"
      ]
     },
     "execution_count": 11,
     "metadata": {},
     "output_type": "execute_result"
    }
   ],
   "source": [
    "with rasterio.open(planet_image_path) as ds:\n",
    "    image_c = ds.read(window=window)\n",
    "    image_c = image_c.transpose([1, 2, 0]).astype(np.float32)\n",
    "image_c.shape"
   ]
  },
  {
   "cell_type": "code",
   "execution_count": 12,
   "id": "soviet-spiritual",
   "metadata": {
    "ExecuteTime": {
     "end_time": "2022-07-20T18:25:15.010393Z",
     "start_time": "2022-07-20T18:25:14.966684Z"
    }
   },
   "outputs": [
    {
     "data": {
      "text/plain": [
       "[(0, 'coastal_blue'),\n",
       " (1, 'blue'),\n",
       " (2, 'green_i'),\n",
       " (3, 'green'),\n",
       " (4, 'yellow'),\n",
       " (5, 'red'),\n",
       " (6, 'rededge'),\n",
       " (7, 'nir')]"
      ]
     },
     "execution_count": 12,
     "metadata": {},
     "output_type": "execute_result"
    }
   ],
   "source": [
    "with rasterio.open(planet_image_path) as ds:\n",
    "\n",
    "    t = ds.tags()\n",
    "    d = ds.descriptions\n",
    "    \n",
    "list(enumerate(d))"
   ]
  },
  {
   "cell_type": "code",
   "execution_count": 13,
   "id": "prime-shipping",
   "metadata": {
    "ExecuteTime": {
     "end_time": "2022-07-20T18:25:15.168494Z",
     "start_time": "2022-07-20T18:25:15.012105Z"
    }
   },
   "outputs": [],
   "source": [
    "mask = (image_c[..., 0] == image_profile['nodata'])\n",
    "image_c[mask, :] = np.nan"
   ]
  },
  {
   "cell_type": "code",
   "execution_count": 14,
   "id": "individual-malaysia",
   "metadata": {
    "ExecuteTime": {
     "end_time": "2022-07-20T18:25:15.982632Z",
     "start_time": "2022-07-20T18:25:15.170147Z"
    }
   },
   "outputs": [],
   "source": [
    "rgb = scale_img(image_c[..., [7, 5, 3]])\n",
    "# plt.imshow(rgb)"
   ]
  },
  {
   "cell_type": "code",
   "execution_count": 15,
   "id": "satisfactory-snapshot",
   "metadata": {
    "ExecuteTime": {
     "end_time": "2022-07-20T18:25:24.500346Z",
     "start_time": "2022-07-20T18:25:15.984355Z"
    }
   },
   "outputs": [
    {
     "name": "stderr",
     "output_type": "stream",
     "text": [
      "100%|███████████████████████████████████████| 3/3 [00:07<00:00,  2.58s/it]\n"
     ]
    }
   ],
   "source": [
    "image = image_c[..., [7, 5, 3]]\n",
    "\n",
    "image_view = image.copy()\n",
    "for k in tqdm(range(3)):\n",
    "    m0 = np.nanpercentile(image[~mask, k], 2)\n",
    "    m1 = np.nanpercentile(image[~mask, k], 98)\n",
    "    image_view[~mask, k] = np.clip(image[~mask, k], m0, m1)"
   ]
  },
  {
   "cell_type": "code",
   "execution_count": 16,
   "id": "female-fundamentals",
   "metadata": {
    "ExecuteTime": {
     "end_time": "2022-07-20T18:25:30.273483Z",
     "start_time": "2022-07-20T18:25:24.502558Z"
    }
   },
   "outputs": [
    {
     "data": {
      "text/plain": [
       "<matplotlib.image.AxesImage at 0x1ce233d30>"
      ]
     },
     "execution_count": 16,
     "metadata": {},
     "output_type": "execute_result"
    },
    {
     "data": {
      "image/png": "[encoded data removed]",
      "text/plain": [
       "<Figure size 432x288 with 1 Axes>"
      ]
     },
     "metadata": {
      "needs_background": "light"
     },
     "output_type": "display_data"
    }
   ],
   "source": [
    "rgb = scale_img(image_view)\n",
    "plt.imshow(rgb)"
   ]
  },
  {
   "cell_type": "code",
   "execution_count": 17,
   "id": "elder-shakespeare",
   "metadata": {
    "ExecuteTime": {
     "end_time": "2022-07-20T18:25:40.254489Z",
     "start_time": "2022-07-20T18:25:30.275182Z"
    }
   },
   "outputs": [],
   "source": [
    "p_cropped = profile_cropped.copy()\n",
    "p_cropped['count'] = 3\n",
    "p_cropped['dtype'] = 'float32'\n",
    "p_cropped['nodata'] = np.nan\n",
    "with rasterio.open(out_class_dir / f'chip_cropped_{PLANET_ID}.tif', 'w', **p_cropped) as ds:\n",
    "    ds.write(rgb.transpose([2, 0, 1]))"
   ]
  },
  {
   "cell_type": "markdown",
   "id": "presidential-portfolio",
   "metadata": {},
   "source": [
    "You could use the above to figure out some training data. We label it `training_data_{index}`, according to the chip ID.\n",
    "\n",
    "# Segmentation\n",
    "\n",
    "Going to use multiscale superpixels - see [this paper](https://www.mdpi.com/2072-4292/12/12/2048) and the references. I learned about them [here](https://link.springer.com/chapter/10.1007/978-94-017-7239-6_8).\n",
    "\n",
    "Best discussion of felzenswalb algorithm (and parameters below) is by a fellow JPL team: https://ieeexplore.ieee.org/document/5593215"
   ]
  },
  {
   "cell_type": "code",
   "execution_count": 18,
   "id": "parental-circus",
   "metadata": {
    "ExecuteTime": {
     "end_time": "2022-07-20T18:25:40.297592Z",
     "start_time": "2022-07-20T18:25:40.255813Z"
    }
   },
   "outputs": [],
   "source": [
    "def get_segmentation(image, min_size):\n",
    "    mask = np.isnan(image[..., 0])\n",
    "    image_seg = image.copy()\n",
    "    # So that np.nans don't give us problems\n",
    "    image_seg[mask, :] = -10_000\n",
    "    segments_fz = felzenszwalb(image_seg,\n",
    "                               # may want to play with this\n",
    "                               scale=.1, \n",
    "                               # normally gaussian filter is applied - can experiment\n",
    "                               sigma=0.2,\n",
    "                               # minimum size of segments\n",
    "                               min_size=min_size\n",
    "                              )\n",
    "    return segments_fz"
   ]
  },
  {
   "cell_type": "markdown",
   "id": "demanding-hudson",
   "metadata": {},
   "source": [
    "We are going to use the RGB image from above."
   ]
  },
  {
   "cell_type": "code",
   "execution_count": 19,
   "id": "healthy-polyester",
   "metadata": {
    "ExecuteTime": {
     "end_time": "2022-07-20T18:32:38.952658Z",
     "start_time": "2022-07-20T18:25:40.299498Z"
    }
   },
   "outputs": [
    {
     "name": "stderr",
     "output_type": "stream",
     "text": [
      "100%|██████████████████████████████████████| 3/3 [06:58<00:00, 139.54s/it]\n"
     ]
    }
   ],
   "source": [
    "get_segmentation_partial = lambda min_size: get_segmentation(rgb, min_size)\n",
    "segmentations = list(map(get_segmentation_partial, tqdm([5, 20, 50])))"
   ]
  },
  {
   "cell_type": "code",
   "execution_count": 20,
   "id": "alert-blink",
   "metadata": {
    "ExecuteTime": {
     "end_time": "2022-07-20T18:32:38.993216Z",
     "start_time": "2022-07-20T18:32:38.954505Z"
    }
   },
   "outputs": [],
   "source": [
    "# X = segmentations[0].copy()\n",
    "# X[mask] = 0\n",
    "# superpixel_labels_viz = label2rgb(X, bg_label=0)\n",
    "# plt.imshow(superpixel_labels_viz)"
   ]
  },
  {
   "cell_type": "markdown",
   "id": "empty-madrid",
   "metadata": {},
   "source": [
    "Below would be used to save the segments to a vector file. It takes some time and the segments can be approximately ~1 GB."
   ]
  },
  {
   "cell_type": "code",
   "execution_count": 21,
   "id": "revolutionary-cleanup",
   "metadata": {
    "ExecuteTime": {
     "end_time": "2022-07-20T18:32:39.037633Z",
     "start_time": "2022-07-20T18:32:38.995242Z"
    }
   },
   "outputs": [],
   "source": [
    "segments_fz = segmentations[1]"
   ]
  },
  {
   "cell_type": "code",
   "execution_count": 22,
   "id": "broad-concrete",
   "metadata": {
    "ExecuteTime": {
     "end_time": "2022-07-20T18:32:39.078362Z",
     "start_time": "2022-07-20T18:32:39.039291Z"
    }
   },
   "outputs": [
    {
     "name": "stdout",
     "output_type": "stream",
     "text": [
      "CPU times: user 1 µs, sys: 1 µs, total: 2 µs\n",
      "Wall time: 10.3 µs\n"
     ]
    }
   ],
   "source": [
    "%%time\n",
    "\n",
    "# features = get_geopandas_features_from_array(segments_fz.astype(np.int32), \n",
    "#                                              profile['transform'], \n",
    "#                                              label_name='label')"
   ]
  },
  {
   "cell_type": "code",
   "execution_count": 23,
   "id": "celtic-generic",
   "metadata": {
    "ExecuteTime": {
     "end_time": "2022-07-20T18:32:39.117864Z",
     "start_time": "2022-07-20T18:32:39.080134Z"
    }
   },
   "outputs": [
    {
     "name": "stdout",
     "output_type": "stream",
     "text": [
      "CPU times: user 2 µs, sys: 0 ns, total: 2 µs\n",
      "Wall time: 4.05 µs\n"
     ]
    }
   ],
   "source": [
    "%%time\n",
    "\n",
    "# df_segments = gpd.GeoDataFrame.from_features(features)\n",
    "# df_segments.head()"
   ]
  },
  {
   "cell_type": "code",
   "execution_count": 24,
   "id": "italic-divide",
   "metadata": {
    "ExecuteTime": {
     "end_time": "2022-07-20T18:32:39.158311Z",
     "start_time": "2022-07-20T18:32:39.119623Z"
    }
   },
   "outputs": [
    {
     "name": "stdout",
     "output_type": "stream",
     "text": [
      "CPU times: user 2 µs, sys: 0 ns, total: 2 µs\n",
      "Wall time: 4.05 µs\n"
     ]
    }
   ],
   "source": [
    "%%time\n",
    "\n",
    "# df_segments.crs = profile['crs']\n",
    "# df_segments.to_file('segments.geojson', driver='GeoJSON')"
   ]
  },
  {
   "cell_type": "markdown",
   "id": "engaged-effects",
   "metadata": {},
   "source": [
    "# Generate Features"
   ]
  },
  {
   "cell_type": "code",
   "execution_count": 25,
   "id": "regular-forge",
   "metadata": {
    "ExecuteTime": {
     "end_time": "2022-07-20T18:32:39.200521Z",
     "start_time": "2022-07-20T18:32:39.160064Z"
    }
   },
   "outputs": [
    {
     "data": {
      "text/plain": [
       "(6838, 6840, 3)"
      ]
     },
     "execution_count": 25,
     "metadata": {},
     "output_type": "execute_result"
    }
   ],
   "source": [
    "rgb.shape"
   ]
  },
  {
   "cell_type": "code",
   "execution_count": 26,
   "id": "taken-singapore",
   "metadata": {
    "ExecuteTime": {
     "end_time": "2022-07-20T18:32:39.240198Z",
     "start_time": "2022-07-20T18:32:39.202142Z"
    }
   },
   "outputs": [],
   "source": [
    "pixel_features = rgb.reshape((-1, rgb.shape[-1]))"
   ]
  },
  {
   "cell_type": "code",
   "execution_count": 27,
   "id": "southwest-option",
   "metadata": {
    "ExecuteTime": {
     "end_time": "2022-07-20T18:33:00.539485Z",
     "start_time": "2022-07-20T18:32:39.241961Z"
    }
   },
   "outputs": [
    {
     "name": "stderr",
     "output_type": "stream",
     "text": [
      "100%|███████████████████████████████████████| 3/3 [00:21<00:00,  7.09s/it]\n"
     ]
    }
   ],
   "source": [
    "multi_superpixel_features_mean = [get_superpixel_means_as_features(seg, rgb) for seg in tqdm(segmentations)]"
   ]
  },
  {
   "cell_type": "code",
   "execution_count": 28,
   "id": "designed-tongue",
   "metadata": {
    "ExecuteTime": {
     "end_time": "2022-07-20T18:33:00.587628Z",
     "start_time": "2022-07-20T18:33:00.547580Z"
    }
   },
   "outputs": [
    {
     "data": {
      "text/plain": [
       "(3568916, 3)"
      ]
     },
     "execution_count": 28,
     "metadata": {},
     "output_type": "execute_result"
    }
   ],
   "source": [
    "multi_superpixel_features_mean[0].shape"
   ]
  },
  {
   "cell_type": "code",
   "execution_count": 29,
   "id": "further-designation",
   "metadata": {
    "ExecuteTime": {
     "end_time": "2022-07-20T18:33:26.175031Z",
     "start_time": "2022-07-20T18:33:00.589461Z"
    }
   },
   "outputs": [
    {
     "name": "stderr",
     "output_type": "stream",
     "text": [
      "  0%|                                               | 0/3 [00:00<?, ?it/s]/Users/cmarshak/opt/anaconda3/envs/dswx_val/lib/python3.10/site-packages/scipy/ndimage/_measurements.py:523: RuntimeWarning: invalid value encountered in divide\n",
      "  means = sums / counts\n",
      "100%|███████████████████████████████████████| 3/3 [00:25<00:00,  8.51s/it]\n"
     ]
    }
   ],
   "source": [
    "multi_superpixel_features_std = [get_superpixel_stds_as_features(seg, rgb) for seg in tqdm(segmentations)]"
   ]
  },
  {
   "cell_type": "code",
   "execution_count": 30,
   "id": "strange-copying",
   "metadata": {
    "ExecuteTime": {
     "end_time": "2022-07-20T18:34:46.135416Z",
     "start_time": "2022-07-20T18:33:26.176779Z"
    }
   },
   "outputs": [
    {
     "name": "stderr",
     "output_type": "stream",
     "text": [
      "100%|███████████████████████████████████████| 3/3 [00:40<00:00, 13.35s/it]\n",
      "100%|███████████████████████████████████████| 3/3 [00:39<00:00, 13.28s/it]\n"
     ]
    }
   ],
   "source": [
    "multi_superpixel_means = [get_array_from_features(seg, feature) \n",
    "                          for (seg, feature) in zip(tqdm(segmentations),                                                                                                     multi_superpixel_features_mean)]\n",
    "multi_superpixel_stds = [get_array_from_features(seg, feature) \n",
    "                          for (seg, feature) in zip(tqdm(segmentations),                                                                                                     multi_superpixel_features_std)]"
   ]
  },
  {
   "cell_type": "code",
   "execution_count": 31,
   "id": "deluxe-still",
   "metadata": {
    "ExecuteTime": {
     "end_time": "2022-07-20T18:34:54.368017Z",
     "start_time": "2022-07-20T18:34:46.137047Z"
    }
   },
   "outputs": [],
   "source": [
    "scale_ind = 0\n",
    "img_super = multi_superpixel_means[scale_ind]\n",
    "p_superp = p_cropped.copy()\n",
    "p_superp['count'] = 3\n",
    "\n",
    "with rasterio.open(out_class_dir / f'superpixel_means_scale-{scale_ind}_{PLANET_ID}.tif', 'w', **p_superp) as ds:\n",
    "    ds.write(img_super.transpose([2, 0, 1]))"
   ]
  },
  {
   "cell_type": "code",
   "execution_count": 32,
   "id": "comprehensive-petroleum",
   "metadata": {
    "ExecuteTime": {
     "end_time": "2022-07-20T18:34:54.408270Z",
     "start_time": "2022-07-20T18:34:54.369779Z"
    }
   },
   "outputs": [],
   "source": [
    "superpixel_means_pixel_f = [superpixel_means.reshape((-1, rgb.shape[-1])) \n",
    "                            for superpixel_means in multi_superpixel_means]\n",
    "superpixel_stds_pixel_f = [superpixel_stds.reshape((-1, rgb.shape[-1])) \n",
    "                            for superpixel_stds in multi_superpixel_stds]"
   ]
  },
  {
   "cell_type": "code",
   "execution_count": 33,
   "id": "quiet-piano",
   "metadata": {
    "ExecuteTime": {
     "end_time": "2022-07-20T18:35:02.279558Z",
     "start_time": "2022-07-20T18:34:54.410312Z"
    }
   },
   "outputs": [
    {
     "data": {
      "text/plain": [
       "(46771920, 21)"
      ]
     },
     "execution_count": 33,
     "metadata": {},
     "output_type": "execute_result"
    }
   ],
   "source": [
    "all_features = np.hstack(([pixel_features]  \n",
    "                          + superpixel_means_pixel_f \n",
    "                          + superpixel_stds_pixel_f\n",
    "                         ))\n",
    "all_features.shape"
   ]
  },
  {
   "cell_type": "markdown",
   "id": "forced-default",
   "metadata": {},
   "source": [
    "# Generate Training Data\n",
    "\n",
    "Using Peckel Occurance data to generate training data"
   ]
  },
  {
   "cell_type": "code",
   "execution_count": 34,
   "id": "under-canvas",
   "metadata": {
    "ExecuteTime": {
     "end_time": "2022-07-20T18:35:02.341416Z",
     "start_time": "2022-07-20T18:35:02.281245Z"
    }
   },
   "outputs": [],
   "source": [
    "from osgeo import gdal\n",
    "from dem_stitcher.rio_window import read_raster_from_window\n",
    "from rasterio.warp import transform_bounds\n",
    "\n",
    "def build_peckel_vrt(extent: list, \n",
    "                     out_path: Path):\n",
    "    df_peckel_data = gpd.read_file('peckel_tiles.geojson')\n",
    "    bbox = box(*extent)\n",
    "    ind_inter = df_peckel_data.geometry.intersects(bbox)\n",
    "    df_subset = df_peckel_data[ind_inter].reset_index(drop=True)\n",
    "    gdal.BuildVRT(str(out_path), df_subset.source_url.tolist())\n",
    "    return out_path\n",
    "\n",
    "def get_peckel_raster(extent:list) -> tuple:\n",
    "    tmp_vrt = Path('peckel_data_tmp.vrt')\n",
    "    build_peckel_vrt(extent, tmp_vrt)\n",
    "    X, p = read_raster_from_window(tmp_vrt,\n",
    "                                   extent,\n",
    "                                   CRS.from_epsg(4326))\n",
    "    tmp_vrt.unlink()\n",
    "    p['driver'] = 'GTiff'\n",
    "    return X, p"
   ]
  },
  {
   "cell_type": "code",
   "execution_count": 35,
   "id": "flexible-audience",
   "metadata": {
    "ExecuteTime": {
     "end_time": "2022-07-20T18:35:02.387295Z",
     "start_time": "2022-07-20T18:35:02.343151Z"
    }
   },
   "outputs": [
    {
     "data": {
      "text/plain": [
       "array([-95.97375,  32.94   , -95.76   ,  33.12   ])"
      ]
     },
     "execution_count": 35,
     "metadata": {},
     "output_type": "execute_result"
    }
   ],
   "source": [
    "df_chip.to_crs(4326).total_bounds"
   ]
  },
  {
   "cell_type": "code",
   "execution_count": 36,
   "id": "seventh-branch",
   "metadata": {
    "ExecuteTime": {
     "end_time": "2022-07-20T18:35:19.838625Z",
     "start_time": "2022-07-20T18:35:02.389093Z"
    }
   },
   "outputs": [],
   "source": [
    "X_occ, p_occ = get_peckel_raster(df_chip.to_crs(4326).total_bounds)"
   ]
  },
  {
   "cell_type": "code",
   "execution_count": 37,
   "id": "nutritional-majority",
   "metadata": {
    "ExecuteTime": {
     "end_time": "2022-07-20T18:35:19.884903Z",
     "start_time": "2022-07-20T18:35:19.840399Z"
    }
   },
   "outputs": [],
   "source": [
    "with rasterio.open(out_class_dir / f'occurrence_{PLANET_ID}.tif', 'w', **p_occ) as ds:\n",
    "    ds.write(X_occ, 1)"
   ]
  },
  {
   "cell_type": "code",
   "execution_count": 38,
   "id": "deluxe-continent",
   "metadata": {
    "ExecuteTime": {
     "end_time": "2022-07-20T18:35:19.924293Z",
     "start_time": "2022-07-20T18:35:19.886509Z"
    }
   },
   "outputs": [],
   "source": [
    "#plt.imshow(X_occ)"
   ]
  },
  {
   "cell_type": "code",
   "execution_count": 39,
   "id": "arbitrary-vintage",
   "metadata": {
    "ExecuteTime": {
     "end_time": "2022-07-20T18:35:20.007917Z",
     "start_time": "2022-07-20T18:35:19.926000Z"
    }
   },
   "outputs": [],
   "source": [
    "from scipy import ndimage\n",
    "\n",
    "OCC_MIN = 20\n",
    "DIST_TO_EXTENT = 5\n",
    "\n",
    "water_ind = (X_occ >= OCC_MIN)\n",
    "water_extent = (X_occ > 0)\n",
    "\n",
    "water_extent_arr = (~water_extent).astype(int)\n",
    "water_dist = ndimage.distance_transform_edt(water_extent_arr)\n",
    "\n",
    "land_ind = water_dist > DIST_TO_EXTENT"
   ]
  },
  {
   "cell_type": "code",
   "execution_count": 40,
   "id": "third-negative",
   "metadata": {
    "ExecuteTime": {
     "end_time": "2022-07-20T18:35:20.378812Z",
     "start_time": "2022-07-20T18:35:20.009516Z"
    }
   },
   "outputs": [
    {
     "data": {
      "text/plain": [
       "Text(0.5, 1.0, 'Land Mask')"
      ]
     },
     "execution_count": 40,
     "metadata": {},
     "output_type": "execute_result"
    },
    {
     "data": {
      "image/png": "[encoded data removed]",
      "text/plain": [
       "<Figure size 1080x360 with 3 Axes>"
      ]
     },
     "metadata": {
      "needs_background": "light"
     },
     "output_type": "display_data"
    }
   ],
   "source": [
    "fig, ax = plt.subplots(1, 3, figsize=(15,5))\n",
    "\n",
    "ax[0].imshow(water_ind)\n",
    "ax[0].set_title('Water Mask')\n",
    "\n",
    "ax[1].imshow(water_dist)\n",
    "ax[1].set_title('Distance to non-zero occurence')\n",
    "\n",
    "ax[2].imshow(land_ind)\n",
    "ax[2].set_title('Land Mask')"
   ]
  },
  {
   "cell_type": "code",
   "execution_count": 41,
   "id": "minus-rebate",
   "metadata": {
    "ExecuteTime": {
     "end_time": "2022-07-20T18:35:20.535428Z",
     "start_time": "2022-07-20T18:35:20.380459Z"
    }
   },
   "outputs": [
    {
     "data": {
      "text/plain": [
       "<matplotlib.image.AxesImage at 0x1d9cfcb20>"
      ]
     },
     "execution_count": 41,
     "metadata": {},
     "output_type": "execute_result"
    },
    {
     "data": {
      "image/png": "[encoded data removed]",
      "text/plain": [
       "<Figure size 432x288 with 1 Axes>"
      ]
     },
     "metadata": {
      "needs_background": "light"
     },
     "output_type": "display_data"
    }
   ],
   "source": [
    "training_data_4326 = np.zeros(X_occ.shape) * np.nan\n",
    "training_data_4326[land_ind] = 2\n",
    "training_data_4326[water_ind] = 1\n",
    "plt.title('np.nan = no label/nodata, 1=water, 2 = land')\n",
    "plt.imshow(training_data_4326, interpolation='none')"
   ]
  },
  {
   "cell_type": "code",
   "execution_count": 43,
   "id": "internal-southwest",
   "metadata": {
    "ExecuteTime": {
     "end_time": "2022-07-20T18:35:36.098909Z",
     "start_time": "2022-07-20T18:35:32.405861Z"
    }
   },
   "outputs": [
    {
     "data": {
      "text/plain": [
       "<matplotlib.image.AxesImage at 0x106f062c0>"
      ]
     },
     "execution_count": 43,
     "metadata": {},
     "output_type": "execute_result"
    },
    {
     "data": {
      "image/png": "[encoded data removed]",
      "text/plain": [
       "<Figure size 432x288 with 1 Axes>"
      ]
     },
     "metadata": {
      "needs_background": "light"
     },
     "output_type": "display_data"
    }
   ],
   "source": [
    "p_temp = p_occ.copy()\n",
    "p_temp['dtype'] = 'float32'\n",
    "p_temp['nodata'] = np.nan\n",
    "\n",
    "\n",
    "training_data_r, p_r = reproject_arr_to_match_profile(training_data_4326, p_temp, p_cropped)\n",
    "\n",
    "training_data_r = training_data_r[0, ...].round()\n",
    "\n",
    "plt.imshow(training_data_r, interpolation='none')"
   ]
  },
  {
   "cell_type": "code",
   "execution_count": 44,
   "id": "prescribed-beach",
   "metadata": {
    "ExecuteTime": {
     "end_time": "2022-07-20T18:35:36.989043Z",
     "start_time": "2022-07-20T18:35:36.101605Z"
    }
   },
   "outputs": [],
   "source": [
    "with rasterio.open(out_class_dir/f'training_data_reprojected_{PLANET_ID}.tif', 'w', **p_r) as ds:\n",
    "    ds.write(training_data_r, 1)"
   ]
  },
  {
   "cell_type": "code",
   "execution_count": 45,
   "id": "executed-witness",
   "metadata": {
    "ExecuteTime": {
     "end_time": "2022-07-20T18:35:37.062505Z",
     "start_time": "2022-07-20T18:35:36.990775Z"
    }
   },
   "outputs": [],
   "source": [
    "labels = training_data_r.copy()"
   ]
  },
  {
   "cell_type": "code",
   "execution_count": 46,
   "id": "supposed-exercise",
   "metadata": {
    "ExecuteTime": {
     "end_time": "2022-07-20T18:35:37.169680Z",
     "start_time": "2022-07-20T18:35:37.064878Z"
    }
   },
   "outputs": [],
   "source": [
    "labels_f = labels.reshape((-1, 1)).ravel()\n",
    "\n",
    "f_mask = (~((labels_f == 0) | np.isnan(labels_f) | mask.ravel())).ravel()"
   ]
  },
  {
   "cell_type": "code",
   "execution_count": 47,
   "id": "important-savings",
   "metadata": {
    "ExecuteTime": {
     "end_time": "2022-07-20T18:35:37.212583Z",
     "start_time": "2022-07-20T18:35:37.171502Z"
    }
   },
   "outputs": [],
   "source": [
    "rf = RandomForestClassifier(n_estimators=500,\n",
    "                            oob_score=True,\n",
    "                            random_state=0,\n",
    "                            n_jobs=8,\n",
    "                            warm_start=True)\n"
   ]
  },
  {
   "cell_type": "markdown",
   "id": "spatial-comparison",
   "metadata": {},
   "source": [
    "There must be a better way to do this - this makes sure training data has equal water and land, the later which is much more over-represented. Think something like this will do: https://imbalanced-learn.org/stable/auto_examples/applications/plot_multi_class_under_sampling.html#sphx-glr-auto-examples-applications-plot-multi-class-under-sampling-py/"
   ]
  },
  {
   "cell_type": "code",
   "execution_count": 48,
   "id": "athletic-final",
   "metadata": {
    "ExecuteTime": {
     "end_time": "2022-07-20T18:35:45.113910Z",
     "start_time": "2022-07-20T18:35:37.214338Z"
    }
   },
   "outputs": [],
   "source": [
    "X_labeled_all = all_features[f_mask]\n",
    "y_labeled_all = labels_f[f_mask]"
   ]
  },
  {
   "cell_type": "code",
   "execution_count": 49,
   "id": "perceived-output",
   "metadata": {
    "ExecuteTime": {
     "end_time": "2022-07-20T18:35:47.508500Z",
     "start_time": "2022-07-20T18:35:45.115527Z"
    }
   },
   "outputs": [],
   "source": [
    "if (1 in np.unique(y_labeled_all)):\n",
    "    PERCENT_OF_DATA = .05\n",
    "    subset_of_data_pixels = (~f_mask).sum() * PERCENT_OF_DATA\n",
    "\n",
    "    np.random.seed(0)\n",
    "    water_ind_f = np.where(y_labeled_all == 1)[0]\n",
    "\n",
    "    # Make sure training water never exceed more than p% of available data\n",
    "    n_max = int(np.minimum(y_labeled_all.shape[0], subset_of_data_pixels))\n",
    "    water_ind_f_sample = np.random.choice(water_ind_f, size=n_max)\n",
    "\n",
    "    land_ind_f = np.where(y_labeled_all == 2)[0]\n",
    "    n_land = int(np.minimum(water_ind_f_sample.shape[0], subset_of_data_pixels)) \n",
    "    land_ind_f_sample = np.random.choice(land_ind_f, size=n_land)\n",
    "\n",
    "    indices_for_labeling = np.hstack([water_ind_f_sample, land_ind_f_sample])\n",
    "    indices_for_labeling.shape\n",
    "\n",
    "    y_labeled = y_labeled_all[indices_for_labeling].astype(int)\n",
    "    X_labeled = X_labeled_all[indices_for_labeling, ...]\n",
    "\n",
    "else:\n",
    "    print(f'No water in training data: {1 not in np.unique(y_labeled_all)}')\n",
    "    \n",
    "    PERCENT_OF_DATA = .1\n",
    "    land_ind_f = np.where(y_labeled_all == 2)[0]\n",
    "    n = int(PERCENT_OF_DATA * (~f_mask).sum())\n",
    "    land_ind_f_sample = np.random.choice(land_ind_f, size=n)\n",
    "    \n",
    "    \n",
    "    y_labeled = y_labeled_all[land_ind_f_sample].astype(int)\n",
    "    X_labeled = X_labeled_all[land_ind_f_sample, ...]\n"
   ]
  },
  {
   "cell_type": "code",
   "execution_count": 50,
   "id": "abstract-venezuela",
   "metadata": {
    "ExecuteTime": {
     "end_time": "2022-07-20T18:35:47.682377Z",
     "start_time": "2022-07-20T18:35:47.510807Z"
    }
   },
   "outputs": [],
   "source": [
    "X_train, X_test, y_train, y_test = train_test_split(X_labeled, \n",
    "                                                    y_labeled, \n",
    "                                                    test_size=0.2,\n",
    "                                                    train_size=0.8,\n",
    "                                                    random_state=0,\n",
    "                                                    # stratify=y_labeled\n",
    "                                                    )"
   ]
  },
  {
   "cell_type": "code",
   "execution_count": 51,
   "id": "mediterranean-germany",
   "metadata": {
    "ExecuteTime": {
     "end_time": "2022-07-20T18:38:25.008847Z",
     "start_time": "2022-07-20T18:35:47.686026Z"
    }
   },
   "outputs": [
    {
     "name": "stdout",
     "output_type": "stream",
     "text": [
      "The Peckel data has water: True\n",
      "CPU times: user 18min 12s, sys: 8.87 s, total: 18min 21s\n",
      "Wall time: 2min 37s\n"
     ]
    }
   ],
   "source": [
    "%%time\n",
    "\n",
    "print(f'The Peckel data has water: {1 in np.unique(y_labeled_all)}')\n",
    "\n",
    "rf_path = Path('rf.joblib')\n",
    "\n",
    "\n",
    "if (1 not in np.unique(y_labeled_all)):\n",
    "    rf_prev = joblib.load(rf_path)\n",
    "    rf = rf_prev\n",
    "    # see this discussion: https://stackoverflow.com/questions/42757892/how-to-use-warm-start\n",
    "    # print(f'loading previously trained random forrest with {rf.n_estimators} trees and adding 250 more')\n",
    "\n",
    "    # rf.set_params(n_estimators=(rf.n_estimators + 250))\n",
    "    # print(f'now {rf.n_estimators} trees')\n",
    "else:  \n",
    "    rf.fit(X_train, \n",
    "           y_train)\n"
   ]
  },
  {
   "cell_type": "code",
   "execution_count": 52,
   "id": "choice-protocol",
   "metadata": {
    "ExecuteTime": {
     "end_time": "2022-07-20T18:38:26.009886Z",
     "start_time": "2022-07-20T18:38:25.010617Z"
    }
   },
   "outputs": [
    {
     "name": "stdout",
     "output_type": "stream",
     "text": [
      "CPU times: user 7.14 s, sys: 183 ms, total: 7.32 s\n",
      "Wall time: 962 ms\n"
     ]
    }
   ],
   "source": [
    "%%time\n",
    "\n",
    "y_pred = rf.predict(X_test)"
   ]
  },
  {
   "cell_type": "code",
   "execution_count": 53,
   "id": "emotional-avatar",
   "metadata": {
    "ExecuteTime": {
     "end_time": "2022-07-20T18:38:26.048105Z",
     "start_time": "2022-07-20T18:38:26.011671Z"
    }
   },
   "outputs": [],
   "source": [
    "class_dict = {1: 'water', \n",
    "              2: 'not_water'}"
   ]
  },
  {
   "cell_type": "code",
   "execution_count": 54,
   "id": "trying-monitoring",
   "metadata": {
    "ExecuteTime": {
     "end_time": "2022-07-20T18:38:26.118424Z",
     "start_time": "2022-07-20T18:38:26.049617Z"
    }
   },
   "outputs": [],
   "source": [
    "y_pred_str = pd.Series([class_dict[class_id] for class_id in y_pred], name='Predicted')\n",
    "y_true_str = pd.Series([class_dict[class_id] for class_id in y_test], name='True')"
   ]
  },
  {
   "cell_type": "markdown",
   "id": "intellectual-cannon",
   "metadata": {},
   "source": [
    "This gives us how well we did on the labeled test data. Random forests will do pretty well on the labeled data since the labeled data is continugous and the superpixels aggregations will likely be shared across pixels."
   ]
  },
  {
   "cell_type": "code",
   "execution_count": 55,
   "id": "minor-motor",
   "metadata": {
    "ExecuteTime": {
     "end_time": "2022-07-20T18:38:26.187008Z",
     "start_time": "2022-07-20T18:38:26.120042Z"
    }
   },
   "outputs": [
    {
     "data": {
      "text/html": [
       "<div>\n",
       "<style scoped>\n",
       "    .dataframe tbody tr th:only-of-type {\n",
       "        vertical-align: middle;\n",
       "    }\n",
       "\n",
       "    .dataframe tbody tr th {\n",
       "        vertical-align: top;\n",
       "    }\n",
       "\n",
       "    .dataframe thead th {\n",
       "        text-align: right;\n",
       "    }\n",
       "</style>\n",
       "<table border=\"1\" class=\"dataframe\">\n",
       "  <thead>\n",
       "    <tr style=\"text-align: right;\">\n",
       "      <th>Predicted</th>\n",
       "      <th>not_water</th>\n",
       "      <th>water</th>\n",
       "    </tr>\n",
       "    <tr>\n",
       "      <th>True</th>\n",
       "      <th></th>\n",
       "      <th></th>\n",
       "    </tr>\n",
       "  </thead>\n",
       "  <tbody>\n",
       "    <tr>\n",
       "      <th>not_water</th>\n",
       "      <td>58837</td>\n",
       "      <td>16</td>\n",
       "    </tr>\n",
       "    <tr>\n",
       "      <th>water</th>\n",
       "      <td>0</td>\n",
       "      <td>58683</td>\n",
       "    </tr>\n",
       "  </tbody>\n",
       "</table>\n",
       "</div>"
      ],
      "text/plain": [
       "Predicted  not_water  water\n",
       "True                       \n",
       "not_water      58837     16\n",
       "water              0  58683"
      ]
     },
     "execution_count": 55,
     "metadata": {},
     "output_type": "execute_result"
    }
   ],
   "source": [
    "df_conf = pd.crosstab(y_true_str, y_pred_str)\n",
    "df_conf"
   ]
  },
  {
   "cell_type": "code",
   "execution_count": 56,
   "id": "intended-peripheral",
   "metadata": {
    "ExecuteTime": {
     "end_time": "2022-07-20T18:38:38.698099Z",
     "start_time": "2022-07-20T18:38:26.188714Z"
    }
   },
   "outputs": [],
   "source": [
    "all_mask_f = (mask.reshape((-1,)))\n",
    "\n",
    "X_all = all_features[~all_mask_f, \n",
    "                     ...]"
   ]
  },
  {
   "cell_type": "code",
   "execution_count": 57,
   "id": "duplicate-consistency",
   "metadata": {
    "ExecuteTime": {
     "end_time": "2022-07-20T18:43:19.192307Z",
     "start_time": "2022-07-20T18:38:38.700126Z"
    }
   },
   "outputs": [
    {
     "name": "stdout",
     "output_type": "stream",
     "text": [
      "CPU times: user 29min 47s, sys: 3min 19s, total: 33min 6s\n",
      "Wall time: 4min 40s\n"
     ]
    }
   ],
   "source": [
    "%%time\n",
    "\n",
    "y_all = rf.predict(X_all)"
   ]
  },
  {
   "cell_type": "code",
   "execution_count": 58,
   "id": "compound-narrative",
   "metadata": {
    "ExecuteTime": {
     "end_time": "2022-07-20T18:43:19.459496Z",
     "start_time": "2022-07-20T18:43:19.196200Z"
    }
   },
   "outputs": [],
   "source": [
    "y_arr = np.zeros(mask.shape)\n",
    "\n",
    "y_arr[~mask] = y_all\n",
    "y_arr[mask] = 0"
   ]
  },
  {
   "cell_type": "code",
   "execution_count": 59,
   "id": "republican-interim",
   "metadata": {
    "ExecuteTime": {
     "end_time": "2022-07-20T18:43:19.708373Z",
     "start_time": "2022-07-20T18:43:19.461392Z"
    }
   },
   "outputs": [],
   "source": [
    "p = profile_cropped.copy()\n",
    "p['count'] = 1 \n",
    "p['dtype'] = np.uint8\n",
    "with rasterio.open(out_class_dir / f'classification_{PLANET_ID}.tif', 'w', **p) as ds:\n",
    "    ds.write(y_arr.astype(np.uint8), 1)"
   ]
  },
  {
   "cell_type": "code",
   "execution_count": 60,
   "id": "raised-frontier",
   "metadata": {
    "ExecuteTime": {
     "end_time": "2022-07-20T18:43:19.935918Z",
     "start_time": "2022-07-20T18:43:19.710132Z"
    }
   },
   "outputs": [],
   "source": [
    "p = profile_cropped.copy()\n",
    "p['count'] = 1 \n",
    "p['dtype'] = np.uint8\n",
    "with rasterio.open(out_class_dir / f'classification_HAND_UPDATES_{PLANET_ID}.tif', 'w', **p) as ds:\n",
    "    ds.write(y_arr.astype(np.uint8), 1)"
   ]
  },
  {
   "cell_type": "code",
   "execution_count": 61,
   "id": "running-february",
   "metadata": {
    "ExecuteTime": {
     "end_time": "2022-07-20T18:43:20.832285Z",
     "start_time": "2022-07-20T18:43:19.937620Z"
    }
   },
   "outputs": [
    {
     "data": {
      "text/plain": [
       "<matplotlib.image.AxesImage at 0x1d21ef2b0>"
      ]
     },
     "execution_count": 61,
     "metadata": {},
     "output_type": "execute_result"
    },
    {
     "data": {
      "image/png": "[encoded data removed]",
      "text/plain": [
       "<Figure size 432x288 with 1 Axes>"
      ]
     },
     "metadata": {
      "needs_background": "light"
     },
     "output_type": "display_data"
    }
   ],
   "source": [
    "plt.imshow(y_arr, interpolation='none')"
   ]
  },
  {
   "cell_type": "markdown",
   "id": "welcome-healthcare",
   "metadata": {},
   "source": [
    "# Feature Importances\n",
    "\n",
    "See: https://scikit-learn.org/stable/modules/generated/sklearn.ensemble.RandomForestClassifier.html#sklearn.ensemble.RandomForestClassifier.feature_importances_"
   ]
  },
  {
   "cell_type": "code",
   "execution_count": 62,
   "id": "completed-conjunction",
   "metadata": {
    "ExecuteTime": {
     "end_time": "2022-07-20T18:43:20.923675Z",
     "start_time": "2022-07-20T18:43:20.834204Z"
    }
   },
   "outputs": [
    {
     "data": {
      "text/plain": [
       "array([0.18567521, 0.00480364, 0.00687749, 0.11415165, 0.00682245,\n",
       "       0.00780446, 0.18260382, 0.00651951, 0.00679716, 0.21643983,\n",
       "       0.00816578, 0.00784285, 0.09312203, 0.0142042 , 0.01384607,\n",
       "       0.05146104, 0.01248067, 0.00693764, 0.03947706, 0.00777429,\n",
       "       0.00619314])"
      ]
     },
     "execution_count": 62,
     "metadata": {},
     "output_type": "execute_result"
    }
   ],
   "source": [
    "rf.feature_importances_"
   ]
  },
  {
   "cell_type": "code",
   "execution_count": 63,
   "id": "surprising-winner",
   "metadata": {
    "ExecuteTime": {
     "end_time": "2022-07-20T18:43:20.962746Z",
     "start_time": "2022-07-20T18:43:20.925666Z"
    }
   },
   "outputs": [],
   "source": [
    "# Guess about OSError: Too many files open (https://github.com/joblib/joblib/issues/81)\n",
    "# joblib.dump(rf, out_class_dir/f'rf_{PLANET_ID}.joblib') "
   ]
  },
  {
   "cell_type": "markdown",
   "id": "driving-wilderness",
   "metadata": {},
   "source": [
    "# Save Data"
   ]
  },
  {
   "cell_type": "code",
   "execution_count": 64,
   "id": "checked-delight",
   "metadata": {
    "ExecuteTime": {
     "end_time": "2022-07-20T18:43:21.006366Z",
     "start_time": "2022-07-20T18:43:20.964544Z"
    }
   },
   "outputs": [
    {
     "name": "stderr",
     "output_type": "stream",
     "text": [
      "/var/folders/s6/fbsc26cd0ddffbp3_knts_9c0wcxj1/T/ipykernel_29102/4294218237.py:1: FutureWarning: Using short name for 'orient' is deprecated. Only the options: ('dict', list, 'series', 'split', 'records', 'index') will be used in a future version. Use one of the above to silence this warning.\n",
      "  chip_data = df_chip.to_dict('record')[0]\n"
     ]
    },
    {
     "data": {
      "text/plain": [
       "{'CENTERX': -95.866875,\n",
       " 'CENTERY': 33.03,\n",
       " 'STRATA': 3,\n",
       " 'SAMPLE_ID': '3_40',\n",
       " 'date': '2011-07-10',\n",
       " 'LS_Validat': 1,\n",
       " 'random_id': 42,\n",
       " 'geometry': <shapely.geometry.polygon.Polygon at 0x1ce18afb0>}"
      ]
     },
     "execution_count": 64,
     "metadata": {},
     "output_type": "execute_result"
    }
   ],
   "source": [
    "chip_data = df_chip.to_dict('record')[0]\n",
    "chip_data"
   ]
  },
  {
   "cell_type": "code",
   "execution_count": 65,
   "id": "stuffed-reasoning",
   "metadata": {
    "ExecuteTime": {
     "end_time": "2022-07-20T18:43:21.050991Z",
     "start_time": "2022-07-20T18:43:21.012668Z"
    }
   },
   "outputs": [
    {
     "data": {
      "text/plain": [
       "{'not_water': {'not_water': 58837, 'water': 0},\n",
       " 'water': {'not_water': 16, 'water': 58683}}"
      ]
     },
     "execution_count": 65,
     "metadata": {},
     "output_type": "execute_result"
    }
   ],
   "source": [
    "df_conf.to_dict()"
   ]
  },
  {
   "cell_type": "code",
   "execution_count": 66,
   "id": "pharmaceutical-integration",
   "metadata": {
    "ExecuteTime": {
     "end_time": "2022-07-20T18:43:21.140226Z",
     "start_time": "2022-07-20T18:43:21.052851Z"
    }
   },
   "outputs": [],
   "source": [
    "fi = list(map(lambda x: f'{x:06f}', rf.feature_importances_))"
   ]
  },
  {
   "cell_type": "code",
   "execution_count": 67,
   "id": "broken-fisher",
   "metadata": {
    "ExecuteTime": {
     "end_time": "2022-07-20T18:43:21.187012Z",
     "start_time": "2022-07-20T18:43:21.142148Z"
    }
   },
   "outputs": [],
   "source": [
    "BUCKET_NAME = 'opera-calval-dswx-jupyter'"
   ]
  },
  {
   "cell_type": "code",
   "execution_count": 68,
   "id": "stylish-vienna",
   "metadata": {
    "ExecuteTime": {
     "end_time": "2022-07-20T18:43:21.243620Z",
     "start_time": "2022-07-20T18:43:21.189648Z"
    }
   },
   "outputs": [
    {
     "data": {
      "text/plain": [
       "{'geometry': <shapely.geometry.polygon.Polygon at 0x1ce18afb0>,\n",
       " 'feature_list': 'pixels (rgb) ,mean_superpixel (rgb for 3 segs),std_superpixels for rgb image (rgb for 3 segs)',\n",
       " 'feature_importances': '0.185675,0.004804,0.006877,0.114152,0.006822,0.007804,0.182604,0.006520,0.006797,0.216440,0.008166,0.007843,0.093122,0.014204,0.013846,0.051461,0.012481,0.006938,0.039477,0.007774,0.006193',\n",
       " 'accuracy': {'not_water': {'not_water': 58837, 'water': 0},\n",
       "  'water': {'not_water': 16, 'water': 58683}},\n",
       " 's3_bucket': 'opera-calval-dswx-jupyter',\n",
       " 's3_prefix': 'classification_outputs_peckel/20211003_161639_91_241d',\n",
       " 's3_keys': 'chip_cropped_20211003_161639_91_241d.tif,classification_20211003_161639_91_241d.tif,classification_HAND_UPDATES_20211003_161639_91_241d.tif,metadata.geojson,occurrence_20211003_161639_91_241d.tif,superpixel_means_scale-0_20211003_161639_91_241d.tif,training_data_reprojected_20211003_161639_91_241d.tif',\n",
       " 'chip_id': 42,\n",
       " 'strata': 3}"
      ]
     },
     "execution_count": 68,
     "metadata": {},
     "output_type": "execute_result"
    }
   ],
   "source": [
    "class_data = {'geometry': chip_data['geometry'],\n",
    "              'feature_list': 'pixels (rgb) ,mean_superpixel (rgb for 3 segs),std_superpixels for rgb image (rgb for 3 segs)',\n",
    "              'feature_importances': ','.join(fi),\n",
    "              'accuracy': df_conf.to_dict(),\n",
    "              's3_bucket': BUCKET_NAME,\n",
    "              's3_prefix': str(out_class_dir),\n",
    "              's3_keys': ','.join([x.name for x in sorted(list(out_class_dir.glob('*')))]),\n",
    "              'chip_id': chip_data['random_id'],\n",
    "              'strata': chip_data['STRATA'],\n",
    "              'planet_id': PLANET_ID\n",
    "             }\n",
    "class_data"
   ]
  },
  {
   "cell_type": "code",
   "execution_count": 69,
   "id": "particular-career",
   "metadata": {
    "ExecuteTime": {
     "end_time": "2022-07-20T18:43:21.294129Z",
     "start_time": "2022-07-20T18:43:21.246581Z"
    }
   },
   "outputs": [],
   "source": [
    "df_out = gpd.GeoDataFrame([class_data],\n",
    "                           crs=df_chip.crs)"
   ]
  },
  {
   "cell_type": "code",
   "execution_count": 70,
   "id": "suffering-polls",
   "metadata": {
    "ExecuteTime": {
     "end_time": "2022-07-20T18:43:21.350576Z",
     "start_time": "2022-07-20T18:43:21.296214Z"
    }
   },
   "outputs": [],
   "source": [
    "df_out.to_file(out_class_dir / f'metadata.geojson', driver='GeoJSON')\n"
   ]
  },
  {
   "cell_type": "markdown",
   "id": "apparent-montreal",
   "metadata": {},
   "source": [
    "# Save Running Model\n",
    "\n",
    "Save model if does not exist"
   ]
  },
  {
   "cell_type": "code",
   "execution_count": 71,
   "id": "devoted-notebook",
   "metadata": {
    "ExecuteTime": {
     "end_time": "2022-07-20T18:43:21.394500Z",
     "start_time": "2022-07-20T18:43:21.352387Z"
    }
   },
   "outputs": [],
   "source": [
    "if not rf_path.exists():\n",
    "    joblib.dump(rf, f'rf.joblib') \n",
    "\n",
    "    rf = None"
   ]
  }
 ],
 "metadata": {
  "kernelspec": {
   "display_name": "dswx_val",
   "language": "python",
   "name": "dswx_val"
  },
  "language_info": {
   "codemirror_mode": {
    "name": "ipython",
    "version": 3
   },
   "file_extension": ".py",
   "mimetype": "text/x-python",
   "name": "python",
   "nbconvert_exporter": "python",
   "pygments_lexer": "ipython3",
   "version": "3.10.5"
  }
 },
 "nbformat": 4,
 "nbformat_minor": 5
}
