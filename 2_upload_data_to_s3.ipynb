{
 "cells": [
  {
   "cell_type": "code",
   "execution_count": 1,
   "id": "covered-biology",
   "metadata": {
    "ExecuteTime": {
     "end_time": "2022-07-22T22:27:02.999898Z",
     "start_time": "2022-07-22T22:27:02.236689Z"
    }
   },
   "outputs": [],
   "source": [
    "from rscube.aws import upload_file_to_s3\n",
    "from pathlib import Path\n",
    "import geopandas as gpd\n",
    "import pandas as pd\n",
    "from tqdm import tqdm"
   ]
  },
  {
   "cell_type": "markdown",
   "id": "downtown-carnival",
   "metadata": {},
   "source": [
    "# Upload Directory\n",
    "\n",
    "Uses *relative* path to generate prefix and key for s3 bucket. Assumes metadata.json.\n",
    "\n",
    "Probably should re-write this so no side-effects."
   ]
  },
  {
   "cell_type": "code",
   "execution_count": 2,
   "id": "annual-underwear",
   "metadata": {
    "ExecuteTime": {
     "end_time": "2022-07-22T22:27:03.011208Z",
     "start_time": "2022-07-22T22:27:03.002136Z"
    }
   },
   "outputs": [
    {
     "data": {
      "text/plain": [
       "[PosixPath('classification_outputs_peckel/20211011_155455_52_2262'),\n",
       " PosixPath('classification_outputs_peckel/20210925_191708_94_2408'),\n",
       " PosixPath('classification_outputs_peckel/20211014_152910_49_2459'),\n",
       " PosixPath('classification_outputs_peckel/20210926_072414_71_2233'),\n",
       " PosixPath('classification_outputs_peckel/20211003_161639_91_241d'),\n",
       " PosixPath('classification_outputs_peckel/.DS_Store'),\n",
       " PosixPath('classification_outputs_peckel/20210914_051809_10_2455'),\n",
       " PosixPath('classification_outputs_peckel/20210901_175205_71_2426'),\n",
       " PosixPath('classification_outputs_peckel/20211028_045455_02_2459'),\n",
       " PosixPath('classification_outputs_peckel/20210906_183639_52_240c'),\n",
       " PosixPath('classification_outputs_peckel/20210924_082025_48_2424'),\n",
       " PosixPath('classification_outputs_peckel/20211027_151445_21_2231'),\n",
       " PosixPath('classification_outputs_peckel/20211030_142613_41_227b'),\n",
       " PosixPath('classification_outputs_peckel/20211010_080351_47_2458'),\n",
       " PosixPath('classification_outputs_peckel/20211005_135201_42_227e')]"
      ]
     },
     "execution_count": 2,
     "metadata": {},
     "output_type": "execute_result"
    }
   ],
   "source": [
    "class_directories = list(Path('classification_outputs_peckel').glob('*/'))\n",
    "class_directories"
   ]
  },
  {
   "cell_type": "code",
   "execution_count": 3,
   "id": "electronic-artist",
   "metadata": {
    "ExecuteTime": {
     "end_time": "2022-07-22T22:27:03.016604Z",
     "start_time": "2022-07-22T22:27:03.012960Z"
    }
   },
   "outputs": [],
   "source": [
    "def upload_directory(dir_path: Path) -> list:\n",
    "    df_meta = gpd.GeoDataFrame.from_file(dir_path / 'metadata.geojson')\n",
    "    \n",
    "    BUCKET = df_meta.s3_bucket[0]\n",
    "    PREFIX = df_meta.s3_prefix[0]\n",
    "    assert(PREFIX == str(dir_path))\n",
    "    \n",
    "    paths = list(dir_path.glob('*'))\n",
    "    paths = list(filter(lambda x: 'cropped' not in x.name, paths))\n",
    "    \n",
    "    upload_file_to_s3_p = lambda path: upload_file_to_s3(path, BUCKET, PREFIX)\n",
    "\n",
    "    return list(map(upload_file_to_s3_p, tqdm(paths, desc=f'Uploading files in {dir_path.name}')))"
   ]
  },
  {
   "cell_type": "code",
   "execution_count": null,
   "id": "loving-hurricane",
   "metadata": {
    "ExecuteTime": {
     "start_time": "2022-07-22T22:27:02.236Z"
    }
   },
   "outputs": [
    {
     "name": "stderr",
     "output_type": "stream",
     "text": [
      "Uploading Directories:   0%|                       | 0/15 [00:00<?, ?it/s]\n",
      "Uploading files in 20211011_155455_52_2262:   0%|   | 0/7 [00:00<?, ?it/s]\u001b[A\n",
      "Uploading files in 20211011_155455_52_2262:  14%|▏| 1/7 [00:02<00:15,  2.6\u001b[A\n",
      "Uploading files in 20211011_155455_52_2262:  29%|▎| 2/7 [00:02<00:05,  1.1\u001b[A\n",
      "Uploading files in 20211011_155455_52_2262:  43%|▍| 3/7 [00:03<00:03,  1.0\u001b[A"
     ]
    }
   ],
   "source": [
    "list(map(upload_directory, tqdm(class_directories, desc='Uploading Directories')))"
   ]
  },
  {
   "cell_type": "markdown",
   "id": "three-rochester",
   "metadata": {},
   "source": [
    "# Aggregate Table"
   ]
  },
  {
   "cell_type": "code",
   "execution_count": null,
   "id": "connected-conclusion",
   "metadata": {
    "ExecuteTime": {
     "start_time": "2022-07-22T22:27:02.237Z"
    }
   },
   "outputs": [],
   "source": [
    "import boto3\n",
    "\n",
    "s3client = boto3.client('s3')\n",
    "BUCKET_NAME = 'opera-calval-dswx-jupyter'\n",
    "objects = s3client.list_objects(Bucket=BUCKET_NAME)['Contents']\n",
    "objects[:5]"
   ]
  },
  {
   "cell_type": "code",
   "execution_count": null,
   "id": "senior-safety",
   "metadata": {
    "ExecuteTime": {
     "start_time": "2022-07-22T22:27:02.238Z"
    }
   },
   "outputs": [],
   "source": [
    "objs_meta = list(filter(lambda obj: 'metadata.geojson' == obj['Key'].split('/')[-1], objects))\n",
    "objs_meta"
   ]
  },
  {
   "cell_type": "code",
   "execution_count": null,
   "id": "moral-mother",
   "metadata": {
    "ExecuteTime": {
     "start_time": "2022-07-22T22:27:02.238Z"
    }
   },
   "outputs": [],
   "source": [
    "def read_one(obj):\n",
    "    key = obj['Key']\n",
    "    return gpd.read_file(f's3://{BUCKET_NAME}/{key}')"
   ]
  },
  {
   "cell_type": "code",
   "execution_count": null,
   "id": "defined-tribe",
   "metadata": {
    "ExecuteTime": {
     "start_time": "2022-07-22T22:27:02.239Z"
    }
   },
   "outputs": [],
   "source": [
    "dfs = list(map(read_one, objs_meta))\n",
    "df_meta_all = pd.concat(dfs, axis=0)\n",
    "df_meta_all"
   ]
  },
  {
   "cell_type": "code",
   "execution_count": null,
   "id": "removable-scholarship",
   "metadata": {
    "ExecuteTime": {
     "start_time": "2022-07-22T22:27:02.239Z"
    }
   },
   "outputs": [],
   "source": [
    "TABLE_NAME = f'dswx_classification_rf_peckel.geojson'\n",
    "df_meta_all.to_file(f's3://{BUCKET_NAME}/{TABLE_NAME}', driver='GeoJSON')"
   ]
  }
 ],
 "metadata": {
  "celltoolbar": "Tags",
  "kernelspec": {
   "display_name": "dswx_val",
   "language": "python",
   "name": "dswx_val"
  },
  "language_info": {
   "codemirror_mode": {
    "name": "ipython",
    "version": 3
   },
   "file_extension": ".py",
   "mimetype": "text/x-python",
   "name": "python",
   "nbconvert_exporter": "python",
   "pygments_lexer": "ipython3",
   "version": "3.10.5"
  }
 },
 "nbformat": 4,
 "nbformat_minor": 5
}
