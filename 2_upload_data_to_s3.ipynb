{
 "cells": [
  {
   "cell_type": "code",
   "execution_count": 1,
   "id": "impaired-output",
   "metadata": {
    "ExecuteTime": {
     "end_time": "2022-07-22T22:27:02.999898Z",
     "start_time": "2022-07-22T22:27:02.236689Z"
    }
   },
   "outputs": [],
   "source": [
    "from rscube.aws import upload_file_to_s3\n",
    "from pathlib import Path\n",
    "import geopandas as gpd\n",
    "import pandas as pd\n",
    "from tqdm import tqdm"
   ]
  },
  {
   "cell_type": "markdown",
   "id": "grateful-progress",
   "metadata": {},
   "source": [
    "# Upload Directory\n",
    "\n",
    "Uses *relative* path to generate prefix and key for s3 bucket. Assumes metadata.json.\n",
    "\n",
    "Probably should re-write this so no side-effects."
   ]
  },
  {
   "cell_type": "code",
   "execution_count": 10,
   "id": "banned-passage",
   "metadata": {
    "ExecuteTime": {
     "end_time": "2022-07-22T22:47:29.642222Z",
     "start_time": "2022-07-22T22:47:29.637367Z"
    }
   },
   "outputs": [
    {
     "data": {
      "text/plain": [
       "[PosixPath('classification_outputs_peckel/20211011_155455_52_2262'),\n",
       " PosixPath('classification_outputs_peckel/20210925_191708_94_2408'),\n",
       " PosixPath('classification_outputs_peckel/20211014_152910_49_2459'),\n",
       " PosixPath('classification_outputs_peckel/20210926_072414_71_2233'),\n",
       " PosixPath('classification_outputs_peckel/20211003_161639_91_241d'),\n",
       " PosixPath('classification_outputs_peckel/20210914_051809_10_2455'),\n",
       " PosixPath('classification_outputs_peckel/20210901_175205_71_2426'),\n",
       " PosixPath('classification_outputs_peckel/20211028_045455_02_2459'),\n",
       " PosixPath('classification_outputs_peckel/20210906_183639_52_240c'),\n",
       " PosixPath('classification_outputs_peckel/20210924_082025_48_2424'),\n",
       " PosixPath('classification_outputs_peckel/20211027_151445_21_2231'),\n",
       " PosixPath('classification_outputs_peckel/20211030_142613_41_227b'),\n",
       " PosixPath('classification_outputs_peckel/20211010_080351_47_2458'),\n",
       " PosixPath('classification_outputs_peckel/20211005_135201_42_227e')]"
      ]
     },
     "execution_count": 10,
     "metadata": {},
     "output_type": "execute_result"
    }
   ],
   "source": [
    "class_directories = list(Path('classification_outputs_peckel').glob('*/'))\n",
    "class_directories = list(filter(lambda x: '.DS_Store' not in x.name, class_directories))\n",
    "class_directories"
   ]
  },
  {
   "cell_type": "code",
   "execution_count": 11,
   "id": "undefined-strategy",
   "metadata": {
    "ExecuteTime": {
     "end_time": "2022-07-22T22:47:30.689009Z",
     "start_time": "2022-07-22T22:47:30.685209Z"
    }
   },
   "outputs": [],
   "source": [
    "def upload_directory(dir_path: Path) -> list:\n",
    "    df_meta = gpd.GeoDataFrame.from_file(dir_path / 'metadata.geojson')\n",
    "    \n",
    "    BUCKET = df_meta.s3_bucket[0]\n",
    "    PREFIX = df_meta.s3_prefix[0]\n",
    "    assert(PREFIX == str(dir_path))\n",
    "    \n",
    "    paths = list(dir_path.glob('*'))\n",
    "    paths = list(filter(lambda x: '.DS_Store' not in x.name, paths))\n",
    "    paths = list(filter(lambda x: 'cropped' not in x.name, paths))\n",
    "    \n",
    "    upload_file_to_s3_p = lambda path: upload_file_to_s3(path, BUCKET, PREFIX)\n",
    "\n",
    "    return list(map(upload_file_to_s3_p, tqdm(paths, desc=f'Uploading files in {dir_path.name}')))"
   ]
  },
  {
   "cell_type": "code",
   "execution_count": null,
   "id": "fatty-bennett",
   "metadata": {
    "ExecuteTime": {
     "start_time": "2022-07-22T22:47:31.131Z"
    }
   },
   "outputs": [
    {
     "name": "stderr",
     "output_type": "stream",
     "text": [
      "Uploading Directories:   0%|                       | 0/14 [00:00<?, ?it/s]\n",
      "Uploading files in 20211011_155455_52_2262:   0%|   | 0/7 [00:00<?, ?it/s]\u001b[A\n",
      "Uploading files in 20211011_155455_52_2262:  14%|▏| 1/7 [00:02<00:15,  2.5\u001b[A\n",
      "Uploading files in 20211011_155455_52_2262:  29%|▎| 2/7 [00:02<00:05,  1.1\u001b[A\n",
      "Uploading files in 20211011_155455_52_2262:  43%|▍| 3/7 [00:03<00:03,  1.0\u001b[A\n",
      "Uploading files in 20211011_155455_52_2262:  57%|▌| 4/7 [03:11<03:43, 74.6\u001b[A\n",
      "Uploading files in 20211011_155455_52_2262:  71%|▋| 5/7 [03:11<01:35, 47.9\u001b[A\n",
      "Uploading files in 20211011_155455_52_2262:  86%|▊| 6/7 [03:11<00:31, 31.7\u001b[A\n",
      "Uploading files in 20211011_155455_52_2262: 100%|█| 7/7 [03:12<00:00, 27.4\u001b[A\n",
      "Uploading Directories:   7%|█             | 1/14 [03:12<41:41, 192.41s/it]\n",
      "Uploading files in 20210925_191708_94_2408:   0%|   | 0/8 [00:00<?, ?it/s]\u001b[A\n",
      "Uploading files in 20210925_191708_94_2408:  12%|▏| 1/8 [00:00<00:03,  2.2\u001b[A\n",
      "Uploading files in 20210925_191708_94_2408:  25%|▎| 2/8 [00:00<00:01,  3.6\u001b[A\n",
      "Uploading files in 20210925_191708_94_2408:  38%|▍| 3/8 [00:01<00:01,  2.9\u001b[A\n",
      "Uploading files in 20210925_191708_94_2408:  50%|▌| 4/8 [00:01<00:01,  2.5\u001b[A\n",
      "Uploading files in 20210925_191708_94_2408:  62%|▋| 5/8 [03:35<03:52, 77.5\u001b[A\n",
      "Uploading files in 20210925_191708_94_2408:  75%|▊| 6/8 [03:36<01:43, 51.5\u001b[A\n",
      "Uploading files in 20210925_191708_94_2408:  88%|▉| 7/8 [03:38<00:35, 35.1\u001b[A\n",
      "Uploading files in 20210925_191708_94_2408: 100%|█| 8/8 [03:38<00:00, 27.3\u001b[A\n",
      "Uploading Directories:  14%|██            | 2/14 [06:51<41:33, 207.82s/it]\n",
      "Uploading files in 20211014_152910_49_2459:   0%|   | 0/7 [00:00<?, ?it/s]\u001b[A\n",
      "Uploading files in 20211014_152910_49_2459:  14%|▏| 1/7 [00:00<00:03,  1.9\u001b[A\n",
      "Uploading files in 20211014_152910_49_2459:  29%|▎| 2/7 [00:01<00:02,  1.8\u001b[A\n",
      "Uploading files in 20211014_152910_49_2459:  43%|▍| 3/7 [00:01<00:01,  2.8\u001b[A\n",
      "Uploading files in 20211014_152910_49_2459:  57%|▌| 4/7 [00:02<00:02,  1.1\u001b[A\n",
      "Uploading files in 20211014_152910_49_2459:  71%|▋| 5/7 [02:13<01:35, 47.6\u001b[A\n",
      "Uploading files in 20211014_152910_49_2459:  86%|▊| 6/7 [02:14<00:31, 31.6\u001b[A\n",
      "Uploading files in 20211014_152910_49_2459: 100%|█| 7/7 [02:15<00:00, 19.3\u001b[A\n",
      "Uploading Directories:  21%|███           | 3/14 [09:06<32:00, 174.62s/it]\n",
      "Uploading files in 20210926_072414_71_2233:   0%|   | 0/7 [00:00<?, ?it/s]\u001b[A\n",
      "Uploading files in 20210926_072414_71_2233:  14%|▏| 1/7 [00:00<00:02,  2.1\u001b[A\n",
      "Uploading files in 20210926_072414_71_2233:  29%|▎| 2/7 [00:00<00:02,  2.1\u001b[A\n",
      "Uploading files in 20210926_072414_71_2233:  43%|▍| 3/7 [00:01<00:01,  2.3\u001b[A\n",
      "Uploading files in 20210926_072414_71_2233:  57%|▌| 4/7 [00:01<00:00,  3.1\u001b[A\n",
      "Uploading files in 20210926_072414_71_2233:  71%|▋| 5/7 [00:02<00:01,  1.4\u001b[A\n",
      "Uploading files in 20210926_072414_71_2233:  86%|▊| 6/7 [00:03<00:00,  1.2\u001b[A\n",
      "Uploading files in 20210926_072414_71_2233: 100%|█| 7/7 [04:08<00:00, 35.5\u001b[A\n",
      "Uploading Directories:  29%|████          | 4/14 [13:14<33:58, 203.90s/it]\n",
      "Uploading files in 20211003_161639_91_241d:   0%|   | 0/7 [00:00<?, ?it/s]\u001b[A\n",
      "Uploading files in 20211003_161639_91_241d:  14%|▏| 1/7 [00:01<00:09,  1.5\u001b[A\n",
      "Uploading files in 20211003_161639_91_241d:  29%|▎| 2/7 [04:28<13:06, 157.\u001b[A\n",
      "Uploading files in 20211003_161639_91_241d:  43%|▍| 3/7 [04:28<05:42, 85.5\u001b[A\n",
      "Uploading files in 20211003_161639_91_241d:  57%|▌| 4/7 [04:30<02:38, 52.8\u001b[A\n",
      "Uploading files in 20211003_161639_91_241d:  71%|▋| 5/7 [04:31<01:07, 33.9\u001b[A\n",
      "Uploading files in 20211003_161639_91_241d:  86%|▊| 6/7 [04:31<00:22, 22.5\u001b[A\n",
      "Uploading files in 20211003_161639_91_241d: 100%|█| 7/7 [04:32<00:00, 38.9\u001b[A\n",
      "Uploading Directories:  36%|█████         | 5/14 [17:47<34:17, 228.59s/it]\n",
      "Uploading files in 20210914_051809_10_2455:   0%|   | 0/7 [00:00<?, ?it/s]\u001b[A\n",
      "Uploading files in 20210914_051809_10_2455:  14%|▏| 1/7 [00:00<00:03,  1.8\u001b[A\n",
      "Uploading files in 20210914_051809_10_2455:  29%|▎| 2/7 [00:01<00:02,  1.8\u001b[A\n",
      "Uploading files in 20210914_051809_10_2455:  43%|▍| 3/7 [00:01<00:02,  1.8\u001b[A\n",
      "Uploading files in 20210914_051809_10_2455:  57%|▌| 4/7 [00:01<00:01,  2.6\u001b[A\n",
      "Uploading files in 20210914_051809_10_2455:  71%|▋| 5/7 [00:03<00:01,  1.3\u001b[A\n",
      "Uploading files in 20210914_051809_10_2455:  86%|▊| 6/7 [04:05<01:22, 82.9\u001b[A\n",
      "Uploading files in 20210914_051809_10_2455: 100%|█| 7/7 [04:06<00:00, 35.2\u001b[A\n",
      "Uploading Directories:  43%|██████        | 6/14 [21:53<31:17, 234.65s/it]\n",
      "Uploading files in 20210901_175205_71_2426:   0%|   | 0/7 [00:00<?, ?it/s]\u001b[A\n",
      "Uploading files in 20210901_175205_71_2426:  14%|▏| 1/7 [00:02<00:16,  2.7\u001b[A\n",
      "Uploading files in 20210901_175205_71_2426:  29%|▎| 2/7 [00:03<00:07,  1.4\u001b[A\n",
      "Uploading files in 20210901_175205_71_2426:  43%|▍| 3/7 [04:16<07:46, 116.\u001b[A\n",
      "Uploading files in 20210901_175205_71_2426:  57%|▌| 4/7 [04:17<03:31, 70.6\u001b[A\n",
      "Uploading files in 20210901_175205_71_2426:  71%|▋| 5/7 [04:19<01:31, 45.9\u001b[A\n",
      "Uploading files in 20210901_175205_71_2426:  86%|▊| 6/7 [04:21<00:30, 30.9\u001b[A\n",
      "Uploading files in 20210901_175205_71_2426: 100%|█| 7/7 [04:22<00:00, 37.4\u001b[A\n",
      "Uploading Directories:  50%|███████       | 7/14 [26:15<28:25, 243.63s/it]\n",
      "Uploading files in 20211028_045455_02_2459:   0%|   | 0/7 [00:00<?, ?it/s]\u001b[A"
     ]
    }
   ],
   "source": [
    "list(map(upload_directory, tqdm(class_directories, desc='Uploading Directories')))"
   ]
  },
  {
   "cell_type": "markdown",
   "id": "civilian-stack",
   "metadata": {},
   "source": [
    "# Aggregate Table"
   ]
  },
  {
   "cell_type": "code",
   "execution_count": null,
   "id": "hearing-responsibility",
   "metadata": {
    "ExecuteTime": {
     "start_time": "2022-07-22T22:47:34.506Z"
    }
   },
   "outputs": [],
   "source": [
    "import boto3\n",
    "\n",
    "s3client = boto3.client('s3')\n",
    "BUCKET_NAME = 'opera-calval-dswx-jupyter'\n",
    "objects = s3client.list_objects(Bucket=BUCKET_NAME)['Contents']\n",
    "objects[:5]"
   ]
  },
  {
   "cell_type": "code",
   "execution_count": null,
   "id": "advised-poison",
   "metadata": {
    "ExecuteTime": {
     "start_time": "2022-07-22T22:47:34.763Z"
    }
   },
   "outputs": [],
   "source": [
    "objs_meta = list(filter(lambda obj: 'metadata.geojson' == obj['Key'].split('/')[-1], objects))\n",
    "objs_meta"
   ]
  },
  {
   "cell_type": "code",
   "execution_count": null,
   "id": "north-backing",
   "metadata": {
    "ExecuteTime": {
     "start_time": "2022-07-22T22:47:34.995Z"
    }
   },
   "outputs": [],
   "source": [
    "def read_one(obj):\n",
    "    key = obj['Key']\n",
    "    return gpd.read_file(f's3://{BUCKET_NAME}/{key}')"
   ]
  },
  {
   "cell_type": "code",
   "execution_count": null,
   "id": "regional-constraint",
   "metadata": {
    "ExecuteTime": {
     "start_time": "2022-07-22T22:47:35.259Z"
    }
   },
   "outputs": [],
   "source": [
    "dfs = list(map(read_one, objs_meta))\n",
    "df_meta_all = pd.concat(dfs, axis=0)\n",
    "df_meta_all"
   ]
  },
  {
   "cell_type": "code",
   "execution_count": null,
   "id": "collaborative-providence",
   "metadata": {
    "ExecuteTime": {
     "start_time": "2022-07-22T22:47:35.530Z"
    }
   },
   "outputs": [],
   "source": [
    "TABLE_NAME = f'dswx_classification_rf_peckel.geojson'\n",
    "df_meta_all.to_file(f's3://{BUCKET_NAME}/{TABLE_NAME}', driver='GeoJSON')"
   ]
  }
 ],
 "metadata": {
  "celltoolbar": "Tags",
  "kernelspec": {
   "display_name": "dswx_val",
   "language": "python",
   "name": "dswx_val"
  },
  "language_info": {
   "codemirror_mode": {
    "name": "ipython",
    "version": 3
   },
   "file_extension": ".py",
   "mimetype": "text/x-python",
   "name": "python",
   "nbconvert_exporter": "python",
   "pygments_lexer": "ipython3",
   "version": "3.10.5"
  }
 },
 "nbformat": 4,
 "nbformat_minor": 5
}
