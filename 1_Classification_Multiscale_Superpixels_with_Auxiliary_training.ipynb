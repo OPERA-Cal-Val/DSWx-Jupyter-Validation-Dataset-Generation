{
 "cells": [
  {
   "cell_type": "markdown",
   "id": "emerging-capture",
   "metadata": {},
   "source": [
    "This is a slightly involved classification notebook - using superpixels to generate features. The results look good in that we reduce commission errors. The segmentation might be "
   ]
  },
  {
   "cell_type": "code",
   "execution_count": 1,
   "id": "statutory-paste",
   "metadata": {
    "ExecuteTime": {
     "end_time": "2022-08-08T16:22:46.826921Z",
     "start_time": "2022-08-08T16:22:46.802530Z"
    }
   },
   "outputs": [],
   "source": [
    "%load_ext autoreload\n",
    "%autoreload 2"
   ]
  },
  {
   "cell_type": "code",
   "execution_count": 2,
   "id": "precious-quarterly",
   "metadata": {
    "ExecuteTime": {
     "end_time": "2022-08-08T16:22:50.883943Z",
     "start_time": "2022-08-08T16:22:46.829070Z"
    }
   },
   "outputs": [],
   "source": [
    "from tqdm import tqdm\n",
    "import rasterio\n",
    "import matplotlib.pyplot as plt\n",
    "import numpy as np\n",
    "from skimage.segmentation import felzenszwalb\n",
    "from skimage.color import label2rgb\n",
    "from rscube.nd_tools import (get_array_from_features, \n",
    "                             get_features_from_array, \n",
    "                             get_superpixel_area_as_features, \n",
    "                             get_superpixel_means_as_features,\n",
    "                             get_superpixel_stds_as_features, \n",
    "                             scale_img, apply_func_to_superpixels)\n",
    "from rscube.rio_tools import (get_geopandas_features_from_array, \n",
    "                              rasterize_shapes_to_array, \n",
    "                              get_indices_from_extent, get_cropped_profile)\n",
    "\n",
    "from sklearn.cluster import KMeans\n",
    "from skimage.segmentation import felzenszwalb, slic\n",
    "from skimage.color import label2rgb\n",
    "from pprint import pprint\n",
    "import geopandas as gpd\n",
    "from rasterio import plot\n",
    "import pandas as pd\n",
    "from sklearn.model_selection import train_test_split\n",
    "from sklearn.ensemble import RandomForestClassifier\n",
    "from sklearn.metrics import precision_recall_fscore_support as score\n",
    "import geopandas as gpd\n",
    "from shapely.geometry import box\n",
    "from rasterio.windows import Window\n",
    "from pathlib import Path\n",
    "from rasterio.crs import CRS\n",
    "from dem_stitcher.rio_tools import reproject_arr_to_match_profile\n",
    "import joblib\n",
    "from rscube.s1_lulc import get_s1_lulc_data\n",
    "from rscube.peckel import get_peckel_occ_raster"
   ]
  },
  {
   "cell_type": "code",
   "execution_count": 3,
   "id": "focused-seeker",
   "metadata": {
    "ExecuteTime": {
     "end_time": "2022-08-08T16:22:50.931756Z",
     "start_time": "2022-08-08T16:22:50.889412Z"
    },
    "tags": [
     "parameters"
    ]
   },
   "outputs": [],
   "source": [
    "PLANET_ID = '20211003_161639_91_241d'\n",
    "TRAINING_TYPE = 'peckel'"
   ]
  },
  {
   "cell_type": "code",
   "execution_count": 4,
   "id": "representative-liabilities",
   "metadata": {
    "ExecuteTime": {
     "end_time": "2022-08-08T16:22:50.974815Z",
     "start_time": "2022-08-08T16:22:50.933455Z"
    }
   },
   "outputs": [],
   "source": [
    "assert(TRAINING_TYPE in ['peckel', 's1_lulc'])"
   ]
  },
  {
   "cell_type": "code",
   "execution_count": 5,
   "id": "micro-collector",
   "metadata": {
    "ExecuteTime": {
     "end_time": "2022-08-08T16:22:51.022479Z",
     "start_time": "2022-08-08T16:22:50.976466Z"
    }
   },
   "outputs": [
    {
     "data": {
      "text/plain": [
       "True"
      ]
     },
     "execution_count": 5,
     "metadata": {},
     "output_type": "execute_result"
    }
   ],
   "source": [
    "planet_image_path = Path(f'local_chips/{PLANET_ID}_3B_AnalyticMS_SR_8b.tif')\n",
    "planet_image_path.exists()"
   ]
  },
  {
   "cell_type": "markdown",
   "id": "agreed-jamaica",
   "metadata": {},
   "source": [
    "# Path"
   ]
  },
  {
   "cell_type": "code",
   "execution_count": 6,
   "id": "considered-suite",
   "metadata": {
    "ExecuteTime": {
     "end_time": "2022-08-08T16:22:51.502218Z",
     "start_time": "2022-08-08T16:22:51.024054Z"
    }
   },
   "outputs": [],
   "source": [
    "out_class_dir = Path(f'classification_outputs_{TRAINING_TYPE}/{PLANET_ID}')\n",
    "out_class_dir.mkdir(exist_ok=True, parents=True)"
   ]
  },
  {
   "cell_type": "markdown",
   "id": "acoustic-workplace",
   "metadata": {},
   "source": [
    "# Load Chips\n",
    "\n",
    "Want to crop image based on chip"
   ]
  },
  {
   "cell_type": "code",
   "execution_count": 7,
   "id": "sharing-understanding",
   "metadata": {
    "ExecuteTime": {
     "end_time": "2022-08-08T16:22:52.690201Z",
     "start_time": "2022-08-08T16:22:51.504058Z"
    }
   },
   "outputs": [
    {
     "data": {
      "text/html": [
       "<div>\n",
       "<style scoped>\n",
       "    .dataframe tbody tr th:only-of-type {\n",
       "        vertical-align: middle;\n",
       "    }\n",
       "\n",
       "    .dataframe tbody tr th {\n",
       "        vertical-align: top;\n",
       "    }\n",
       "\n",
       "    .dataframe thead th {\n",
       "        text-align: right;\n",
       "    }\n",
       "</style>\n",
       "<table border=\"1\" class=\"dataframe\">\n",
       "  <thead>\n",
       "    <tr style=\"text-align: right;\">\n",
       "      <th></th>\n",
       "      <th>site_name</th>\n",
       "      <th>water_content</th>\n",
       "      <th>geometry</th>\n",
       "    </tr>\n",
       "  </thead>\n",
       "  <tbody>\n",
       "    <tr>\n",
       "      <th>0</th>\n",
       "      <td>3_42</td>\n",
       "      <td>3.0</td>\n",
       "      <td>POLYGON ((-122.95236 57.91514, -122.78589 57.9...</td>\n",
       "    </tr>\n",
       "    <tr>\n",
       "      <th>1</th>\n",
       "      <td>4_21</td>\n",
       "      <td>4.0</td>\n",
       "      <td>POLYGON ((-72.05120 55.21516, -71.89605 55.215...</td>\n",
       "    </tr>\n",
       "    <tr>\n",
       "      <th>2</th>\n",
       "      <td>2_8</td>\n",
       "      <td>2.0</td>\n",
       "      <td>POLYGON ((-70.87008 -52.06500, -70.72517 -52.0...</td>\n",
       "    </tr>\n",
       "    <tr>\n",
       "      <th>3</th>\n",
       "      <td>4_3</td>\n",
       "      <td>4.0</td>\n",
       "      <td>POLYGON ((33.56456 -16.33480, 33.56454 -16.245...</td>\n",
       "    </tr>\n",
       "    <tr>\n",
       "      <th>4</th>\n",
       "      <td>4_34</td>\n",
       "      <td>4.0</td>\n",
       "      <td>POLYGON ((-96.70081 62.77517, -96.57702 62.775...</td>\n",
       "    </tr>\n",
       "  </tbody>\n",
       "</table>\n",
       "</div>"
      ],
      "text/plain": [
       "  site_name  water_content                                           geometry\n",
       "0      3_42            3.0  POLYGON ((-122.95236 57.91514, -122.78589 57.9...\n",
       "1      4_21            4.0  POLYGON ((-72.05120 55.21516, -71.89605 55.215...\n",
       "2       2_8            2.0  POLYGON ((-70.87008 -52.06500, -70.72517 -52.0...\n",
       "3       4_3            4.0  POLYGON ((33.56456 -16.33480, 33.56454 -16.245...\n",
       "4      4_34            4.0  POLYGON ((-96.70081 62.77517, -96.57702 62.775..."
      ]
     },
     "execution_count": 7,
     "metadata": {},
     "output_type": "execute_result"
    }
   ],
   "source": [
    "df = gpd.read_file('s3://opera-calval-database-dswx/site.geojson')\n",
    "df.dropna(inplace=True)\n",
    "df.head()"
   ]
  },
  {
   "cell_type": "code",
   "execution_count": 8,
   "id": "stock-theme",
   "metadata": {
    "ExecuteTime": {
     "end_time": "2022-08-08T16:22:52.743414Z",
     "start_time": "2022-08-08T16:22:52.692549Z"
    }
   },
   "outputs": [
    {
     "data": {
      "text/plain": [
       "(130, 3)"
      ]
     },
     "execution_count": 8,
     "metadata": {},
     "output_type": "execute_result"
    }
   ],
   "source": [
    "df.shape"
   ]
  },
  {
   "cell_type": "code",
   "execution_count": 9,
   "id": "another-worcester",
   "metadata": {
    "ExecuteTime": {
     "end_time": "2022-08-08T16:22:52.820702Z",
     "start_time": "2022-08-08T16:22:52.749270Z"
    }
   },
   "outputs": [
    {
     "data": {
      "text/plain": [
       "(10003, 13622)"
      ]
     },
     "execution_count": 9,
     "metadata": {},
     "output_type": "execute_result"
    }
   ],
   "source": [
    "with rasterio.open(planet_image_path) as ds:\n",
    "    image_crs = ds.crs\n",
    "    image_box = box(*ds.bounds)\n",
    "    image_bounds = list(ds.bounds)\n",
    "    image_profile = ds.profile\n",
    "    image_shape = image_profile['height'], image_profile['width']\n",
    "\n",
    "image_shape"
   ]
  },
  {
   "cell_type": "code",
   "execution_count": 10,
   "id": "angry-beads",
   "metadata": {
    "ExecuteTime": {
     "end_time": "2022-08-08T16:22:52.889159Z",
     "start_time": "2022-08-08T16:22:52.822939Z"
    }
   },
   "outputs": [
    {
     "data": {
      "text/html": [
       "<div>\n",
       "<style scoped>\n",
       "    .dataframe tbody tr th:only-of-type {\n",
       "        vertical-align: middle;\n",
       "    }\n",
       "\n",
       "    .dataframe tbody tr th {\n",
       "        vertical-align: top;\n",
       "    }\n",
       "\n",
       "    .dataframe thead th {\n",
       "        text-align: right;\n",
       "    }\n",
       "</style>\n",
       "<table border=\"1\" class=\"dataframe\">\n",
       "  <thead>\n",
       "    <tr style=\"text-align: right;\">\n",
       "      <th></th>\n",
       "      <th>site_name</th>\n",
       "      <th>water_content</th>\n",
       "      <th>geometry</th>\n",
       "    </tr>\n",
       "  </thead>\n",
       "  <tbody>\n",
       "    <tr>\n",
       "      <th>0</th>\n",
       "      <td>3_40</td>\n",
       "      <td>3.0</td>\n",
       "      <td>POLYGON ((227387.352 3663391.783, 237351.958 3...</td>\n",
       "    </tr>\n",
       "  </tbody>\n",
       "</table>\n",
       "</div>"
      ],
      "text/plain": [
       "  site_name  water_content                                           geometry\n",
       "0      3_40            3.0  POLYGON ((227387.352 3663391.783, 237351.958 3..."
      ]
     },
     "execution_count": 10,
     "metadata": {},
     "output_type": "execute_result"
    }
   ],
   "source": [
    "df_utm = df.to_crs(image_crs)\n",
    "intersects = df_utm.geometry.intersects(image_box)\n",
    "df_chip = df_utm[intersects].reset_index(drop=True)\n",
    "df_chip.head()"
   ]
  },
  {
   "cell_type": "markdown",
   "id": "welcome-breeding",
   "metadata": {},
   "source": [
    "It's a little weird because all Planet Imagery is in UTM and Chips are in Lon/Lat."
   ]
  },
  {
   "cell_type": "code",
   "execution_count": 11,
   "id": "funded-cornell",
   "metadata": {
    "ExecuteTime": {
     "end_time": "2022-08-08T16:22:52.937291Z",
     "start_time": "2022-08-08T16:22:52.891402Z"
    }
   },
   "outputs": [],
   "source": [
    "(start_y, start_x), (stop_y, stop_x) = get_indices_from_extent(image_profile['transform'],\n",
    "                                                               list(df_chip.total_bounds),\n",
    "                                                               shape=image_shape)\n",
    "window = Window.from_slices((start_y, stop_y), (start_x, stop_x))\n",
    "sx, sy = np.s_[start_x: stop_x], np.s_[start_y: stop_y]\n",
    "profile_cropped = get_cropped_profile(image_profile, sx, sy)"
   ]
  },
  {
   "cell_type": "markdown",
   "id": "cardiovascular-guyana",
   "metadata": {},
   "source": [
    "We are going to label things based on the chip index."
   ]
  },
  {
   "cell_type": "code",
   "execution_count": 12,
   "id": "better-updating",
   "metadata": {
    "ExecuteTime": {
     "end_time": "2022-08-08T16:22:52.983522Z",
     "start_time": "2022-08-08T16:22:52.939153Z"
    }
   },
   "outputs": [
    {
     "data": {
      "text/plain": [
       "'3_40'"
      ]
     },
     "execution_count": 12,
     "metadata": {},
     "output_type": "execute_result"
    }
   ],
   "source": [
    "index = df_chip.site_name[0]\n",
    "index"
   ]
  },
  {
   "cell_type": "code",
   "execution_count": 13,
   "id": "occupied-nickname",
   "metadata": {
    "ExecuteTime": {
     "end_time": "2022-08-08T16:22:54.908262Z",
     "start_time": "2022-08-08T16:22:52.985370Z"
    }
   },
   "outputs": [
    {
     "data": {
      "text/plain": [
       "(3415, 3417, 8)"
      ]
     },
     "execution_count": 13,
     "metadata": {},
     "output_type": "execute_result"
    }
   ],
   "source": [
    "with rasterio.open(planet_image_path) as ds:\n",
    "    image_c = ds.read(window=window)\n",
    "    image_c = image_c.transpose([1, 2, 0]).astype(np.float32)\n",
    "image_c.shape"
   ]
  },
  {
   "cell_type": "code",
   "execution_count": 14,
   "id": "pretty-toner",
   "metadata": {
    "ExecuteTime": {
     "end_time": "2022-08-08T16:22:54.960163Z",
     "start_time": "2022-08-08T16:22:54.910174Z"
    }
   },
   "outputs": [
    {
     "data": {
      "text/plain": [
       "[(0, 'coastal_blue'),\n",
       " (1, 'blue'),\n",
       " (2, 'green_i'),\n",
       " (3, 'green'),\n",
       " (4, 'yellow'),\n",
       " (5, 'red'),\n",
       " (6, 'rededge'),\n",
       " (7, 'nir')]"
      ]
     },
     "execution_count": 14,
     "metadata": {},
     "output_type": "execute_result"
    }
   ],
   "source": [
    "with rasterio.open(planet_image_path) as ds:\n",
    "\n",
    "    t = ds.tags()\n",
    "    d = ds.descriptions\n",
    "    \n",
    "list(enumerate(d))"
   ]
  },
  {
   "cell_type": "code",
   "execution_count": 15,
   "id": "mechanical-bulgaria",
   "metadata": {
    "ExecuteTime": {
     "end_time": "2022-08-08T16:22:55.020260Z",
     "start_time": "2022-08-08T16:22:54.962084Z"
    }
   },
   "outputs": [],
   "source": [
    "mask = (image_c[..., 0] == image_profile['nodata'])\n",
    "image_c[mask, :] = np.nan"
   ]
  },
  {
   "cell_type": "code",
   "execution_count": 16,
   "id": "traditional-huntington",
   "metadata": {
    "ExecuteTime": {
     "end_time": "2022-08-08T16:22:55.270285Z",
     "start_time": "2022-08-08T16:22:55.021923Z"
    }
   },
   "outputs": [],
   "source": [
    "rgb = scale_img(image_c[..., [7, 5, 3]])\n",
    "# plt.imshow(rgb)"
   ]
  },
  {
   "cell_type": "code",
   "execution_count": 17,
   "id": "domestic-valentine",
   "metadata": {
    "ExecuteTime": {
     "end_time": "2022-08-08T16:22:57.581150Z",
     "start_time": "2022-08-08T16:22:55.272187Z"
    }
   },
   "outputs": [
    {
     "name": "stderr",
     "output_type": "stream",
     "text": [
      "100%|███████████████████████████████████████| 3/3 [00:02<00:00,  1.46it/s]\n"
     ]
    }
   ],
   "source": [
    "image = image_c[..., [7, 5, 3]]\n",
    "\n",
    "image_view = image.copy()\n",
    "for k in tqdm(range(3)):\n",
    "    m0 = np.nanpercentile(image[~mask, k], 2)\n",
    "    m1 = np.nanpercentile(image[~mask, k], 98)\n",
    "    image_view[~mask, k] = np.clip(image[~mask, k], m0, m1)"
   ]
  },
  {
   "cell_type": "code",
   "execution_count": 18,
   "id": "facial-groove",
   "metadata": {
    "ExecuteTime": {
     "end_time": "2022-08-08T16:22:59.141534Z",
     "start_time": "2022-08-08T16:22:57.583130Z"
    }
   },
   "outputs": [
    {
     "data": {
      "text/plain": [
       "<matplotlib.image.AxesImage at 0x1d1b11b10>"
      ]
     },
     "execution_count": 18,
     "metadata": {},
     "output_type": "execute_result"
    },
    {
     "data": {
      "image/png": "[encoded data removed]",
      "text/plain": [
       "<Figure size 432x288 with 1 Axes>"
      ]
     },
     "metadata": {
      "needs_background": "light"
     },
     "output_type": "display_data"
    }
   ],
   "source": [
    "rgb = scale_img(image_view)\n",
    "plt.imshow(rgb)"
   ]
  },
  {
   "cell_type": "code",
   "execution_count": 19,
   "id": "adult-industry",
   "metadata": {
    "ExecuteTime": {
     "end_time": "2022-08-08T16:23:01.843120Z",
     "start_time": "2022-08-08T16:22:59.143115Z"
    }
   },
   "outputs": [],
   "source": [
    "p_cropped = profile_cropped.copy()\n",
    "p_cropped['count'] = 3\n",
    "p_cropped['dtype'] = 'float32'\n",
    "p_cropped['nodata'] = np.nan\n",
    "with rasterio.open(out_class_dir / f'chip_cropped_{PLANET_ID}.tif', 'w', **p_cropped) as ds:\n",
    "    ds.write(rgb.transpose([2, 0, 1]))"
   ]
  },
  {
   "cell_type": "markdown",
   "id": "genetic-turner",
   "metadata": {},
   "source": [
    "You could use the above to figure out some training data. We label it `training_data_{index}`, according to the chip ID.\n",
    "\n",
    "# Segmentation\n",
    "\n",
    "Going to use multiscale superpixels - see [this paper](https://www.mdpi.com/2072-4292/12/12/2048) and the references. I learned about them [here](https://link.springer.com/chapter/10.1007/978-94-017-7239-6_8).\n",
    "\n",
    "Best discussion of felzenswalb algorithm (and parameters below) is by a another JPL team: https://ieeexplore.ieee.org/document/5593215"
   ]
  },
  {
   "cell_type": "code",
   "execution_count": 20,
   "id": "funded-aquatic",
   "metadata": {
    "ExecuteTime": {
     "end_time": "2022-08-08T16:23:01.887113Z",
     "start_time": "2022-08-08T16:23:01.844969Z"
    }
   },
   "outputs": [],
   "source": [
    "def get_segmentation(image, min_size):\n",
    "    mask_temp = np.isnan(image[...,0])\n",
    "    image_seg = image.copy()\n",
    "    # So that np.nans don't give us problems\n",
    "    image_seg[mask_temp, :] = 0\n",
    "    segments_fz = slic(image_seg,\n",
    "                               # may want to play with this\n",
    "                               compactness=7, \n",
    "                               # normally gaussian filter is applied - can experiment\n",
    "                               sigma=0.0,\n",
    "                               # minimum size of segments\n",
    "                               n_segments= int((mask_temp).size / min_size), \n",
    "                               start_label=1,\n",
    "                              )\n",
    "    segments_fz[np.isnan(image[...,0])] = 0\n",
    "    return segments_fz"
   ]
  },
  {
   "cell_type": "markdown",
   "id": "respiratory-spiritual",
   "metadata": {},
   "source": [
    "We are going to use the RGB image from above."
   ]
  },
  {
   "cell_type": "code",
   "execution_count": 21,
   "id": "vietnamese-defensive",
   "metadata": {
    "ExecuteTime": {
     "end_time": "2022-08-08T16:23:42.181802Z",
     "start_time": "2022-08-08T16:23:01.888808Z"
    }
   },
   "outputs": [
    {
     "name": "stderr",
     "output_type": "stream",
     "text": [
      "100%|███████████████████████████████████████| 3/3 [00:40<00:00, 13.42s/it]\n"
     ]
    }
   ],
   "source": [
    "get_segmentation_partial = lambda min_size: get_segmentation(rgb, min_size)\n",
    "segmentations = list(map(get_segmentation_partial, tqdm([15, 30, 60])))"
   ]
  },
  {
   "cell_type": "markdown",
   "id": "alert-tribute",
   "metadata": {},
   "source": [
    "Below would be used to save the segments to a vector file. It takes some time and the segments can be approximately ~1 GB."
   ]
  },
  {
   "cell_type": "code",
   "execution_count": 22,
   "id": "elegant-three",
   "metadata": {
    "ExecuteTime": {
     "end_time": "2022-08-08T16:23:42.228932Z",
     "start_time": "2022-08-08T16:23:42.183508Z"
    }
   },
   "outputs": [],
   "source": [
    "segments_fz = segmentations[0]"
   ]
  },
  {
   "cell_type": "code",
   "execution_count": 23,
   "id": "naughty-chess",
   "metadata": {
    "ExecuteTime": {
     "end_time": "2022-08-08T16:23:42.267757Z",
     "start_time": "2022-08-08T16:23:42.230585Z"
    }
   },
   "outputs": [
    {
     "name": "stdout",
     "output_type": "stream",
     "text": [
      "CPU times: user 2 µs, sys: 1 µs, total: 3 µs\n",
      "Wall time: 5.25 µs\n"
     ]
    }
   ],
   "source": [
    "%%time\n",
    "\n",
    "# features = get_geopandas_features_from_array(segments_fz.astype(np.int32), \n",
    "#                                              profile['transform'], \n",
    "#                                              label_name='label')"
   ]
  },
  {
   "cell_type": "code",
   "execution_count": 24,
   "id": "another-curtis",
   "metadata": {
    "ExecuteTime": {
     "end_time": "2022-08-08T16:23:42.306641Z",
     "start_time": "2022-08-08T16:23:42.269347Z"
    }
   },
   "outputs": [
    {
     "name": "stdout",
     "output_type": "stream",
     "text": [
      "CPU times: user 2 µs, sys: 0 ns, total: 2 µs\n",
      "Wall time: 4.29 µs\n"
     ]
    }
   ],
   "source": [
    "%%time\n",
    "\n",
    "# df_segments = gpd.GeoDataFrame.from_features(features)\n",
    "# df_segments.head()"
   ]
  },
  {
   "cell_type": "code",
   "execution_count": 25,
   "id": "supreme-suspect",
   "metadata": {
    "ExecuteTime": {
     "end_time": "2022-08-08T16:23:42.349378Z",
     "start_time": "2022-08-08T16:23:42.308404Z"
    }
   },
   "outputs": [
    {
     "name": "stdout",
     "output_type": "stream",
     "text": [
      "CPU times: user 2 µs, sys: 0 ns, total: 2 µs\n",
      "Wall time: 5.01 µs\n"
     ]
    }
   ],
   "source": [
    "%%time\n",
    "\n",
    "# df_segments.crs = profile['crs']\n",
    "# df_segments.to_file('segments.geojson', driver='GeoJSON')"
   ]
  },
  {
   "cell_type": "markdown",
   "id": "freelance-glory",
   "metadata": {},
   "source": [
    "# Generate Features"
   ]
  },
  {
   "cell_type": "code",
   "execution_count": 26,
   "id": "injured-organic",
   "metadata": {
    "ExecuteTime": {
     "end_time": "2022-08-08T16:23:42.392103Z",
     "start_time": "2022-08-08T16:23:42.351326Z"
    }
   },
   "outputs": [
    {
     "data": {
      "text/plain": [
       "(3415, 3417, 3)"
      ]
     },
     "execution_count": 26,
     "metadata": {},
     "output_type": "execute_result"
    }
   ],
   "source": [
    "rgb.shape"
   ]
  },
  {
   "cell_type": "code",
   "execution_count": 27,
   "id": "stunning-persian",
   "metadata": {
    "ExecuteTime": {
     "end_time": "2022-08-08T16:23:42.436665Z",
     "start_time": "2022-08-08T16:23:42.399053Z"
    }
   },
   "outputs": [],
   "source": [
    "# pixel_features = rgb.reshape((-1, rgb.shape[-1]))"
   ]
  },
  {
   "cell_type": "code",
   "execution_count": 28,
   "id": "green-welcome",
   "metadata": {
    "ExecuteTime": {
     "end_time": "2022-08-08T16:23:47.545569Z",
     "start_time": "2022-08-08T16:23:42.438461Z"
    }
   },
   "outputs": [
    {
     "name": "stderr",
     "output_type": "stream",
     "text": [
      "100%|███████████████████████████████████████| 3/3 [00:05<00:00,  1.69s/it]\n"
     ]
    },
    {
     "data": {
      "text/plain": [
       "(723021, 3)"
      ]
     },
     "execution_count": 28,
     "metadata": {},
     "output_type": "execute_result"
    }
   ],
   "source": [
    "multi_superpixel_features_mean = [get_superpixel_means_as_features(seg, rgb) for seg in tqdm(segmentations)]\n",
    "multi_superpixel_features_mean[0].shape"
   ]
  },
  {
   "cell_type": "code",
   "execution_count": 29,
   "id": "conditional-barrier",
   "metadata": {
    "ExecuteTime": {
     "end_time": "2022-08-08T16:23:47.590557Z",
     "start_time": "2022-08-08T16:23:47.547182Z"
    }
   },
   "outputs": [],
   "source": [
    "#multi_superpixel_features_std = [get_superpixel_stds_as_features(seg, rgb) for seg in tqdm(segmentations)]"
   ]
  },
  {
   "cell_type": "code",
   "execution_count": 30,
   "id": "empirical-boards",
   "metadata": {
    "ExecuteTime": {
     "end_time": "2022-08-08T16:23:59.648922Z",
     "start_time": "2022-08-08T16:23:47.592408Z"
    }
   },
   "outputs": [
    {
     "name": "stderr",
     "output_type": "stream",
     "text": [
      "100%|███████████████████████████████████████| 3/3 [00:12<00:00,  4.00s/it]\n"
     ]
    }
   ],
   "source": [
    "multi_superpixel_means = [get_array_from_features(seg, feature) \n",
    "                          for (seg, feature) in zip(tqdm(segmentations),                                                                                                     multi_superpixel_features_mean)]"
   ]
  },
  {
   "cell_type": "code",
   "execution_count": 31,
   "id": "sacred-sport",
   "metadata": {
    "ExecuteTime": {
     "end_time": "2022-08-08T16:24:01.692925Z",
     "start_time": "2022-08-08T16:23:59.650581Z"
    }
   },
   "outputs": [],
   "source": [
    "scale_ind = 0\n",
    "img_super = multi_superpixel_means[scale_ind]\n",
    "p_superp = p_cropped.copy()\n",
    "p_superp['count'] = 3\n",
    "\n",
    "with rasterio.open(out_class_dir / f'superpixel_means_scale-{scale_ind}_{PLANET_ID}.tif', 'w', **p_superp) as ds:\n",
    "    ds.write(img_super.transpose([2, 0, 1]))"
   ]
  },
  {
   "cell_type": "code",
   "execution_count": 32,
   "id": "demographic-china",
   "metadata": {
    "ExecuteTime": {
     "end_time": "2022-08-08T16:24:01.737954Z",
     "start_time": "2022-08-08T16:24:01.694722Z"
    }
   },
   "outputs": [],
   "source": [
    "# multi_superpixel_stds = [get_array_from_features(seg, feature) \n",
    "#                           for (seg, feature) in zip(tqdm(segmentations),                                                                                                     multi_superpixel_features_std)]"
   ]
  },
  {
   "cell_type": "code",
   "execution_count": 33,
   "id": "least-uncertainty",
   "metadata": {
    "ExecuteTime": {
     "end_time": "2022-08-08T16:24:01.780178Z",
     "start_time": "2022-08-08T16:24:01.739621Z"
    }
   },
   "outputs": [
    {
     "data": {
      "text/plain": [
       "(723021, 3)"
      ]
     },
     "execution_count": 33,
     "metadata": {},
     "output_type": "execute_result"
    }
   ],
   "source": [
    "multi_superpixel_features_mean[0].shape"
   ]
  },
  {
   "cell_type": "code",
   "execution_count": 34,
   "id": "mighty-driver",
   "metadata": {
    "ExecuteTime": {
     "end_time": "2022-08-08T16:24:05.153061Z",
     "start_time": "2022-08-08T16:24:01.782004Z"
    }
   },
   "outputs": [
    {
     "name": "stderr",
     "output_type": "stream",
     "text": [
      "100%|███████████████████████████████████████| 2/2 [00:03<00:00,  1.67s/it]\n"
     ]
    }
   ],
   "source": [
    "multi_means_features = [multi_superpixel_features_mean[0]] + [get_superpixel_means_as_features(segmentations[0], arr[..., k]) for arr in tqdm(multi_superpixel_means[1:]) for  k in range(3)]"
   ]
  },
  {
   "cell_type": "code",
   "execution_count": 35,
   "id": "strange-engine",
   "metadata": {
    "ExecuteTime": {
     "end_time": "2022-08-08T16:24:05.195474Z",
     "start_time": "2022-08-08T16:24:05.154731Z"
    }
   },
   "outputs": [],
   "source": [
    "# multi_stds_features = [multi_superpixel_features_std[0]] + [get_superpixel_means_as_features(segmentations[0], arr[..., k]) for arr in tqdm(multi_superpixel_stds[1:]) for  k in range(3)]"
   ]
  },
  {
   "cell_type": "code",
   "execution_count": 36,
   "id": "trying-petersburg",
   "metadata": {
    "ExecuteTime": {
     "end_time": "2022-08-08T16:24:05.270194Z",
     "start_time": "2022-08-08T16:24:05.197271Z"
    }
   },
   "outputs": [
    {
     "data": {
      "text/plain": [
       "(723021, 9)"
      ]
     },
     "execution_count": 36,
     "metadata": {},
     "output_type": "execute_result"
    }
   ],
   "source": [
    "all_features = np.hstack((#[]\n",
    "                          #+ [pixel_features]  \n",
    "                          multi_means_features\n",
    "                          #+ multi_stds_features\n",
    "                          # + superpixel_stds_pixel_f\n",
    "                         ))\n",
    "all_features.shape"
   ]
  },
  {
   "cell_type": "markdown",
   "id": "younger-fellowship",
   "metadata": {},
   "source": [
    "# Generate Training Data\n",
    "\n",
    "Using Copernicus Sent2 10 meter data"
   ]
  },
  {
   "cell_type": "code",
   "execution_count": 37,
   "id": "reflected-webster",
   "metadata": {
    "ExecuteTime": {
     "end_time": "2022-08-08T16:24:05.316893Z",
     "start_time": "2022-08-08T16:24:05.271939Z"
    }
   },
   "outputs": [],
   "source": [
    "extent = df_chip.to_crs(4326).total_bounds"
   ]
  },
  {
   "cell_type": "code",
   "execution_count": 38,
   "id": "charming-round",
   "metadata": {
    "ExecuteTime": {
     "end_time": "2022-08-08T16:24:18.194434Z",
     "start_time": "2022-08-08T16:24:05.318558Z"
    }
   },
   "outputs": [],
   "source": [
    "if TRAINING_TYPE == 's1_lulc':\n",
    "    X_s1_lulc, p_s1_lulc = get_s1_lulc_data(extent)\n",
    "    p_training = p_s1_lulc.copy()\n",
    "    \n",
    "    with rasterio.open(out_class_dir / f's1_full_landcover_{PLANET_ID}.tif', 'w', **p_s1_lulc) as ds:\n",
    "        ds.write(X_s1_lulc, 1)\n",
    "        \n",
    "    X_training = (X_s1_lulc == 1).astype(np.float32)\n",
    "    X_training[X_s1_lulc == p_s1_lulc['nodata']] = np.nan\n",
    "    \n",
    "    p_training = p_s1_lulc.copy()\n",
    "    p_training['nodata'] = np.nan\n",
    "    p_training['dtype'] = 'float32'\n",
    "    \n",
    "elif TRAINING_TYPE == 'peckel':\n",
    "    X_occ, p_occ = get_peckel_occ_raster(extent)\n",
    "    \n",
    "    with rasterio.open(out_class_dir / f'occurence_{PLANET_ID}.tif', 'w', **p_occ) as ds:\n",
    "        ds.write(X_occ, 1)\n",
    "    \n",
    "    p_training = p_occ.copy()\n",
    "    p_training['nodata'] = np.nan\n",
    "    p_training['dtype'] = 'float32'\n",
    "    \n",
    "    X_training = np.full(X_occ.shape, np.nan, dtype=np.float32)\n",
    "    OCC_MIN = 30\n",
    "    water_ind = (X_occ >= OCC_MIN)\n",
    "    land_ind = (X_occ == 0)\n",
    "    \n",
    "    X_training[water_ind] = 1\n",
    "    X_training[land_ind] = 0"
   ]
  },
  {
   "cell_type": "code",
   "execution_count": 39,
   "id": "statistical-disorder",
   "metadata": {
    "ExecuteTime": {
     "end_time": "2022-08-08T16:24:18.239996Z",
     "start_time": "2022-08-08T16:24:18.196137Z"
    }
   },
   "outputs": [],
   "source": [
    "with rasterio.open(out_class_dir / f'{TRAINING_TYPE}_training_{PLANET_ID}.tif', 'w', **p_training) as ds:\n",
    "    ds.write(X_training, 1)"
   ]
  },
  {
   "cell_type": "code",
   "execution_count": 40,
   "id": "collective-hawaii",
   "metadata": {
    "ExecuteTime": {
     "end_time": "2022-08-08T16:24:18.395656Z",
     "start_time": "2022-08-08T16:24:18.241763Z"
    }
   },
   "outputs": [
    {
     "data": {
      "text/plain": [
       "<matplotlib.colorbar.Colorbar at 0x1d4bbf430>"
      ]
     },
     "execution_count": 40,
     "metadata": {},
     "output_type": "execute_result"
    },
    {
     "data": {
      "image/png": "[encoded data removed]",
      "text/plain": [
       "<Figure size 432x288 with 2 Axes>"
      ]
     },
     "metadata": {
      "needs_background": "light"
     },
     "output_type": "display_data"
    }
   ],
   "source": [
    "plt.imshow(X_training, interpolation='none')\n",
    "plt.colorbar()"
   ]
  },
  {
   "cell_type": "code",
   "execution_count": 41,
   "id": "statistical-taiwan",
   "metadata": {
    "ExecuteTime": {
     "end_time": "2022-08-08T16:24:19.003373Z",
     "start_time": "2022-08-08T16:24:18.397487Z"
    }
   },
   "outputs": [
    {
     "data": {
      "text/plain": [
       "<matplotlib.image.AxesImage at 0x1d4c66ec0>"
      ]
     },
     "execution_count": 41,
     "metadata": {},
     "output_type": "execute_result"
    },
    {
     "data": {
      "image/png": "[encoded data removed]",
      "text/plain": [
       "<Figure size 432x288 with 1 Axes>"
      ]
     },
     "metadata": {
      "needs_background": "light"
     },
     "output_type": "display_data"
    }
   ],
   "source": [
    "training_data_r, p_r = reproject_arr_to_match_profile(X_training, \n",
    "                                                      p_training, \n",
    "                                                      p_cropped, \n",
    "                                                      resampling='nearest')\n",
    "\n",
    "training_data_r = training_data_r[0, ...].round()\n",
    "\n",
    "plt.imshow(training_data_r, interpolation='none')"
   ]
  },
  {
   "cell_type": "code",
   "execution_count": 42,
   "id": "deluxe-adobe",
   "metadata": {
    "ExecuteTime": {
     "end_time": "2022-08-08T16:24:19.189387Z",
     "start_time": "2022-08-08T16:24:19.005109Z"
    }
   },
   "outputs": [],
   "source": [
    "with rasterio.open(out_class_dir/f'training_data_reprojected_{PLANET_ID}.tif', 'w', **p_r) as ds:\n",
    "    ds.write(training_data_r, 1)"
   ]
  },
  {
   "cell_type": "code",
   "execution_count": 43,
   "id": "muslim-organic",
   "metadata": {
    "ExecuteTime": {
     "end_time": "2022-08-08T16:24:19.236671Z",
     "start_time": "2022-08-08T16:24:19.191095Z"
    }
   },
   "outputs": [],
   "source": [
    "labels = training_data_r.copy()"
   ]
  },
  {
   "cell_type": "code",
   "execution_count": 44,
   "id": "mediterranean-quarterly",
   "metadata": {
    "ExecuteTime": {
     "end_time": "2022-08-08T16:24:28.135605Z",
     "start_time": "2022-08-08T16:24:19.238377Z"
    }
   },
   "outputs": [
    {
     "name": "stdout",
     "output_type": "stream",
     "text": [
      "CPU times: user 8.68 s, sys: 178 ms, total: 8.86 s\n",
      "Wall time: 8.86 s\n"
     ]
    }
   ],
   "source": [
    "%%time\n",
    "\n",
    "f = lambda x: x.sum() / x.size\n",
    "percent_class_features = apply_func_to_superpixels(f, segmentations[0], labels)\n",
    "percent_class_array = get_array_from_features(segmentations[0], percent_class_features)\n"
   ]
  },
  {
   "cell_type": "code",
   "execution_count": 45,
   "id": "tropical-biodiversity",
   "metadata": {
    "ExecuteTime": {
     "end_time": "2022-08-08T16:24:28.358616Z",
     "start_time": "2022-08-08T16:24:28.137540Z"
    }
   },
   "outputs": [],
   "source": [
    "with rasterio.open(out_class_dir/f'percent_class_features_{PLANET_ID}.tif', 'w', **p_r) as ds:\n",
    "    ds.write(percent_class_array, 1)"
   ]
  },
  {
   "cell_type": "code",
   "execution_count": 46,
   "id": "following-flesh",
   "metadata": {
    "ExecuteTime": {
     "end_time": "2022-08-08T16:24:32.783805Z",
     "start_time": "2022-08-08T16:24:28.360407Z"
    }
   },
   "outputs": [],
   "source": [
    "mask_features = get_features_from_array(segmentations[0], mask.astype(int)).astype(bool)"
   ]
  },
  {
   "cell_type": "code",
   "execution_count": 47,
   "id": "opposed-italy",
   "metadata": {
    "ExecuteTime": {
     "end_time": "2022-08-08T16:24:32.832548Z",
     "start_time": "2022-08-08T16:24:32.785725Z"
    }
   },
   "outputs": [],
   "source": [
    "labels_f = np.full(percent_class_features.shape, np.nan, np.float32)\n",
    "labels_f[percent_class_features <.05] = 0\n",
    "labels_f[percent_class_features >.95] = 1\n",
    "\n",
    "f_mask = mask_features | np.isnan(labels_f)"
   ]
  },
  {
   "cell_type": "markdown",
   "id": "divine-ownership",
   "metadata": {},
   "source": [
    "# Train Model"
   ]
  },
  {
   "cell_type": "code",
   "execution_count": 48,
   "id": "brilliant-parking",
   "metadata": {
    "ExecuteTime": {
     "end_time": "2022-08-08T16:24:32.875688Z",
     "start_time": "2022-08-08T16:24:32.834145Z"
    }
   },
   "outputs": [],
   "source": [
    "rf = RandomForestClassifier(n_estimators=500,\n",
    "                            oob_score=True,\n",
    "                            random_state=0,\n",
    "                            n_jobs=5,\n",
    "                            warm_start=False,\n",
    "                            class_weight={0: .5, 1: .5})\n"
   ]
  },
  {
   "cell_type": "markdown",
   "id": "driven-rating",
   "metadata": {},
   "source": [
    "There must be a better way to do this - this makes sure training data has equal water and land, the later which is much more over-represented. Think something like this will do: https://imbalanced-learn.org/stable/auto_examples/applications/plot_multi_class_under_sampling.html#sphx-glr-auto-examples-applications-plot-multi-class-under-sampling-py/"
   ]
  },
  {
   "cell_type": "code",
   "execution_count": 49,
   "id": "accompanied-place",
   "metadata": {
    "ExecuteTime": {
     "end_time": "2022-08-08T16:24:32.950940Z",
     "start_time": "2022-08-08T16:24:32.877654Z"
    }
   },
   "outputs": [],
   "source": [
    "X_labeled_all = all_features[~f_mask.ravel(), ...]\n",
    "y_labeled_all = labels_f[~f_mask]"
   ]
  },
  {
   "cell_type": "code",
   "execution_count": 50,
   "id": "tropical-rouge",
   "metadata": {
    "ExecuteTime": {
     "end_time": "2022-08-08T16:24:33.004594Z",
     "start_time": "2022-08-08T16:24:32.952659Z"
    }
   },
   "outputs": [
    {
     "data": {
      "text/plain": [
       "array([0., 1.], dtype=float32)"
      ]
     },
     "execution_count": 50,
     "metadata": {},
     "output_type": "execute_result"
    }
   ],
   "source": [
    "np.unique(y_labeled_all)"
   ]
  },
  {
   "cell_type": "code",
   "execution_count": 51,
   "id": "convertible-interview",
   "metadata": {
    "ExecuteTime": {
     "end_time": "2022-08-08T16:24:33.135954Z",
     "start_time": "2022-08-08T16:24:33.006421Z"
    }
   },
   "outputs": [],
   "source": [
    "X_train, X_test, y_train, y_test = train_test_split(X_labeled_all, \n",
    "                                                    y_labeled_all, \n",
    "                                                    test_size=0.1,\n",
    "                                                    train_size=0.1,\n",
    "                                                    random_state=0,\n",
    "                                                    stratify=y_labeled_all\n",
    "                                                    )"
   ]
  },
  {
   "cell_type": "code",
   "execution_count": 52,
   "id": "seven-mandate",
   "metadata": {
    "ExecuteTime": {
     "end_time": "2022-08-08T16:24:49.107530Z",
     "start_time": "2022-08-08T16:24:33.137782Z"
    }
   },
   "outputs": [
    {
     "name": "stdout",
     "output_type": "stream",
     "text": [
      "The Peckel data has water: True\n",
      "CPU times: user 1min 9s, sys: 773 ms, total: 1min 10s\n",
      "Wall time: 15.9 s\n"
     ]
    }
   ],
   "source": [
    "%%time\n",
    "\n",
    "print(f'The Peckel data has water: {1 in np.unique(y_labeled_all)}')\n",
    "\n",
    "rf_path = Path('rf.joblib')\n",
    "\n",
    "\n",
    "if (1 not in np.unique(y_labeled_all)):\n",
    "    rf_prev = joblib.load(rf_path)\n",
    "    rf = rf_prev\n",
    "else:  \n",
    "    rf.fit(X_train, \n",
    "           y_train)\n"
   ]
  },
  {
   "cell_type": "code",
   "execution_count": 53,
   "id": "competitive-mortgage",
   "metadata": {
    "ExecuteTime": {
     "end_time": "2022-08-08T16:24:49.571934Z",
     "start_time": "2022-08-08T16:24:49.109214Z"
    }
   },
   "outputs": [
    {
     "name": "stdout",
     "output_type": "stream",
     "text": [
      "CPU times: user 1.87 s, sys: 77.2 ms, total: 1.95 s\n",
      "Wall time: 424 ms\n"
     ]
    }
   ],
   "source": [
    "%%time\n",
    "\n",
    "y_pred = rf.predict(X_test)"
   ]
  },
  {
   "cell_type": "code",
   "execution_count": 54,
   "id": "closing-hybrid",
   "metadata": {
    "ExecuteTime": {
     "end_time": "2022-08-08T16:24:49.611859Z",
     "start_time": "2022-08-08T16:24:49.573649Z"
    }
   },
   "outputs": [],
   "source": [
    "class_dict = {0: 'not_water', \n",
    "              1: 'water'}"
   ]
  },
  {
   "cell_type": "code",
   "execution_count": 55,
   "id": "amazing-currency",
   "metadata": {
    "ExecuteTime": {
     "end_time": "2022-08-08T16:24:49.856524Z",
     "start_time": "2022-08-08T16:24:49.613440Z"
    }
   },
   "outputs": [],
   "source": [
    "y_pred_str = pd.Series([class_dict[class_id] for class_id in y_pred], name='Predicted')\n",
    "y_true_str = pd.Series([class_dict[class_id] for class_id in y_test], name='True')"
   ]
  },
  {
   "cell_type": "markdown",
   "id": "metric-laptop",
   "metadata": {},
   "source": [
    "This gives us how well we did on the labeled test data. Random forests will do pretty well on the labeled data since the labeled data is continugous and the superpixels aggregations will likely be shared across pixels."
   ]
  },
  {
   "cell_type": "code",
   "execution_count": 56,
   "id": "prepared-mission",
   "metadata": {
    "ExecuteTime": {
     "end_time": "2022-08-08T16:24:49.920165Z",
     "start_time": "2022-08-08T16:24:49.858351Z"
    }
   },
   "outputs": [
    {
     "data": {
      "text/html": [
       "<div>\n",
       "<style scoped>\n",
       "    .dataframe tbody tr th:only-of-type {\n",
       "        vertical-align: middle;\n",
       "    }\n",
       "\n",
       "    .dataframe tbody tr th {\n",
       "        vertical-align: top;\n",
       "    }\n",
       "\n",
       "    .dataframe thead th {\n",
       "        text-align: right;\n",
       "    }\n",
       "</style>\n",
       "<table border=\"1\" class=\"dataframe\">\n",
       "  <thead>\n",
       "    <tr style=\"text-align: right;\">\n",
       "      <th>Predicted</th>\n",
       "      <th>not_water</th>\n",
       "      <th>water</th>\n",
       "    </tr>\n",
       "    <tr>\n",
       "      <th>True</th>\n",
       "      <th></th>\n",
       "      <th></th>\n",
       "    </tr>\n",
       "  </thead>\n",
       "  <tbody>\n",
       "    <tr>\n",
       "      <th>not_water</th>\n",
       "      <td>67612</td>\n",
       "      <td>14</td>\n",
       "    </tr>\n",
       "    <tr>\n",
       "      <th>water</th>\n",
       "      <td>41</td>\n",
       "      <td>268</td>\n",
       "    </tr>\n",
       "  </tbody>\n",
       "</table>\n",
       "</div>"
      ],
      "text/plain": [
       "Predicted  not_water  water\n",
       "True                       \n",
       "not_water      67612     14\n",
       "water             41    268"
      ]
     },
     "execution_count": 56,
     "metadata": {},
     "output_type": "execute_result"
    }
   ],
   "source": [
    "df_conf = pd.crosstab(y_true_str, y_pred_str)\n",
    "df_conf"
   ]
  },
  {
   "cell_type": "code",
   "execution_count": 57,
   "id": "limited-conditioning",
   "metadata": {
    "ExecuteTime": {
     "end_time": "2022-08-08T16:24:49.960832Z",
     "start_time": "2022-08-08T16:24:49.921709Z"
    }
   },
   "outputs": [
    {
     "data": {
      "text/plain": [
       "(723021, 1)"
      ]
     },
     "execution_count": 57,
     "metadata": {},
     "output_type": "execute_result"
    }
   ],
   "source": [
    "mask_features.shape"
   ]
  },
  {
   "cell_type": "code",
   "execution_count": 58,
   "id": "known-magnitude",
   "metadata": {
    "ExecuteTime": {
     "end_time": "2022-08-08T16:24:50.035251Z",
     "start_time": "2022-08-08T16:24:49.962500Z"
    }
   },
   "outputs": [],
   "source": [
    "X_all = all_features[~mask_features.ravel(), \n",
    "                     ...]"
   ]
  },
  {
   "cell_type": "code",
   "execution_count": 59,
   "id": "active-significance",
   "metadata": {
    "ExecuteTime": {
     "end_time": "2022-08-08T16:24:53.754908Z",
     "start_time": "2022-08-08T16:24:50.036977Z"
    }
   },
   "outputs": [
    {
     "name": "stdout",
     "output_type": "stream",
     "text": [
      "CPU times: user 17.1 s, sys: 743 ms, total: 17.9 s\n",
      "Wall time: 3.68 s\n"
     ]
    }
   ],
   "source": [
    "%%time\n",
    "\n",
    "y_all_temp = rf.predict(X_all)"
   ]
  },
  {
   "cell_type": "code",
   "execution_count": 60,
   "id": "pursuant-stage",
   "metadata": {
    "ExecuteTime": {
     "end_time": "2022-08-08T16:24:53.798180Z",
     "start_time": "2022-08-08T16:24:53.756772Z"
    }
   },
   "outputs": [],
   "source": [
    "y_all = np.zeros(mask_features.shape)\n",
    "y_all[~mask_features] = y_all_temp"
   ]
  },
  {
   "cell_type": "code",
   "execution_count": 61,
   "id": "related-lotus",
   "metadata": {
    "ExecuteTime": {
     "end_time": "2022-08-08T16:24:58.490114Z",
     "start_time": "2022-08-08T16:24:53.799925Z"
    }
   },
   "outputs": [],
   "source": [
    "y_arr = get_array_from_features(segmentations[0], y_all.reshape(-1, 1))\n",
    "\n",
    "y_arr[mask] = 255"
   ]
  },
  {
   "cell_type": "code",
   "execution_count": 62,
   "id": "selected-adoption",
   "metadata": {
    "ExecuteTime": {
     "end_time": "2022-08-08T16:24:58.583416Z",
     "start_time": "2022-08-08T16:24:58.491964Z"
    }
   },
   "outputs": [],
   "source": [
    "p = profile_cropped.copy()\n",
    "p['count'] = 1 \n",
    "p['dtype'] = np.uint8\n",
    "p['nodata'] = 255\n",
    "with rasterio.open(out_class_dir / f'classification_{PLANET_ID}.tif', 'w', **p) as ds:\n",
    "    ds.write(y_arr.astype(np.uint8), 1)"
   ]
  },
  {
   "cell_type": "code",
   "execution_count": 63,
   "id": "automated-skirt",
   "metadata": {
    "ExecuteTime": {
     "end_time": "2022-08-08T16:24:58.930040Z",
     "start_time": "2022-08-08T16:24:58.585082Z"
    }
   },
   "outputs": [
    {
     "data": {
      "text/plain": [
       "<matplotlib.image.AxesImage at 0x1d4d1fca0>"
      ]
     },
     "execution_count": 63,
     "metadata": {},
     "output_type": "execute_result"
    },
    {
     "data": {
      "image/png": "[encoded data removed]",
      "text/plain": [
       "<Figure size 432x288 with 1 Axes>"
      ]
     },
     "metadata": {
      "needs_background": "light"
     },
     "output_type": "display_data"
    }
   ],
   "source": [
    "y_arr_plot = y_arr.astype(float)\n",
    "y_arr_plot[y_arr_plot == 255] = np.nan\n",
    "plt.imshow(y_arr_plot, interpolation='none', vmax=1)"
   ]
  },
  {
   "cell_type": "markdown",
   "id": "formed-concentration",
   "metadata": {},
   "source": [
    "# Feature Importances\n",
    "\n",
    "See: https://scikit-learn.org/stable/modules/generated/sklearn.ensemble.RandomForestClassifier.html#sklearn.ensemble.RandomForestClassifier.feature_importances_"
   ]
  },
  {
   "cell_type": "code",
   "execution_count": 64,
   "id": "framed-alberta",
   "metadata": {
    "ExecuteTime": {
     "end_time": "2022-08-08T16:24:59.047089Z",
     "start_time": "2022-08-08T16:24:58.933295Z"
    }
   },
   "outputs": [
    {
     "data": {
      "text/plain": [
       "array([0.13664347, 0.02905823, 0.02801639, 0.29196514, 0.03072279,\n",
       "       0.03066615, 0.368901  , 0.03542821, 0.04859862])"
      ]
     },
     "execution_count": 64,
     "metadata": {},
     "output_type": "execute_result"
    }
   ],
   "source": [
    "rf.feature_importances_"
   ]
  },
  {
   "cell_type": "markdown",
   "id": "final-sunrise",
   "metadata": {},
   "source": [
    "# Save Data"
   ]
  },
  {
   "cell_type": "code",
   "execution_count": 65,
   "id": "liquid-trainer",
   "metadata": {
    "ExecuteTime": {
     "end_time": "2022-08-08T16:24:59.126068Z",
     "start_time": "2022-08-08T16:24:59.050743Z"
    }
   },
   "outputs": [
    {
     "name": "stderr",
     "output_type": "stream",
     "text": [
      "/var/folders/s6/fbsc26cd0ddffbp3_knts_9c0wcxj1/T/ipykernel_48861/4294218237.py:1: FutureWarning: Using short name for 'orient' is deprecated. Only the options: ('dict', list, 'series', 'split', 'records', 'index') will be used in a future version. Use one of the above to silence this warning.\n",
      "  chip_data = df_chip.to_dict('record')[0]\n"
     ]
    },
    {
     "data": {
      "text/plain": [
       "{'site_name': '3_40',\n",
       " 'water_content': 3.0,\n",
       " 'geometry': <shapely.geometry.polygon.Polygon at 0x1d1a7cc40>}"
      ]
     },
     "execution_count": 65,
     "metadata": {},
     "output_type": "execute_result"
    }
   ],
   "source": [
    "chip_data = df_chip.to_dict('record')[0]\n",
    "chip_data"
   ]
  },
  {
   "cell_type": "code",
   "execution_count": 66,
   "id": "entitled-editing",
   "metadata": {
    "ExecuteTime": {
     "end_time": "2022-08-08T16:24:59.178298Z",
     "start_time": "2022-08-08T16:24:59.128413Z"
    }
   },
   "outputs": [
    {
     "data": {
      "text/plain": [
       "{'not_water': {'not_water': 67612, 'water': 41},\n",
       " 'water': {'not_water': 14, 'water': 268}}"
      ]
     },
     "execution_count": 66,
     "metadata": {},
     "output_type": "execute_result"
    }
   ],
   "source": [
    "df_conf.to_dict()"
   ]
  },
  {
   "cell_type": "code",
   "execution_count": 67,
   "id": "directed-chosen",
   "metadata": {
    "ExecuteTime": {
     "end_time": "2022-08-08T16:24:59.285335Z",
     "start_time": "2022-08-08T16:24:59.181744Z"
    }
   },
   "outputs": [],
   "source": [
    "fi = list(map(lambda x: f'{x:06f}', rf.feature_importances_))"
   ]
  },
  {
   "cell_type": "code",
   "execution_count": 68,
   "id": "serial-venue",
   "metadata": {
    "ExecuteTime": {
     "end_time": "2022-08-08T16:24:59.341877Z",
     "start_time": "2022-08-08T16:24:59.287381Z"
    }
   },
   "outputs": [],
   "source": [
    "BUCKET_NAME = 'opera-calval-dswx-jupyter'"
   ]
  },
  {
   "cell_type": "code",
   "execution_count": 69,
   "id": "described-imaging",
   "metadata": {
    "ExecuteTime": {
     "end_time": "2022-08-08T16:24:59.400221Z",
     "start_time": "2022-08-08T16:24:59.345006Z"
    }
   },
   "outputs": [
    {
     "data": {
      "text/plain": [
       "{'site_name': '3_40',\n",
       " 'water_content': 3.0,\n",
       " 'geometry': <shapely.geometry.polygon.Polygon at 0x1d1a7cc40>}"
      ]
     },
     "execution_count": 69,
     "metadata": {},
     "output_type": "execute_result"
    }
   ],
   "source": [
    "chip_data"
   ]
  },
  {
   "cell_type": "code",
   "execution_count": 70,
   "id": "naval-chile",
   "metadata": {
    "ExecuteTime": {
     "end_time": "2022-08-08T16:25:00.453808Z",
     "start_time": "2022-08-08T16:24:59.402112Z"
    }
   },
   "outputs": [
    {
     "data": {
      "text/plain": [
       "{'geometry': <shapely.geometry.polygon.Polygon at 0x1d1a7cc40>,\n",
       " 'feature_list': 'pixels (rgb) ,mean_superpixel (rgb for 3 segs),std_superpixels for rgb image (rgb for 3 segs)',\n",
       " 'feature_importances': '0.136643,0.029058,0.028016,0.291965,0.030723,0.030666,0.368901,0.035428,0.048599',\n",
       " 'accuracy': {'not_water': {'not_water': 67612, 'water': 41},\n",
       "  'water': {'not_water': 14, 'water': 268}},\n",
       " 's3_bucket': 'opera-calval-dswx-jupyter',\n",
       " 's3_prefix': 'classification_outputs_peckel/20211003_161639_91_241d',\n",
       " 's3_keys': 'chip_cropped_20211003_161639_91_241d.tif,classification_20211003_161639_91_241d.tif,occurence_20211003_161639_91_241d.tif,peckel_training_20211003_161639_91_241d.tif,percent_class_features_20211003_161639_91_241d.tif,superpixel_means_scale-0_20211003_161639_91_241d.tif,training_data_reprojected_20211003_161639_91_241d.tif',\n",
       " 'chip_id': '3_40',\n",
       " 'strata': 3.0,\n",
       " 'planet_id': '20211003_161639_91_241d',\n",
       " 'auxiliary_training': 'peckel',\n",
       " 'class_breakdown': {0: -1.0, 1: -1.0}}"
      ]
     },
     "execution_count": 70,
     "metadata": {},
     "output_type": "execute_result"
    }
   ],
   "source": [
    "class_data = {'geometry': chip_data['geometry'],\n",
    "              'feature_list': 'pixels (rgb) ,mean_superpixel (rgb for 3 segs),std_superpixels for rgb image (rgb for 3 segs)',\n",
    "              'feature_importances': ','.join(fi),\n",
    "              'accuracy': df_conf.to_dict(),\n",
    "              's3_bucket': BUCKET_NAME,\n",
    "              's3_prefix': str(out_class_dir),\n",
    "              's3_keys': ','.join([x.name for x in sorted(list(out_class_dir.glob('*')))]),\n",
    "              'chip_id': chip_data['site_name'],\n",
    "              'strata': chip_data['water_content'],\n",
    "              'planet_id': PLANET_ID,\n",
    "              'auxiliary_training': TRAINING_TYPE,\n",
    "              'class_breakdown': {int(c): y_arr[~mask].size / (~mask.astype(int)).sum() \n",
    "                                  for c in np.unique(y_arr) if c != 255},\n",
    "             }\n",
    "class_data"
   ]
  },
  {
   "cell_type": "code",
   "execution_count": 71,
   "id": "visible-saturn",
   "metadata": {
    "ExecuteTime": {
     "end_time": "2022-08-08T16:25:00.498811Z",
     "start_time": "2022-08-08T16:25:00.455676Z"
    }
   },
   "outputs": [],
   "source": [
    "df_out = gpd.GeoDataFrame([class_data],\n",
    "                           crs=df_chip.crs)"
   ]
  },
  {
   "cell_type": "code",
   "execution_count": 72,
   "id": "tamil-gambling",
   "metadata": {
    "ExecuteTime": {
     "end_time": "2022-08-08T16:25:00.556545Z",
     "start_time": "2022-08-08T16:25:00.500828Z"
    }
   },
   "outputs": [],
   "source": [
    "df_out.to_file(out_class_dir / f'metadata.geojson', driver='GeoJSON')\n"
   ]
  },
  {
   "cell_type": "markdown",
   "id": "hungry-pepper",
   "metadata": {},
   "source": [
    "# Save Running Model\n",
    "\n",
    "Save model if does not exist"
   ]
  },
  {
   "cell_type": "code",
   "execution_count": 73,
   "id": "fresh-lindsay",
   "metadata": {
    "ExecuteTime": {
     "end_time": "2022-08-08T16:25:00.600647Z",
     "start_time": "2022-08-08T16:25:00.558448Z"
    }
   },
   "outputs": [],
   "source": [
    "if not rf_path.exists():\n",
    "    joblib.dump(rf, f'rf.joblib') \n",
    "\n",
    "    rf = None"
   ]
  }
 ],
 "metadata": {
  "kernelspec": {
   "display_name": "dswx_val",
   "language": "python",
   "name": "dswx_val"
  },
  "language_info": {
   "codemirror_mode": {
    "name": "ipython",
    "version": 3
   },
   "file_extension": ".py",
   "mimetype": "text/x-python",
   "name": "python",
   "nbconvert_exporter": "python",
   "pygments_lexer": "ipython3",
   "version": "3.10.5"
  }
 },
 "nbformat": 4,
 "nbformat_minor": 5
}
