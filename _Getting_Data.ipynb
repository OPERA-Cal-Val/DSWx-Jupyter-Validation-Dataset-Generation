{
 "cells": [
  {
   "cell_type": "code",
   "execution_count": null,
   "id": "unlimited-movie",
   "metadata": {
    "ExecuteTime": {
     "end_time": "2022-07-11T21:38:03.714154Z",
     "start_time": "2022-07-11T21:38:03.711687Z"
    }
   },
   "outputs": [],
   "source": [
    "import geopandas as gpd\n",
    "import boto3"
   ]
  },
  {
   "cell_type": "code",
   "execution_count": null,
   "id": "tutorial-quantum",
   "metadata": {
    "ExecuteTime": {
     "end_time": "2022-07-11T21:38:04.049547Z",
     "start_time": "2022-07-11T21:38:04.043250Z"
    }
   },
   "outputs": [],
   "source": [
    "s3 = boto3.resource('s3')"
   ]
  },
  {
   "cell_type": "code",
   "execution_count": null,
   "id": "painted-gender",
   "metadata": {
    "ExecuteTime": {
     "end_time": "2022-07-11T21:38:04.342231Z",
     "start_time": "2022-07-11T21:38:04.339549Z"
    }
   },
   "outputs": [],
   "source": [
    "bucket_name = 'opera-calval-database-dswx'"
   ]
  },
  {
   "cell_type": "code",
   "execution_count": null,
   "id": "shared-wealth",
   "metadata": {
    "ExecuteTime": {
     "end_time": "2022-07-11T21:38:05.072321Z",
     "start_time": "2022-07-11T21:38:04.749329Z"
    }
   },
   "outputs": [],
   "source": [
    "obj = s3.Object(bucket_name,'image.geojson')\n",
    "image_table_data = obj.get()['Body']\n",
    "images = gpd.read_file(image_table_data)\n",
    "images.head()"
   ]
  },
  {
   "cell_type": "code",
   "execution_count": null,
   "id": "eligible-laptop",
   "metadata": {
    "ExecuteTime": {
     "end_time": "2022-07-11T21:38:08.623660Z",
     "start_time": "2022-07-11T21:38:08.619315Z"
    }
   },
   "outputs": [],
   "source": [
    "images.image_name.tolist()"
   ]
  }
 ],
 "metadata": {
  "kernelspec": {
   "display_name": "dswx_val",
   "language": "python",
   "name": "dswx_val"
  },
  "language_info": {
   "codemirror_mode": {
    "name": "ipython",
    "version": 3
   },
   "file_extension": ".py",
   "mimetype": "text/x-python",
   "name": "python",
   "nbconvert_exporter": "python",
   "pygments_lexer": "ipython3",
   "version": "3.10.5"
  }
 },
 "nbformat": 4,
 "nbformat_minor": 5
}
