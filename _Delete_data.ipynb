{
 "cells": [
  {
   "cell_type": "code",
   "execution_count": 1,
   "id": "express-translator",
   "metadata": {
    "ExecuteTime": {
     "end_time": "2022-08-03T18:26:34.239560Z",
     "start_time": "2022-08-03T18:26:33.482841Z"
    }
   },
   "outputs": [],
   "source": [
    "import geopandas as gpd\n",
    "import boto3"
   ]
  },
  {
   "cell_type": "code",
   "execution_count": 2,
   "id": "musical-industry",
   "metadata": {
    "ExecuteTime": {
     "end_time": "2022-08-03T18:26:34.504200Z",
     "start_time": "2022-08-03T18:26:34.245936Z"
    }
   },
   "outputs": [],
   "source": [
    "s3 = boto3.resource('s3')"
   ]
  },
  {
   "cell_type": "code",
   "execution_count": 3,
   "id": "processed-constraint",
   "metadata": {
    "ExecuteTime": {
     "end_time": "2022-08-03T18:26:34.509083Z",
     "start_time": "2022-08-03T18:26:34.506873Z"
    }
   },
   "outputs": [],
   "source": [
    "BUCKET_NAME = 'opera-calval-dswx-jupyter'"
   ]
  },
  {
   "cell_type": "code",
   "execution_count": 4,
   "id": "sporting-documentation",
   "metadata": {
    "ExecuteTime": {
     "end_time": "2022-08-03T18:26:35.474162Z",
     "start_time": "2022-08-03T18:26:35.002855Z"
    }
   },
   "outputs": [
    {
     "data": {
      "text/plain": [
       "[]"
      ]
     },
     "execution_count": 4,
     "metadata": {},
     "output_type": "execute_result"
    }
   ],
   "source": [
    "bucket = s3.Bucket(BUCKET_NAME)\n",
    "objects = bucket.objects\n",
    "objects = list(objects.all())\n",
    "objects[:2]\n",
    "#objects[:5]"
   ]
  },
  {
   "cell_type": "code",
   "execution_count": 5,
   "id": "aggressive-geography",
   "metadata": {
    "ExecuteTime": {
     "end_time": "2022-08-03T18:26:37.355123Z",
     "start_time": "2022-08-03T18:26:37.002224Z"
    }
   },
   "outputs": [
    {
     "ename": "NameError",
     "evalue": "name 'ob' is not defined",
     "output_type": "error",
     "traceback": [
      "\u001b[0;31m---------------------------------------------------------------------------\u001b[0m",
      "\u001b[0;31mNameError\u001b[0m                                 Traceback (most recent call last)",
      "Input \u001b[0;32mIn [5]\u001b[0m, in \u001b[0;36m<cell line: 1>\u001b[0;34m()\u001b[0m\n\u001b[0;32m----> 1\u001b[0m \u001b[38;5;28mdir\u001b[39m(\u001b[43mob\u001b[49m)\n",
      "\u001b[0;31mNameError\u001b[0m: name 'ob' is not defined"
     ]
    }
   ],
   "source": [
    "#dir(ob)"
   ]
  },
  {
   "cell_type": "code",
   "execution_count": 6,
   "id": "laden-collection",
   "metadata": {
    "ExecuteTime": {
     "end_time": "2022-08-03T18:26:51.061335Z",
     "start_time": "2022-08-03T18:26:51.059234Z"
    }
   },
   "outputs": [],
   "source": [
    "# ob = objects[0]\n",
    "# ob.key"
   ]
  },
  {
   "cell_type": "code",
   "execution_count": 7,
   "id": "ongoing-equilibrium",
   "metadata": {
    "ExecuteTime": {
     "end_time": "2022-08-03T18:26:53.717101Z",
     "start_time": "2022-08-03T18:26:53.714769Z"
    }
   },
   "outputs": [],
   "source": [
    "#[ob.delete() for ob in objects]"
   ]
  }
 ],
 "metadata": {
  "kernelspec": {
   "display_name": "dswx_val",
   "language": "python",
   "name": "dswx_val"
  },
  "language_info": {
   "codemirror_mode": {
    "name": "ipython",
    "version": 3
   },
   "file_extension": ".py",
   "mimetype": "text/x-python",
   "name": "python",
   "nbconvert_exporter": "python",
   "pygments_lexer": "ipython3",
   "version": "3.10.5"
  }
 },
 "nbformat": 4,
 "nbformat_minor": 5
}
