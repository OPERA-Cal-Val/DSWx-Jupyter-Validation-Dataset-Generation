{
 "cells": [
  {
   "cell_type": "code",
   "execution_count": null,
   "id": "architectural-occasions",
   "metadata": {
    "ExecuteTime": {
     "end_time": "2022-07-09T00:00:21.822075Z",
     "start_time": "2022-07-09T00:00:21.742112Z"
    }
   },
   "outputs": [],
   "source": [
    "from planet import api\n",
    "from dotenv import dotenv_values\n",
    "from pathlib import Path"
   ]
  },
  {
   "cell_type": "code",
   "execution_count": null,
   "id": "chubby-president",
   "metadata": {
    "ExecuteTime": {
     "end_time": "2022-07-09T00:00:22.745525Z",
     "start_time": "2022-07-09T00:00:22.742212Z"
    }
   },
   "outputs": [],
   "source": [
    "config = dotenv_values()\n",
    "planet_api_key = config['PLANET_API_KEY']"
   ]
  },
  {
   "cell_type": "code",
   "execution_count": null,
   "id": "substantial-traveler",
   "metadata": {
    "ExecuteTime": {
     "end_time": "2022-06-24T18:33:09.550320Z",
     "start_time": "2022-06-24T18:33:09.533068Z"
    },
    "tags": [
     "parameters"
    ]
   },
   "outputs": [],
   "source": [
    "PLANET_SCENE_ID = '20211003_161639_91_241d'"
   ]
  },
  {
   "cell_type": "code",
   "execution_count": null,
   "id": "aggressive-catholic",
   "metadata": {
    "ExecuteTime": {
     "end_time": "2022-06-24T18:33:10.464809Z",
     "start_time": "2022-06-24T18:33:09.552309Z"
    }
   },
   "outputs": [],
   "source": [
    "client = api.ClientV1(api_key=planet_api_key)\n",
    "req = client.get_item('PSScene', \n",
    "                      PLANET_SCENE_ID)\n",
    "resp = req.get()\n",
    "resp.keys()"
   ]
  },
  {
   "cell_type": "code",
   "execution_count": null,
   "id": "rolled-involvement",
   "metadata": {
    "ExecuteTime": {
     "end_time": "2022-06-24T18:33:10.485588Z",
     "start_time": "2022-06-24T18:33:10.466612Z"
    }
   },
   "outputs": [],
   "source": [
    "resp['assets']"
   ]
  },
  {
   "cell_type": "markdown",
   "id": "indoor-uncle",
   "metadata": {},
   "source": [
    "# Download Data"
   ]
  },
  {
   "cell_type": "code",
   "execution_count": null,
   "id": "crucial-apache",
   "metadata": {
    "ExecuteTime": {
     "end_time": "2022-06-24T18:33:10.508605Z",
     "start_time": "2022-06-24T18:33:10.487629Z"
    }
   },
   "outputs": [],
   "source": [
    "from planet.api import downloader\n",
    "\n",
    "client = api.ClientV1(api_key=planet_api_key)\n",
    "downloader = downloader.create(client)\n",
    "downloader"
   ]
  },
  {
   "cell_type": "code",
   "execution_count": null,
   "id": "conceptual-architect",
   "metadata": {
    "ExecuteTime": {
     "end_time": "2022-06-24T18:33:10.528250Z",
     "start_time": "2022-06-24T18:33:10.510551Z"
    }
   },
   "outputs": [],
   "source": [
    "items_to_download = [resp]\n",
    "asset_types = ['ortho_analytic_8b_sr']"
   ]
  },
  {
   "cell_type": "code",
   "execution_count": null,
   "id": "hungry-toner",
   "metadata": {
    "ExecuteTime": {
     "end_time": "2022-06-24T18:33:10.549353Z",
     "start_time": "2022-06-24T18:33:10.530209Z"
    }
   },
   "outputs": [],
   "source": [
    "downloader.stats()"
   ]
  },
  {
   "cell_type": "code",
   "execution_count": null,
   "id": "junior-palace",
   "metadata": {
    "ExecuteTime": {
     "end_time": "2022-06-24T18:33:10.570936Z",
     "start_time": "2022-06-24T18:33:10.553090Z"
    }
   },
   "outputs": [],
   "source": [
    "# downloader.shutdown()"
   ]
  },
  {
   "cell_type": "code",
   "execution_count": null,
   "id": "confident-clothing",
   "metadata": {
    "ExecuteTime": {
     "end_time": "2022-06-24T18:33:11.477504Z",
     "start_time": "2022-06-24T18:33:10.573072Z"
    }
   },
   "outputs": [],
   "source": [
    "n = len(items_to_download)\n",
    "resp_ac = downloader.activate(iter(items_to_download), asset_types)\n",
    "resp_ac"
   ]
  },
  {
   "cell_type": "code",
   "execution_count": null,
   "id": "incomplete-qualification",
   "metadata": {
    "ExecuteTime": {
     "end_time": "2022-06-24T18:33:11.495824Z",
     "start_time": "2022-06-24T18:33:11.479309Z"
    }
   },
   "outputs": [],
   "source": [
    "# downloader.shutdown()"
   ]
  },
  {
   "cell_type": "code",
   "execution_count": null,
   "id": "minus-iraqi",
   "metadata": {
    "ExecuteTime": {
     "end_time": "2022-06-24T18:33:11.514458Z",
     "start_time": "2022-06-24T18:33:11.497716Z"
    }
   },
   "outputs": [],
   "source": [
    "out_dir = Path('local_chips')\n",
    "out_dir.mkdir(exist_ok=True)"
   ]
  },
  {
   "cell_type": "code",
   "execution_count": null,
   "id": "meaning-checkout",
   "metadata": {
    "ExecuteTime": {
     "end_time": "2022-06-24T18:33:14.746187Z",
     "start_time": "2022-06-24T18:33:11.516250Z"
    }
   },
   "outputs": [],
   "source": [
    "n = len(items_to_download)\n",
    "resp_dl = downloader.download(iter(items_to_download), asset_types, str(out_dir))\n",
    "resp_dl"
   ]
  },
  {
   "cell_type": "code",
   "execution_count": null,
   "id": "perceived-envelope",
   "metadata": {
    "ExecuteTime": {
     "end_time": "2022-06-24T18:33:14.765804Z",
     "start_time": "2022-06-24T18:33:14.748084Z"
    }
   },
   "outputs": [],
   "source": [
    "downloader.stats()"
   ]
  }
 ],
 "metadata": {
  "celltoolbar": "Tags",
  "kernelspec": {
   "display_name": "dswx_val",
   "language": "python",
   "name": "dswx_val"
  },
  "language_info": {
   "codemirror_mode": {
    "name": "ipython",
    "version": 3
   },
   "file_extension": ".py",
   "mimetype": "text/x-python",
   "name": "python",
   "nbconvert_exporter": "python",
   "pygments_lexer": "ipython3",
   "version": "3.10.5"
  }
 },
 "nbformat": 4,
 "nbformat_minor": 5
}
