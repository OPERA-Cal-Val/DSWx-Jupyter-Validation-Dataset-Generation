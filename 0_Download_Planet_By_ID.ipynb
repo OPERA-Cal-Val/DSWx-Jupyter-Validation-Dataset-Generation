{
 "cells": [
  {
   "cell_type": "code",
   "execution_count": 1,
   "id": "peripheral-aerospace",
   "metadata": {
    "ExecuteTime": {
     "end_time": "2022-07-27T20:07:11.792643Z",
     "start_time": "2022-07-27T20:07:11.678281Z"
    }
   },
   "outputs": [
    {
     "name": "stderr",
     "output_type": "stream",
     "text": [
      "/Users/cmarshak/opt/anaconda3/envs/dswx_val/lib/python3.10/site-packages/planet/api/__init__.py:38: ClientV1DeprecationWarning: The planet.api module is deprecated and will be removed in version 2.0.0. For more details please see the discussion at https://github.com/planetlabs/planet-client-python/discussions.\n",
      "  warnings.warn(\n"
     ]
    }
   ],
   "source": [
    "from planet import api\n",
    "from dotenv import dotenv_values\n",
    "from pathlib import Path"
   ]
  },
  {
   "cell_type": "code",
   "execution_count": 2,
   "id": "entire-impression",
   "metadata": {
    "ExecuteTime": {
     "end_time": "2022-07-27T20:07:13.370042Z",
     "start_time": "2022-07-27T20:07:13.366270Z"
    }
   },
   "outputs": [],
   "source": [
    "config = dotenv_values()\n",
    "planet_api_key = config['PLANET_API_KEY']"
   ]
  },
  {
   "cell_type": "code",
   "execution_count": 3,
   "id": "operating-ready",
   "metadata": {
    "ExecuteTime": {
     "end_time": "2022-07-27T20:07:19.952984Z",
     "start_time": "2022-07-27T20:07:19.950366Z"
    },
    "tags": [
     "parameters"
    ]
   },
   "outputs": [],
   "source": [
    "PLANET_SCENE_ID = '20211003_161639_91_241d'"
   ]
  },
  {
   "cell_type": "code",
   "execution_count": 4,
   "id": "rotary-residence",
   "metadata": {
    "ExecuteTime": {
     "end_time": "2022-07-27T20:07:20.860560Z",
     "start_time": "2022-07-27T20:07:20.454059Z"
    }
   },
   "outputs": [
    {
     "data": {
      "text/plain": [
       "dict_keys(['_links', '_permissions', 'assets', 'geometry', 'id', 'properties', 'type'])"
      ]
     },
     "execution_count": 4,
     "metadata": {},
     "output_type": "execute_result"
    }
   ],
   "source": [
    "client = api.ClientV1(api_key=planet_api_key)\n",
    "req = client.get_item('PSScene', \n",
    "                      PLANET_SCENE_ID)\n",
    "resp = req.get()\n",
    "resp.keys()"
   ]
  },
  {
   "cell_type": "code",
   "execution_count": 5,
   "id": "recorded-protein",
   "metadata": {
    "ExecuteTime": {
     "end_time": "2022-07-27T20:07:37.234100Z",
     "start_time": "2022-07-27T20:07:37.230003Z"
    }
   },
   "outputs": [
    {
     "data": {
      "text/plain": [
       "['basic_analytic_4b',\n",
       " 'basic_analytic_4b_rpc',\n",
       " 'basic_analytic_4b_xml',\n",
       " 'basic_analytic_8b',\n",
       " 'basic_analytic_8b_xml',\n",
       " 'basic_udm2',\n",
       " 'ortho_analytic_4b',\n",
       " 'ortho_analytic_4b_sr',\n",
       " 'ortho_analytic_4b_xml',\n",
       " 'ortho_analytic_8b',\n",
       " 'ortho_analytic_8b_sr',\n",
       " 'ortho_analytic_8b_xml',\n",
       " 'ortho_udm2',\n",
       " 'ortho_visual']"
      ]
     },
     "execution_count": 5,
     "metadata": {},
     "output_type": "execute_result"
    }
   ],
   "source": [
    "resp['assets']"
   ]
  },
  {
   "cell_type": "markdown",
   "id": "pediatric-shirt",
   "metadata": {},
   "source": [
    "# Download Data"
   ]
  },
  {
   "cell_type": "code",
   "execution_count": 6,
   "id": "senior-petroleum",
   "metadata": {
    "ExecuteTime": {
     "end_time": "2022-07-27T20:07:38.283824Z",
     "start_time": "2022-07-27T20:07:38.277889Z"
    }
   },
   "outputs": [
    {
     "data": {
      "text/plain": [
       "<planet.api.downloader._Downloader at 0x1120f2890>"
      ]
     },
     "execution_count": 6,
     "metadata": {},
     "output_type": "execute_result"
    }
   ],
   "source": [
    "from planet.api import downloader\n",
    "\n",
    "client = api.ClientV1(api_key=planet_api_key)\n",
    "downloader = downloader.create(client)\n",
    "downloader"
   ]
  },
  {
   "cell_type": "code",
   "execution_count": 7,
   "id": "accomplished-palmer",
   "metadata": {
    "ExecuteTime": {
     "end_time": "2022-07-27T20:07:38.896035Z",
     "start_time": "2022-07-27T20:07:38.893627Z"
    }
   },
   "outputs": [],
   "source": [
    "items_to_download = [resp]\n",
    "asset_types = ['ortho_analytic_8b_sr']"
   ]
  },
  {
   "cell_type": "code",
   "execution_count": 8,
   "id": "waiting-complaint",
   "metadata": {
    "ExecuteTime": {
     "end_time": "2022-07-27T20:07:39.425394Z",
     "start_time": "2022-07-27T20:07:39.421729Z"
    }
   },
   "outputs": [
    {
     "data": {
      "text/plain": [
       "{'paging': False, 'activating': 0, 'pending': 0, 'complete': 0}"
      ]
     },
     "execution_count": 8,
     "metadata": {},
     "output_type": "execute_result"
    }
   ],
   "source": [
    "downloader.stats()"
   ]
  },
  {
   "cell_type": "code",
   "execution_count": 9,
   "id": "bizarre-importance",
   "metadata": {
    "ExecuteTime": {
     "end_time": "2022-07-27T20:07:39.871971Z",
     "start_time": "2022-07-27T20:07:39.869766Z"
    }
   },
   "outputs": [],
   "source": [
    "# downloader.shutdown()"
   ]
  },
  {
   "cell_type": "code",
   "execution_count": 10,
   "id": "earlier-state",
   "metadata": {
    "ExecuteTime": {
     "end_time": "2022-07-27T20:23:22.586423Z",
     "start_time": "2022-07-27T20:07:40.341839Z"
    }
   },
   "outputs": [
    {
     "data": {
      "text/plain": [
       "{'paging': False, 'activating': 0, 'pending': 0, 'complete': 1}"
      ]
     },
     "execution_count": 10,
     "metadata": {},
     "output_type": "execute_result"
    }
   ],
   "source": [
    "n = len(items_to_download)\n",
    "resp_ac = downloader.activate(iter(items_to_download), asset_types)\n",
    "resp_ac"
   ]
  },
  {
   "cell_type": "code",
   "execution_count": null,
   "id": "enhanced-replacement",
   "metadata": {
    "ExecuteTime": {
     "end_time": "2022-06-24T18:33:11.495824Z",
     "start_time": "2022-06-24T18:33:11.479309Z"
    }
   },
   "outputs": [],
   "source": [
    "# downloader.shutdown()"
   ]
  },
  {
   "cell_type": "code",
   "execution_count": null,
   "id": "cordless-baseball",
   "metadata": {
    "ExecuteTime": {
     "end_time": "2022-06-24T18:33:11.514458Z",
     "start_time": "2022-06-24T18:33:11.497716Z"
    }
   },
   "outputs": [],
   "source": [
    "out_dir = Path('local_chips')\n",
    "out_dir.mkdir(exist_ok=True)"
   ]
  },
  {
   "cell_type": "code",
   "execution_count": null,
   "id": "immune-senator",
   "metadata": {
    "ExecuteTime": {
     "end_time": "2022-06-24T18:33:14.746187Z",
     "start_time": "2022-06-24T18:33:11.516250Z"
    }
   },
   "outputs": [],
   "source": [
    "n = len(items_to_download)\n",
    "resp_dl = downloader.download(iter(items_to_download), asset_types, str(out_dir))\n",
    "resp_dl"
   ]
  },
  {
   "cell_type": "code",
   "execution_count": null,
   "id": "environmental-experiment",
   "metadata": {
    "ExecuteTime": {
     "end_time": "2022-06-24T18:33:14.765804Z",
     "start_time": "2022-06-24T18:33:14.748084Z"
    }
   },
   "outputs": [],
   "source": [
    "downloader.stats()"
   ]
  }
 ],
 "metadata": {
  "celltoolbar": "Tags",
  "kernelspec": {
   "display_name": "dswx_val",
   "language": "python",
   "name": "dswx_val"
  },
  "language_info": {
   "codemirror_mode": {
    "name": "ipython",
    "version": 3
   },
   "file_extension": ".py",
   "mimetype": "text/x-python",
   "name": "python",
   "nbconvert_exporter": "python",
   "pygments_lexer": "ipython3",
   "version": "3.10.5"
  }
 },
 "nbformat": 4,
 "nbformat_minor": 5
}
